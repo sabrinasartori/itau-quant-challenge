{
 "cells": [
  {
   "cell_type": "code",
   "execution_count": 2,
   "metadata": {},
   "outputs": [],
   "source": [
    "import requests\n",
    "import numpy as np\n",
    "import pandas as pd\n",
    "import seaborn as sns\n",
    "import matplotlib.pyplot as plt\n",
    "import os\n",
    "import yfinance as yf\n",
    "\n",
    "while 'notebooks' in os.getcwd():\n",
    "    os.chdir(\"..\")\n",
    "api_key = \"demo\""
   ]
  },
  {
   "cell_type": "code",
   "execution_count": 3,
   "metadata": {},
   "outputs": [],
   "source": [
    "aapl_news = pd.read_pickle(\"data/apple_news_sentiment.pkl\")"
   ]
  },
  {
   "cell_type": "code",
   "execution_count": 4,
   "metadata": {},
   "outputs": [
    {
     "name": "stdout",
     "output_type": "stream",
     "text": [
      "[*********************100%***********************]  1 of 1 completed\n"
     ]
    }
   ],
   "source": [
    "aapl_prices = yf.download(\n",
    "    'AAPL',\n",
    "    start='2019-12-30',\n",
    "    end='2022-12-30'\n",
    ")"
   ]
  },
  {
   "cell_type": "code",
   "execution_count": 5,
   "metadata": {},
   "outputs": [
    {
     "name": "stdout",
     "output_type": "stream",
     "text": [
      "[*********************100%***********************]  1 of 1 completed\n"
     ]
    }
   ],
   "source": [
    "sp500_prices = yf.download(\n",
    "    'SPY',\n",
    "    start='2019-12-30',\n",
    "    end='2022-12-30'\n",
    ")"
   ]
  },
  {
   "cell_type": "code",
   "execution_count": 6,
   "metadata": {},
   "outputs": [],
   "source": [
    "sp500_prices.index = sp500_prices.index.date"
   ]
  },
  {
   "cell_type": "code",
   "execution_count": 7,
   "metadata": {},
   "outputs": [],
   "source": [
    "aapl_prices.index = aapl_prices.index.date"
   ]
  },
  {
   "cell_type": "code",
   "execution_count": 8,
   "metadata": {},
   "outputs": [
    {
     "data": {
      "text/html": [
       "<div>\n",
       "<style scoped>\n",
       "    .dataframe tbody tr th:only-of-type {\n",
       "        vertical-align: middle;\n",
       "    }\n",
       "\n",
       "    .dataframe tbody tr th {\n",
       "        vertical-align: top;\n",
       "    }\n",
       "\n",
       "    .dataframe thead th {\n",
       "        text-align: right;\n",
       "    }\n",
       "</style>\n",
       "<table border=\"1\" class=\"dataframe\">\n",
       "  <thead>\n",
       "    <tr style=\"text-align: right;\">\n",
       "      <th></th>\n",
       "      <th>Open</th>\n",
       "      <th>High</th>\n",
       "      <th>Low</th>\n",
       "      <th>Close</th>\n",
       "      <th>Adj Close</th>\n",
       "      <th>Volume</th>\n",
       "    </tr>\n",
       "  </thead>\n",
       "  <tbody>\n",
       "    <tr>\n",
       "      <th>2019-12-30</th>\n",
       "      <td>72.364998</td>\n",
       "      <td>73.172501</td>\n",
       "      <td>71.305000</td>\n",
       "      <td>72.879997</td>\n",
       "      <td>71.095581</td>\n",
       "      <td>144114400</td>\n",
       "    </tr>\n",
       "    <tr>\n",
       "      <th>2019-12-31</th>\n",
       "      <td>72.482498</td>\n",
       "      <td>73.419998</td>\n",
       "      <td>72.379997</td>\n",
       "      <td>73.412498</td>\n",
       "      <td>71.615028</td>\n",
       "      <td>100805600</td>\n",
       "    </tr>\n",
       "    <tr>\n",
       "      <th>2020-01-02</th>\n",
       "      <td>74.059998</td>\n",
       "      <td>75.150002</td>\n",
       "      <td>73.797501</td>\n",
       "      <td>75.087502</td>\n",
       "      <td>73.249023</td>\n",
       "      <td>135480400</td>\n",
       "    </tr>\n",
       "    <tr>\n",
       "      <th>2020-01-03</th>\n",
       "      <td>74.287498</td>\n",
       "      <td>75.144997</td>\n",
       "      <td>74.125000</td>\n",
       "      <td>74.357498</td>\n",
       "      <td>72.536896</td>\n",
       "      <td>146322800</td>\n",
       "    </tr>\n",
       "    <tr>\n",
       "      <th>2020-01-06</th>\n",
       "      <td>73.447502</td>\n",
       "      <td>74.989998</td>\n",
       "      <td>73.187500</td>\n",
       "      <td>74.949997</td>\n",
       "      <td>73.114876</td>\n",
       "      <td>118387200</td>\n",
       "    </tr>\n",
       "    <tr>\n",
       "      <th>...</th>\n",
       "      <td>...</td>\n",
       "      <td>...</td>\n",
       "      <td>...</td>\n",
       "      <td>...</td>\n",
       "      <td>...</td>\n",
       "      <td>...</td>\n",
       "    </tr>\n",
       "    <tr>\n",
       "      <th>2022-12-22</th>\n",
       "      <td>134.350006</td>\n",
       "      <td>134.559998</td>\n",
       "      <td>130.300003</td>\n",
       "      <td>132.229996</td>\n",
       "      <td>131.668243</td>\n",
       "      <td>77852100</td>\n",
       "    </tr>\n",
       "    <tr>\n",
       "      <th>2022-12-23</th>\n",
       "      <td>130.919998</td>\n",
       "      <td>132.419998</td>\n",
       "      <td>129.639999</td>\n",
       "      <td>131.860001</td>\n",
       "      <td>131.299820</td>\n",
       "      <td>63814900</td>\n",
       "    </tr>\n",
       "    <tr>\n",
       "      <th>2022-12-27</th>\n",
       "      <td>131.380005</td>\n",
       "      <td>131.410004</td>\n",
       "      <td>128.720001</td>\n",
       "      <td>130.029999</td>\n",
       "      <td>129.477585</td>\n",
       "      <td>69007800</td>\n",
       "    </tr>\n",
       "    <tr>\n",
       "      <th>2022-12-28</th>\n",
       "      <td>129.669998</td>\n",
       "      <td>131.029999</td>\n",
       "      <td>125.870003</td>\n",
       "      <td>126.040001</td>\n",
       "      <td>125.504547</td>\n",
       "      <td>85438400</td>\n",
       "    </tr>\n",
       "    <tr>\n",
       "      <th>2022-12-29</th>\n",
       "      <td>127.989998</td>\n",
       "      <td>130.479996</td>\n",
       "      <td>127.730003</td>\n",
       "      <td>129.610001</td>\n",
       "      <td>129.059372</td>\n",
       "      <td>75703700</td>\n",
       "    </tr>\n",
       "  </tbody>\n",
       "</table>\n",
       "<p>757 rows × 6 columns</p>\n",
       "</div>"
      ],
      "text/plain": [
       "                  Open        High         Low       Close   Adj Close  \\\n",
       "2019-12-30   72.364998   73.172501   71.305000   72.879997   71.095581   \n",
       "2019-12-31   72.482498   73.419998   72.379997   73.412498   71.615028   \n",
       "2020-01-02   74.059998   75.150002   73.797501   75.087502   73.249023   \n",
       "2020-01-03   74.287498   75.144997   74.125000   74.357498   72.536896   \n",
       "2020-01-06   73.447502   74.989998   73.187500   74.949997   73.114876   \n",
       "...                ...         ...         ...         ...         ...   \n",
       "2022-12-22  134.350006  134.559998  130.300003  132.229996  131.668243   \n",
       "2022-12-23  130.919998  132.419998  129.639999  131.860001  131.299820   \n",
       "2022-12-27  131.380005  131.410004  128.720001  130.029999  129.477585   \n",
       "2022-12-28  129.669998  131.029999  125.870003  126.040001  125.504547   \n",
       "2022-12-29  127.989998  130.479996  127.730003  129.610001  129.059372   \n",
       "\n",
       "               Volume  \n",
       "2019-12-30  144114400  \n",
       "2019-12-31  100805600  \n",
       "2020-01-02  135480400  \n",
       "2020-01-03  146322800  \n",
       "2020-01-06  118387200  \n",
       "...               ...  \n",
       "2022-12-22   77852100  \n",
       "2022-12-23   63814900  \n",
       "2022-12-27   69007800  \n",
       "2022-12-28   85438400  \n",
       "2022-12-29   75703700  \n",
       "\n",
       "[757 rows x 6 columns]"
      ]
     },
     "execution_count": 8,
     "metadata": {},
     "output_type": "execute_result"
    }
   ],
   "source": [
    "aapl_prices"
   ]
  },
  {
   "cell_type": "code",
   "execution_count": 9,
   "metadata": {},
   "outputs": [],
   "source": [
    "aapl_news[\"date\"] = aapl_news[\"date\"].dt.date"
   ]
  },
  {
   "cell_type": "code",
   "execution_count": 10,
   "metadata": {},
   "outputs": [],
   "source": [
    "aapl_news[\"sentiment_count\"] = aapl_news[\"sentiment\"].map({\n",
    "    \"neutral\": 0 ,\n",
    "    \"positive\" : 1,\n",
    "    \"negative\" : -1\n",
    "})"
   ]
  },
  {
   "cell_type": "code",
   "execution_count": 67,
   "metadata": {},
   "outputs": [],
   "source": [
    "def positive_percent(x):\n",
    "    n_positive = x[x[\"sentiment\"] == \"positive\"].sentiment_count.count()\n",
    "    n_neutral = x[x[\"sentiment\"] == \"neutral\"].sentiment_count.count()\n",
    "    n_negative = x[x[\"sentiment\"] == \"negative\"].sentiment_count.count()\n",
    "\n",
    "    if (n_positive + n_negative + n_neutral == 0):\n",
    "        return 0\n",
    "\n",
    "    else:\n",
    "        return n_positive/(n_positive + n_negative + n_neutral)"
   ]
  },
  {
   "cell_type": "code",
   "execution_count": 69,
   "metadata": {},
   "outputs": [],
   "source": [
    "positive_percent = aapl_news.groupby(\"date\")\\\n",
    "    .apply(positive_percent)"
   ]
  },
  {
   "cell_type": "code",
   "execution_count": 70,
   "metadata": {},
   "outputs": [
    {
     "data": {
      "text/plain": [
       "<AxesSubplot:xlabel='date'>"
      ]
     },
     "execution_count": 70,
     "metadata": {},
     "output_type": "execute_result"
    },
    {
     "data": {
      "image/png": "[encoded data removed]",
      "text/plain": [
       "<Figure size 432x288 with 1 Axes>"
      ]
     },
     "metadata": {
      "needs_background": "light"
     },
     "output_type": "display_data"
    }
   ],
   "source": [
    "positive_percent.plot()"
   ]
  },
  {
   "cell_type": "code",
   "execution_count": 11,
   "metadata": {},
   "outputs": [],
   "source": [
    "aapl_sentiment = aapl_news.groupby(\"date\")\\\n",
    "    .sum()\\\n",
    "    .sentiment_count"
   ]
  },
  {
   "cell_type": "code",
   "execution_count": 12,
   "metadata": {},
   "outputs": [],
   "source": [
    "aapl_news= aapl_news.drop_duplicates(subset=\"title\")"
   ]
  },
  {
   "cell_type": "code",
   "execution_count": 13,
   "metadata": {},
   "outputs": [
    {
     "data": {
      "text/plain": [
       "<AxesSubplot:xlabel='date'>"
      ]
     },
     "execution_count": 13,
     "metadata": {},
     "output_type": "execute_result"
    },
    {
     "data": {
      "image/png": "[encoded data removed]",
      "text/plain": [
       "<Figure size 432x288 with 1 Axes>"
      ]
     },
     "metadata": {
      "needs_background": "light"
     },
     "output_type": "display_data"
    }
   ],
   "source": [
    "aapl_sentiment.plot()"
   ]
  },
  {
   "cell_type": "code",
   "execution_count": 14,
   "metadata": {},
   "outputs": [],
   "source": [
    "aapl_sentiment.index = pd.to_datetime(aapl_sentiment.index)"
   ]
  },
  {
   "cell_type": "code",
   "execution_count": 15,
   "metadata": {},
   "outputs": [
    {
     "data": {
      "text/plain": [
       "DatetimeIndex(['2019-01-03', '2019-02-22', '2019-04-01', '2019-04-16',\n",
       "               '2019-04-18', '2019-04-22', '2019-04-25', '2019-05-01',\n",
       "               '2019-05-07', '2019-05-13',\n",
       "               ...\n",
       "               '2022-12-23', '2022-12-24', '2022-12-25', '2022-12-26',\n",
       "               '2022-12-27', '2022-12-28', '2022-12-29', '2022-12-30',\n",
       "               '2022-12-31', '2023-01-01'],\n",
       "              dtype='datetime64[ns]', name='date', length=721, freq=None)"
      ]
     },
     "execution_count": 15,
     "metadata": {},
     "output_type": "execute_result"
    }
   ],
   "source": [
    "aapl_sentiment.index"
   ]
  },
  {
   "cell_type": "code",
   "execution_count": 16,
   "metadata": {},
   "outputs": [
    {
     "data": {
      "text/plain": [
       "array([False, False, False, False, False, False, False, False, False,\n",
       "       False, False, False, False, False, False, False, False, False,\n",
       "       False, False, False, False, False, False, False, False, False,\n",
       "       False,  True,  True,  True,  True,  True,  True,  True,  True,\n",
       "        True,  True,  True,  True,  True,  True,  True,  True,  True,\n",
       "        True,  True,  True,  True,  True,  True, False,  True,  True,\n",
       "        True,  True,  True, False,  True, False,  True,  True,  True,\n",
       "       False,  True,  True,  True,  True,  True,  True,  True,  True,\n",
       "        True,  True,  True,  True, False,  True,  True,  True,  True,\n",
       "        True,  True,  True, False,  True,  True,  True,  True,  True,\n",
       "        True, False,  True,  True,  True,  True,  True,  True,  True,\n",
       "        True,  True,  True,  True,  True,  True,  True, False, False,\n",
       "        True,  True,  True,  True,  True, False, False,  True,  True,\n",
       "        True,  True,  True, False, False,  True,  True,  True,  True,\n",
       "       False, False,  True,  True,  True,  True,  True, False, False,\n",
       "        True,  True,  True,  True,  True, False, False,  True,  True,\n",
       "        True,  True,  True, False, False,  True,  True,  True,  True,\n",
       "        True, False, False,  True,  True,  True,  True,  True, False,\n",
       "        True,  True,  True,  True,  True, False,  True,  True,  True,\n",
       "        True,  True, False,  True,  True,  True,  True,  True, False,\n",
       "        True,  True,  True,  True, False, False,  True,  True,  True,\n",
       "        True,  True, False, False,  True,  True,  True,  True,  True,\n",
       "       False, False,  True,  True,  True,  True,  True, False,  True,\n",
       "        True,  True,  True,  True, False, False,  True,  True,  True,\n",
       "        True, False,  True,  True,  True,  True,  True, False, False,\n",
       "        True,  True,  True,  True,  True, False, False,  True,  True,\n",
       "        True,  True,  True, False,  True,  True,  True,  True,  True,\n",
       "       False, False,  True,  True,  True,  True,  True, False, False,\n",
       "        True,  True,  True,  True,  True, False,  True,  True,  True,\n",
       "        True,  True, False, False,  True,  True,  True,  True,  True,\n",
       "       False, False,  True,  True,  True,  True, False, False,  True,\n",
       "        True,  True,  True,  True, False, False,  True,  True,  True,\n",
       "        True,  True, False,  True,  True,  True,  True,  True, False,\n",
       "       False,  True,  True,  True,  True,  True, False,  True,  True,\n",
       "        True,  True,  True, False,  True,  True,  True,  True,  True,\n",
       "       False, False,  True,  True,  True,  True,  True, False, False,\n",
       "        True,  True,  True,  True,  True, False, False,  True,  True,\n",
       "        True,  True,  True, False, False,  True,  True,  True,  True,\n",
       "        True, False,  True,  True,  True, False,  True,  True,  True,\n",
       "        True,  True,  True,  True,  True,  True,  True,  True, False,\n",
       "       False,  True,  True,  True,  True,  True, False, False,  True,\n",
       "        True,  True,  True, False,  True,  True,  True,  True,  True,\n",
       "       False,  True,  True,  True,  True,  True, False,  True,  True,\n",
       "        True,  True,  True, False, False, False,  True,  True,  True,\n",
       "        True, False, False,  True,  True,  True,  True,  True, False,\n",
       "       False,  True,  True,  True,  True,  True, False, False,  True,\n",
       "        True,  True,  True,  True, False,  True,  True,  True,  True,\n",
       "        True, False, False, False,  True,  True,  True,  True, False,\n",
       "       False,  True,  True,  True,  True,  True, False, False,  True,\n",
       "        True,  True,  True,  True, False, False,  True,  True,  True,\n",
       "        True,  True, False, False,  True,  True,  True,  True,  True,\n",
       "       False, False,  True,  True,  True,  True,  True, False, False,\n",
       "        True,  True,  True,  True,  True, False,  True,  True,  True,\n",
       "        True, False, False,  True,  True,  True,  True,  True,  True,\n",
       "        True,  True,  True,  True, False, False,  True,  True,  True,\n",
       "        True,  True, False, False,  True,  True,  True,  True,  True,\n",
       "       False,  True,  True,  True,  True,  True, False, False,  True,\n",
       "        True,  True,  True,  True, False,  True,  True,  True,  True,\n",
       "       False, False,  True,  True,  True,  True,  True, False, False,\n",
       "        True,  True,  True,  True,  True, False, False, False,  True,\n",
       "        True,  True,  True, False,  True,  True,  True,  True,  True,\n",
       "       False, False,  True,  True,  True,  True, False,  True,  True,\n",
       "        True,  True,  True,  True,  True,  True,  True,  True, False,\n",
       "       False,  True,  True,  True,  True,  True, False,  True,  True,\n",
       "        True,  True,  True, False, False,  True,  True,  True,  True,\n",
       "        True,  True,  True,  True,  True,  True, False,  True,  True,\n",
       "        True,  True,  True, False, False,  True,  True,  True,  True,\n",
       "        True, False, False, False,  True,  True,  True,  True, False,\n",
       "       False,  True,  True,  True,  True,  True, False, False,  True,\n",
       "        True,  True,  True,  True, False,  True,  True,  True,  True,\n",
       "        True, False, False,  True,  True,  True,  True,  True, False,\n",
       "       False,  True,  True,  True,  True,  True, False, False,  True,\n",
       "        True,  True,  True,  True, False,  True,  True,  True,  True,\n",
       "        True, False, False,  True,  True,  True,  True,  True, False,\n",
       "       False,  True,  True,  True,  True,  True, False, False,  True,\n",
       "        True,  True,  True,  True, False, False,  True,  True,  True,\n",
       "       False,  True, False, False,  True,  True,  True,  True,  True,\n",
       "       False, False,  True,  True,  True,  True,  True, False,  True,\n",
       "        True,  True,  True,  True, False,  True,  True,  True,  True,\n",
       "        True, False, False, False,  True,  True,  True, False, False,\n",
       "       False])"
      ]
     },
     "execution_count": 16,
     "metadata": {},
     "output_type": "execute_result"
    }
   ],
   "source": [
    "aapl_sentiment.index.isin(aapl_prices.index)"
   ]
  },
  {
   "cell_type": "code",
   "execution_count": null,
   "metadata": {},
   "outputs": [],
   "source": []
  },
  {
   "cell_type": "code",
   "execution_count": 71,
   "metadata": {},
   "outputs": [
    {
     "ename": "IndexError",
     "evalue": "Boolean index has wrong length: 714 instead of 721",
     "output_type": "error",
     "traceback": [
      "\u001b[1;31m---------------------------------------------------------------------------\u001b[0m",
      "\u001b[1;31mIndexError\u001b[0m                                Traceback (most recent call last)",
      "\u001b[1;32mc:\\Users\\User\\Desktop\\code\\itau-quant-challenge\\notebooks\\finbert\\02-price_data_analysis.ipynb Cell 19\u001b[0m in \u001b[0;36m<cell line: 1>\u001b[1;34m()\u001b[0m\n\u001b[1;32m----> <a href='vscode-notebook-cell:/c%3A/Users/User/Desktop/code/itau-quant-challenge/notebooks/finbert/02-price_data_analysis.ipynb#X21sZmlsZQ%3D%3D?line=0'>1</a>\u001b[0m valid_dates_sentiments \u001b[39m=\u001b[39m aapl_sentiment[positive_percent\u001b[39m.\u001b[39;49mindex\u001b[39m.\u001b[39;49misin(aapl_prices\u001b[39m.\u001b[39;49mindex)]\n",
      "File \u001b[1;32mc:\\Users\\User\\anaconda3\\lib\\site-packages\\pandas\\core\\series.py:980\u001b[0m, in \u001b[0;36mSeries.__getitem__\u001b[1;34m(self, key)\u001b[0m\n\u001b[0;32m    977\u001b[0m     key \u001b[39m=\u001b[39m \u001b[39mlist\u001b[39m(key)\n\u001b[0;32m    979\u001b[0m \u001b[39mif\u001b[39;00m com\u001b[39m.\u001b[39mis_bool_indexer(key):\n\u001b[1;32m--> 980\u001b[0m     key \u001b[39m=\u001b[39m check_bool_indexer(\u001b[39mself\u001b[39;49m\u001b[39m.\u001b[39;49mindex, key)\n\u001b[0;32m    981\u001b[0m     key \u001b[39m=\u001b[39m np\u001b[39m.\u001b[39masarray(key, dtype\u001b[39m=\u001b[39m\u001b[39mbool\u001b[39m)\n\u001b[0;32m    982\u001b[0m     \u001b[39mreturn\u001b[39;00m \u001b[39mself\u001b[39m\u001b[39m.\u001b[39m_get_values(key)\n",
      "File \u001b[1;32mc:\\Users\\User\\anaconda3\\lib\\site-packages\\pandas\\core\\indexing.py:2396\u001b[0m, in \u001b[0;36mcheck_bool_indexer\u001b[1;34m(index, key)\u001b[0m\n\u001b[0;32m   2392\u001b[0m \u001b[39melif\u001b[39;00m \u001b[39mnot\u001b[39;00m is_array_like(result):\n\u001b[0;32m   2393\u001b[0m     \u001b[39m# GH 33924\u001b[39;00m\n\u001b[0;32m   2394\u001b[0m     \u001b[39m# key may contain nan elements, check_array_indexer needs bool array\u001b[39;00m\n\u001b[0;32m   2395\u001b[0m     result \u001b[39m=\u001b[39m pd_array(result, dtype\u001b[39m=\u001b[39m\u001b[39mbool\u001b[39m)\n\u001b[1;32m-> 2396\u001b[0m \u001b[39mreturn\u001b[39;00m check_array_indexer(index, result)\n",
      "File \u001b[1;32mc:\\Users\\User\\anaconda3\\lib\\site-packages\\pandas\\core\\indexers\\utils.py:579\u001b[0m, in \u001b[0;36mcheck_array_indexer\u001b[1;34m(array, indexer)\u001b[0m\n\u001b[0;32m    577\u001b[0m     \u001b[39m# GH26658\u001b[39;00m\n\u001b[0;32m    578\u001b[0m     \u001b[39mif\u001b[39;00m \u001b[39mlen\u001b[39m(indexer) \u001b[39m!=\u001b[39m \u001b[39mlen\u001b[39m(array):\n\u001b[1;32m--> 579\u001b[0m         \u001b[39mraise\u001b[39;00m \u001b[39mIndexError\u001b[39;00m(\n\u001b[0;32m    580\u001b[0m             \u001b[39mf\u001b[39m\u001b[39m\"\u001b[39m\u001b[39mBoolean index has wrong length: \u001b[39m\u001b[39m\"\u001b[39m\n\u001b[0;32m    581\u001b[0m             \u001b[39mf\u001b[39m\u001b[39m\"\u001b[39m\u001b[39m{\u001b[39;00m\u001b[39mlen\u001b[39m(indexer)\u001b[39m}\u001b[39;00m\u001b[39m instead of \u001b[39m\u001b[39m{\u001b[39;00m\u001b[39mlen\u001b[39m(array)\u001b[39m}\u001b[39;00m\u001b[39m\"\u001b[39m\n\u001b[0;32m    582\u001b[0m         )\n\u001b[0;32m    583\u001b[0m \u001b[39melif\u001b[39;00m is_integer_dtype(dtype):\n\u001b[0;32m    584\u001b[0m     \u001b[39mtry\u001b[39;00m:\n",
      "\u001b[1;31mIndexError\u001b[0m: Boolean index has wrong length: 714 instead of 721"
     ]
    }
   ],
   "source": [
    "valid_dates_sentiments = positive_percent[positive_percent.index.isin(aapl_prices.index)]"
   ]
  },
  {
   "cell_type": "code",
   "execution_count": 18,
   "metadata": {},
   "outputs": [
    {
     "data": {
      "text/plain": [
       "Index([2019-12-30, 2019-12-31, 2020-01-02, 2020-01-03, 2020-01-06, 2020-01-07,\n",
       "       2020-01-08, 2020-01-09, 2020-01-10, 2020-01-13,\n",
       "       ...\n",
       "       2022-12-15, 2022-12-16, 2022-12-19, 2022-12-20, 2022-12-21, 2022-12-22,\n",
       "       2022-12-23, 2022-12-27, 2022-12-28, 2022-12-29],\n",
       "      dtype='object', length=757)"
      ]
     },
     "execution_count": 18,
     "metadata": {},
     "output_type": "execute_result"
    }
   ],
   "source": [
    "aapl_prices.index"
   ]
  },
  {
   "cell_type": "code",
   "execution_count": 19,
   "metadata": {},
   "outputs": [],
   "source": [
    "aapl_prices_with_news = aapl_prices.loc[valid_dates_sentiments.index]\n",
    "# sp500_prices_with_news = sp500_prices.loc[valid_dates_sentiments.index]"
   ]
  },
  {
   "cell_type": "code",
   "execution_count": 20,
   "metadata": {},
   "outputs": [],
   "source": [
    "def consecutive_sign(x):\n",
    "    result = all(item > 0 for item in x) or all(item < 0 for item in x)\n",
    "    if result:\n",
    "        if (x.iloc[0] > 0):\n",
    "            return 1\n",
    "        \n",
    "        else:\n",
    "            return -1\n",
    "        \n",
    "    return 0"
   ]
  },
  {
   "cell_type": "code",
   "execution_count": 26,
   "metadata": {},
   "outputs": [],
   "source": [
    "consecutive_dates_sign = valid_dates_sentiments.rolling(3)\\\n",
    "    .apply(consecutive_sign)\n",
    "    "
   ]
  },
  {
   "cell_type": "code",
   "execution_count": 27,
   "metadata": {},
   "outputs": [],
   "source": [
    "avg_sentiment = valid_dates_sentiments\\\n",
    "    .rolling(4)\\\n",
    "    .median()"
   ]
  },
  {
   "cell_type": "code",
   "execution_count": 28,
   "metadata": {},
   "outputs": [
    {
     "data": {
      "text/plain": [
       "<AxesSubplot:xlabel='date'>"
      ]
     },
     "execution_count": 28,
     "metadata": {},
     "output_type": "execute_result"
    },
    {
     "data": {
      "image/png": "[encoded data removed]",
      "text/plain": [
       "<Figure size 432x288 with 1 Axes>"
      ]
     },
     "metadata": {
      "needs_background": "light"
     },
     "output_type": "display_data"
    }
   ],
   "source": [
    "avg_sentiment.plot()"
   ]
  },
  {
   "cell_type": "code",
   "execution_count": 24,
   "metadata": {},
   "outputs": [
    {
     "data": {
      "text/plain": [
       "<AxesSubplot:xlabel='date'>"
      ]
     },
     "execution_count": 24,
     "metadata": {},
     "output_type": "execute_result"
    },
    {
     "data": {
      "image/png": "[encoded data removed]",
      "text/plain": [
       "<Figure size 432x288 with 1 Axes>"
      ]
     },
     "metadata": {
      "needs_background": "light"
     },
     "output_type": "display_data"
    }
   ],
   "source": [
    "consecutive_dates_sign.plot()"
   ]
  },
  {
   "cell_type": "code",
   "execution_count": 33,
   "metadata": {},
   "outputs": [],
   "source": [
    "y = aapl_prices.pct_change(-5)\\\n",
    "    .Close"
   ]
  },
  {
   "cell_type": "code",
   "execution_count": 45,
   "metadata": {},
   "outputs": [],
   "source": [
    "y = aapl_prices.pct_change(-5)\\\n",
    "    .Close\\\n",
    "    .reindex_like(avg_sentiment.dropna())\\\n",
    "    .dropna()"
   ]
  },
  {
   "cell_type": "code",
   "execution_count": 44,
   "metadata": {},
   "outputs": [
    {
     "data": {
      "text/plain": [
       "date\n",
       "2020-03-30    NaN\n",
       "2020-04-08    NaN\n",
       "2020-04-27    NaN\n",
       "2020-05-07   -0.5\n",
       "2020-05-13    0.5\n",
       "             ... \n",
       "2022-12-15   -1.5\n",
       "2022-12-16    0.5\n",
       "2022-12-19   -0.5\n",
       "2022-12-20   -1.0\n",
       "2022-12-21    0.5\n",
       "Name: sentiment_count, Length: 520, dtype: float64"
      ]
     },
     "execution_count": 44,
     "metadata": {},
     "output_type": "execute_result"
    }
   ],
   "source": [
    "avg_sentiment\\\n",
    "    .reindex_like(y)"
   ]
  },
  {
   "cell_type": "code",
   "execution_count": 40,
   "metadata": {},
   "outputs": [],
   "source": [
    "from sklearn.linear_model import LinearRegression"
   ]
  },
  {
   "cell_type": "code",
   "execution_count": 47,
   "metadata": {},
   "outputs": [
    {
     "data": {
      "text/plain": [
       "date\n",
       "2020-05-07   -0.5\n",
       "2020-05-13    0.5\n",
       "2020-05-14    0.5\n",
       "2020-06-24    0.5\n",
       "2020-07-02    0.0\n",
       "             ... \n",
       "2022-12-15   -1.5\n",
       "2022-12-16    0.5\n",
       "2022-12-19   -0.5\n",
       "2022-12-20   -1.0\n",
       "2022-12-21    0.5\n",
       "Name: sentiment_count, Length: 517, dtype: float64"
      ]
     },
     "execution_count": 47,
     "metadata": {},
     "output_type": "execute_result"
    }
   ],
   "source": [
    "avg_sentiment.dropna().reindex_like(y)"
   ]
  },
  {
   "cell_type": "code",
   "execution_count": 48,
   "metadata": {},
   "outputs": [
    {
     "data": {
      "text/plain": [
       "date\n",
       "2020-05-07   -0.018738\n",
       "2020-05-13   -0.036275\n",
       "2020-05-14   -0.023071\n",
       "2020-06-24   -0.011123\n",
       "2020-07-02   -0.051006\n",
       "                ...   \n",
       "2022-12-15    0.032292\n",
       "2022-12-16    0.020097\n",
       "2022-12-19    0.017996\n",
       "2022-12-20    0.049667\n",
       "2022-12-21    0.045058\n",
       "Name: Close, Length: 517, dtype: float64"
      ]
     },
     "execution_count": 48,
     "metadata": {},
     "output_type": "execute_result"
    }
   ],
   "source": [
    "y"
   ]
  },
  {
   "cell_type": "code",
   "execution_count": 49,
   "metadata": {},
   "outputs": [
    {
     "data": {
      "text/plain": [
       "LinearRegression()"
      ]
     },
     "execution_count": 49,
     "metadata": {},
     "output_type": "execute_result"
    }
   ],
   "source": [
    "model = LinearRegression()\n",
    "model.fit(pd.DataFrame(avg_sentiment.dropna().reindex_like(y)), y)"
   ]
  },
  {
   "cell_type": "code",
   "execution_count": 51,
   "metadata": {},
   "outputs": [
    {
     "data": {
      "text/plain": [
       "array([-0.00126071])"
      ]
     },
     "execution_count": 51,
     "metadata": {},
     "output_type": "execute_result"
    }
   ],
   "source": [
    "model.coef_"
   ]
  },
  {
   "cell_type": "code",
   "execution_count": 29,
   "metadata": {},
   "outputs": [
    {
     "data": {
      "image/png": "[encoded data removed]",
      "text/plain": [
       "<Figure size 1152x720 with 1 Axes>"
      ]
     },
     "metadata": {
      "needs_background": "light"
     },
     "output_type": "display_data"
    }
   ],
   "source": [
    "plt.figure(figsize=(16,10))\n",
    "aapl_prices['Close'].plot()\n",
    "aapl_prices_with_news[avg_sentiment > 2].Close.plot(\n",
    "    color = 'green',\n",
    "    marker = '^',\n",
    "    linestyle = \"None\",\n",
    "    label = \"buy\"\n",
    ")\n",
    "\n",
    "aapl_prices_with_news[avg_sentiment < 0].Close.plot(\n",
    "    color = 'red',\n",
    "    marker = '^',\n",
    "    linestyle = \"None\",\n",
    "    label = \"sell\"\n",
    ")\n",
    "\n",
    "plt.legend()\n",
    "plt.show()"
   ]
  },
  {
   "cell_type": "code",
   "execution_count": 94,
   "metadata": {},
   "outputs": [
    {
     "data": {
      "text/html": [
       "<div>\n",
       "<style scoped>\n",
       "    .dataframe tbody tr th:only-of-type {\n",
       "        vertical-align: middle;\n",
       "    }\n",
       "\n",
       "    .dataframe tbody tr th {\n",
       "        vertical-align: top;\n",
       "    }\n",
       "\n",
       "    .dataframe thead th {\n",
       "        text-align: right;\n",
       "    }\n",
       "</style>\n",
       "<table border=\"1\" class=\"dataframe\">\n",
       "  <thead>\n",
       "    <tr style=\"text-align: right;\">\n",
       "      <th></th>\n",
       "      <th>Open</th>\n",
       "      <th>High</th>\n",
       "      <th>Low</th>\n",
       "      <th>Close</th>\n",
       "      <th>Adj Close</th>\n",
       "      <th>Volume</th>\n",
       "    </tr>\n",
       "  </thead>\n",
       "  <tbody>\n",
       "    <tr>\n",
       "      <th>2022-06-16</th>\n",
       "      <td>132.080002</td>\n",
       "      <td>132.389999</td>\n",
       "      <td>129.039993</td>\n",
       "      <td>130.059998</td>\n",
       "      <td>129.113632</td>\n",
       "      <td>108123900</td>\n",
       "    </tr>\n",
       "  </tbody>\n",
       "</table>\n",
       "</div>"
      ],
      "text/plain": [
       "                  Open        High         Low       Close   Adj Close  \\\n",
       "2022-06-16  132.080002  132.389999  129.039993  130.059998  129.113632   \n",
       "\n",
       "               Volume  \n",
       "2022-06-16  108123900  "
      ]
     },
     "execution_count": 94,
     "metadata": {},
     "output_type": "execute_result"
    }
   ],
   "source": [
    "from datetime import datetime, date\n",
    "aapl_prices.loc[date(2022, 4, 1) : date(2022,7,1)]\\\n",
    "    .query(\"Close == 130.05999755859375\")"
   ]
  },
  {
   "cell_type": "code",
   "execution_count": 102,
   "metadata": {},
   "outputs": [
    {
     "name": "stderr",
     "output_type": "stream",
     "text": [
      "c:\\Users\\User\\anaconda3\\lib\\site-packages\\pandas\\core\\ops\\array_ops.py:73: FutureWarning: Comparison of Timestamp with datetime.date is deprecated in order to match the standard library behavior. In a future version these will be considered non-comparable. Use 'ts == pd.Timestamp(date)' or 'ts.date() == date' instead.\n",
      "  result = libops.scalar_compare(x.ravel(), y, op)\n"
     ]
    },
    {
     "data": {
      "text/html": [
       "<div>\n",
       "<style scoped>\n",
       "    .dataframe tbody tr th:only-of-type {\n",
       "        vertical-align: middle;\n",
       "    }\n",
       "\n",
       "    .dataframe tbody tr th {\n",
       "        vertical-align: top;\n",
       "    }\n",
       "\n",
       "    .dataframe thead th {\n",
       "        text-align: right;\n",
       "    }\n",
       "</style>\n",
       "<table border=\"1\" class=\"dataframe\">\n",
       "  <thead>\n",
       "    <tr style=\"text-align: right;\">\n",
       "      <th></th>\n",
       "      <th>date</th>\n",
       "      <th>title</th>\n",
       "      <th>content</th>\n",
       "      <th>sentiment</th>\n",
       "      <th>sentiment_count</th>\n",
       "    </tr>\n",
       "  </thead>\n",
       "  <tbody>\n",
       "    <tr>\n",
       "      <th>4846</th>\n",
       "      <td>2022-06-10</td>\n",
       "      <td>A tangle of cables is the price for Apple’s in...</td>\n",
       "      <td>Jobs followed the Bauhaus movement’s emphasis ...</td>\n",
       "      <td>neutral</td>\n",
       "      <td>0</td>\n",
       "    </tr>\n",
       "    <tr>\n",
       "      <th>4847</th>\n",
       "      <td>2022-06-10</td>\n",
       "      <td>UK plans to probe Apple, Google's mobile brows...</td>\n",
       "      <td>June 10 (Reuters) - Britain's competition watc...</td>\n",
       "      <td>neutral</td>\n",
       "      <td>0</td>\n",
       "    </tr>\n",
       "    <tr>\n",
       "      <th>4849</th>\n",
       "      <td>2022-06-10</td>\n",
       "      <td>U.K. regulator probing Apple and Google over m...</td>\n",
       "      <td>The U.K.'s Competition and Markets Authority s...</td>\n",
       "      <td>neutral</td>\n",
       "      <td>0</td>\n",
       "    </tr>\n",
       "    <tr>\n",
       "      <th>4850</th>\n",
       "      <td>2022-06-10</td>\n",
       "      <td>UPDATE 1-UK plans to probe Apple, Google's mob...</td>\n",
       "      <td>(Adds details, quotes, Apple and Google respon...</td>\n",
       "      <td>neutral</td>\n",
       "      <td>0</td>\n",
       "    </tr>\n",
       "    <tr>\n",
       "      <th>4851</th>\n",
       "      <td>2022-06-10</td>\n",
       "      <td>2 Reasons Investors Should Love Apple Pay Later</td>\n",
       "      <td>Device sales face headwinds near term, making ...</td>\n",
       "      <td>neutral</td>\n",
       "      <td>0</td>\n",
       "    </tr>\n",
       "    <tr>\n",
       "      <th>4852</th>\n",
       "      <td>2022-06-10</td>\n",
       "      <td>Apple and Google ‘Hold All the Cards.’ The Tec...</td>\n",
       "      <td>The U.K. competition regulator is investigatin...</td>\n",
       "      <td>negative</td>\n",
       "      <td>-1</td>\n",
       "    </tr>\n",
       "    <tr>\n",
       "      <th>4853</th>\n",
       "      <td>2022-06-10</td>\n",
       "      <td>Apple and Google targeted by UK competition wa...</td>\n",
       "      <td>Apple and Google will be investigated over the...</td>\n",
       "      <td>neutral</td>\n",
       "      <td>0</td>\n",
       "    </tr>\n",
       "    <tr>\n",
       "      <th>4854</th>\n",
       "      <td>2022-06-10</td>\n",
       "      <td>Apple and Google face UK probe over mobile bro...</td>\n",
       "      <td>Competition and Markets Authority consults on ...</td>\n",
       "      <td>negative</td>\n",
       "      <td>-1</td>\n",
       "    </tr>\n",
       "    <tr>\n",
       "      <th>4855</th>\n",
       "      <td>2022-06-10</td>\n",
       "      <td>Apple, Google Face New Antitrust Investigation...</td>\n",
       "      <td>The Competition and Markets Authority wants to...</td>\n",
       "      <td>negative</td>\n",
       "      <td>-1</td>\n",
       "    </tr>\n",
       "    <tr>\n",
       "      <th>4856</th>\n",
       "      <td>2022-06-10</td>\n",
       "      <td>This Is How Apple's WWDC Announcements Could A...</td>\n",
       "      <td>In this video, I will be discussing Square's s...</td>\n",
       "      <td>neutral</td>\n",
       "      <td>0</td>\n",
       "    </tr>\n",
       "    <tr>\n",
       "      <th>4857</th>\n",
       "      <td>2022-06-10</td>\n",
       "      <td>Apple and Google Face a New Threat. Regulator ...</td>\n",
       "      <td>The U.K. competition regulator is investigatin...</td>\n",
       "      <td>negative</td>\n",
       "      <td>-1</td>\n",
       "    </tr>\n",
       "    <tr>\n",
       "      <th>4858</th>\n",
       "      <td>2022-06-10</td>\n",
       "      <td>British Antitrust Watchdog Comes After Apple, ...</td>\n",
       "      <td>Britain's antitrust body looked to probe the m...</td>\n",
       "      <td>neutral</td>\n",
       "      <td>0</td>\n",
       "    </tr>\n",
       "    <tr>\n",
       "      <th>4859</th>\n",
       "      <td>2022-06-10</td>\n",
       "      <td>Why the Affirm CEO isn’t worried about Apple’s...</td>\n",
       "      <td>Affirm CEO and Founder Max Levchin joins Yahoo...</td>\n",
       "      <td>neutral</td>\n",
       "      <td>0</td>\n",
       "    </tr>\n",
       "    <tr>\n",
       "      <th>4860</th>\n",
       "      <td>2022-06-10</td>\n",
       "      <td>Apple Wants a Slice of BNPL. How to Play It.</td>\n",
       "      <td>Affirm’s foothold in “buy now pay later” is be...</td>\n",
       "      <td>neutral</td>\n",
       "      <td>0</td>\n",
       "    </tr>\n",
       "    <tr>\n",
       "      <th>4861</th>\n",
       "      <td>2022-06-10</td>\n",
       "      <td>Apple (AAPL) to Expand Apple TV+ Content With ...</td>\n",
       "      <td>Apple AAPL is keeping no stone unturned to inc...</td>\n",
       "      <td>positive</td>\n",
       "      <td>1</td>\n",
       "    </tr>\n",
       "    <tr>\n",
       "      <th>4862</th>\n",
       "      <td>2022-06-10</td>\n",
       "      <td>Apple's Cook urges U.S. lawmakers to pass fede...</td>\n",
       "      <td>(Reuters) - Apple Inc Chief Executive Tim Cook...</td>\n",
       "      <td>neutral</td>\n",
       "      <td>0</td>\n",
       "    </tr>\n",
       "    <tr>\n",
       "      <th>4863</th>\n",
       "      <td>2022-06-10</td>\n",
       "      <td>Why Apple's 'buy now, pay later' doesn't scare...</td>\n",
       "      <td>Apple's entry into the buy now, pay later (BNP...</td>\n",
       "      <td>negative</td>\n",
       "      <td>-1</td>\n",
       "    </tr>\n",
       "    <tr>\n",
       "      <th>4864</th>\n",
       "      <td>2022-06-10</td>\n",
       "      <td>Why Apple, Amazon, and Nvidia Plunged Today</td>\n",
       "      <td>Shares of big-cap tech giants Apple (NASDAQ: A...</td>\n",
       "      <td>negative</td>\n",
       "      <td>-1</td>\n",
       "    </tr>\n",
       "    <tr>\n",
       "      <th>4865</th>\n",
       "      <td>2022-06-10</td>\n",
       "      <td>Apple probed by antitrust group, Spirit Airlin...</td>\n",
       "      <td>Yahoo Finance Live examines several trending s...</td>\n",
       "      <td>positive</td>\n",
       "      <td>1</td>\n",
       "    </tr>\n",
       "    <tr>\n",
       "      <th>4866</th>\n",
       "      <td>2022-06-10</td>\n",
       "      <td>Apple's AirPods Max Are the Perfect Headphones...</td>\n",
       "      <td>With strong noise cancellation and an equally ...</td>\n",
       "      <td>neutral</td>\n",
       "      <td>0</td>\n",
       "    </tr>\n",
       "    <tr>\n",
       "      <th>4867</th>\n",
       "      <td>2022-06-10</td>\n",
       "      <td>Exxon May Be Making ‘More Than God.’ But Apple...</td>\n",
       "      <td>President Biden took a swipe at Exxon Mobil bu...</td>\n",
       "      <td>positive</td>\n",
       "      <td>1</td>\n",
       "    </tr>\n",
       "    <tr>\n",
       "      <th>4868</th>\n",
       "      <td>2022-06-10</td>\n",
       "      <td>Apple's app store to allow more payment option...</td>\n",
       "      <td>By Stephen Nellis\\n\\n(Reuters) -Apple Inc on F...</td>\n",
       "      <td>positive</td>\n",
       "      <td>1</td>\n",
       "    </tr>\n",
       "    <tr>\n",
       "      <th>4869</th>\n",
       "      <td>2022-06-10</td>\n",
       "      <td>UPDATE 1-Apple's app store to allow more payme...</td>\n",
       "      <td>(New throughout, adds details from Apple docum...</td>\n",
       "      <td>positive</td>\n",
       "      <td>1</td>\n",
       "    </tr>\n",
       "  </tbody>\n",
       "</table>\n",
       "</div>"
      ],
      "text/plain": [
       "            date                                              title  \\\n",
       "4846  2022-06-10  A tangle of cables is the price for Apple’s in...   \n",
       "4847  2022-06-10  UK plans to probe Apple, Google's mobile brows...   \n",
       "4849  2022-06-10  U.K. regulator probing Apple and Google over m...   \n",
       "4850  2022-06-10  UPDATE 1-UK plans to probe Apple, Google's mob...   \n",
       "4851  2022-06-10    2 Reasons Investors Should Love Apple Pay Later   \n",
       "4852  2022-06-10  Apple and Google ‘Hold All the Cards.’ The Tec...   \n",
       "4853  2022-06-10  Apple and Google targeted by UK competition wa...   \n",
       "4854  2022-06-10  Apple and Google face UK probe over mobile bro...   \n",
       "4855  2022-06-10  Apple, Google Face New Antitrust Investigation...   \n",
       "4856  2022-06-10  This Is How Apple's WWDC Announcements Could A...   \n",
       "4857  2022-06-10  Apple and Google Face a New Threat. Regulator ...   \n",
       "4858  2022-06-10  British Antitrust Watchdog Comes After Apple, ...   \n",
       "4859  2022-06-10  Why the Affirm CEO isn’t worried about Apple’s...   \n",
       "4860  2022-06-10       Apple Wants a Slice of BNPL. How to Play It.   \n",
       "4861  2022-06-10  Apple (AAPL) to Expand Apple TV+ Content With ...   \n",
       "4862  2022-06-10  Apple's Cook urges U.S. lawmakers to pass fede...   \n",
       "4863  2022-06-10  Why Apple's 'buy now, pay later' doesn't scare...   \n",
       "4864  2022-06-10        Why Apple, Amazon, and Nvidia Plunged Today   \n",
       "4865  2022-06-10  Apple probed by antitrust group, Spirit Airlin...   \n",
       "4866  2022-06-10  Apple's AirPods Max Are the Perfect Headphones...   \n",
       "4867  2022-06-10  Exxon May Be Making ‘More Than God.’ But Apple...   \n",
       "4868  2022-06-10  Apple's app store to allow more payment option...   \n",
       "4869  2022-06-10  UPDATE 1-Apple's app store to allow more payme...   \n",
       "\n",
       "                                                content sentiment  \\\n",
       "4846  Jobs followed the Bauhaus movement’s emphasis ...   neutral   \n",
       "4847  June 10 (Reuters) - Britain's competition watc...   neutral   \n",
       "4849  The U.K.'s Competition and Markets Authority s...   neutral   \n",
       "4850  (Adds details, quotes, Apple and Google respon...   neutral   \n",
       "4851  Device sales face headwinds near term, making ...   neutral   \n",
       "4852  The U.K. competition regulator is investigatin...  negative   \n",
       "4853  Apple and Google will be investigated over the...   neutral   \n",
       "4854  Competition and Markets Authority consults on ...  negative   \n",
       "4855  The Competition and Markets Authority wants to...  negative   \n",
       "4856  In this video, I will be discussing Square's s...   neutral   \n",
       "4857  The U.K. competition regulator is investigatin...  negative   \n",
       "4858  Britain's antitrust body looked to probe the m...   neutral   \n",
       "4859  Affirm CEO and Founder Max Levchin joins Yahoo...   neutral   \n",
       "4860  Affirm’s foothold in “buy now pay later” is be...   neutral   \n",
       "4861  Apple AAPL is keeping no stone unturned to inc...  positive   \n",
       "4862  (Reuters) - Apple Inc Chief Executive Tim Cook...   neutral   \n",
       "4863  Apple's entry into the buy now, pay later (BNP...  negative   \n",
       "4864  Shares of big-cap tech giants Apple (NASDAQ: A...  negative   \n",
       "4865  Yahoo Finance Live examines several trending s...  positive   \n",
       "4866  With strong noise cancellation and an equally ...   neutral   \n",
       "4867  President Biden took a swipe at Exxon Mobil bu...  positive   \n",
       "4868  By Stephen Nellis\\n\\n(Reuters) -Apple Inc on F...  positive   \n",
       "4869  (New throughout, adds details from Apple docum...  positive   \n",
       "\n",
       "      sentiment_count  \n",
       "4846                0  \n",
       "4847                0  \n",
       "4849                0  \n",
       "4850                0  \n",
       "4851                0  \n",
       "4852               -1  \n",
       "4853                0  \n",
       "4854               -1  \n",
       "4855               -1  \n",
       "4856                0  \n",
       "4857               -1  \n",
       "4858                0  \n",
       "4859                0  \n",
       "4860                0  \n",
       "4861                1  \n",
       "4862                0  \n",
       "4863               -1  \n",
       "4864               -1  \n",
       "4865                1  \n",
       "4866                0  \n",
       "4867                1  \n",
       "4868                1  \n",
       "4869                1  "
      ]
     },
     "execution_count": 102,
     "metadata": {},
     "output_type": "execute_result"
    }
   ],
   "source": [
    "aapl_news.query(\"date == Timestamp('2022-06-10')\")"
   ]
  },
  {
   "cell_type": "code",
   "execution_count": 47,
   "metadata": {},
   "outputs": [
    {
     "data": {
      "text/plain": [
       "date\n",
       "2021-04-30   -16\n",
       "2021-09-10   -14\n",
       "2021-10-13   -14\n",
       "2021-10-29   -19\n",
       "2021-12-02   -15\n",
       "2022-04-29   -12\n",
       "2022-11-07   -19\n",
       "2022-11-28   -16\n",
       "2022-11-29   -15\n",
       "Name: sentiment_count, dtype: int64"
      ]
     },
     "execution_count": 47,
     "metadata": {},
     "output_type": "execute_result"
    }
   ],
   "source": [
    "valid_dates_sentiments[valid_dates_sentiments < -10]"
   ]
  },
  {
   "cell_type": "code",
   "execution_count": 51,
   "metadata": {},
   "outputs": [
    {
     "name": "stderr",
     "output_type": "stream",
     "text": [
      "c:\\Users\\User\\anaconda3\\lib\\site-packages\\pandas\\core\\ops\\array_ops.py:73: FutureWarning: Comparison of Timestamp with datetime.date is deprecated in order to match the standard library behavior. In a future version these will be considered non-comparable. Use 'ts == pd.Timestamp(date)' or 'ts.date() == date' instead.\n",
      "  result = libops.scalar_compare(x.ravel(), y, op)\n"
     ]
    },
    {
     "data": {
      "text/html": [
       "<div>\n",
       "<style scoped>\n",
       "    .dataframe tbody tr th:only-of-type {\n",
       "        vertical-align: middle;\n",
       "    }\n",
       "\n",
       "    .dataframe tbody tr th {\n",
       "        vertical-align: top;\n",
       "    }\n",
       "\n",
       "    .dataframe thead th {\n",
       "        text-align: right;\n",
       "    }\n",
       "</style>\n",
       "<table border=\"1\" class=\"dataframe\">\n",
       "  <thead>\n",
       "    <tr style=\"text-align: right;\">\n",
       "      <th></th>\n",
       "      <th>date</th>\n",
       "      <th>title</th>\n",
       "      <th>content</th>\n",
       "      <th>sentiment</th>\n",
       "      <th>sentiment_count</th>\n",
       "    </tr>\n",
       "  </thead>\n",
       "  <tbody>\n",
       "    <tr>\n",
       "      <th>2501</th>\n",
       "      <td>2021-10-13</td>\n",
       "      <td>Will Apple Feel a Holiday Pinch From Semicondu...</td>\n",
       "      <td>Semiconductor shortages are impacting most tec...</td>\n",
       "      <td>negative</td>\n",
       "      <td>-1</td>\n",
       "    </tr>\n",
       "    <tr>\n",
       "      <th>2502</th>\n",
       "      <td>2021-10-13</td>\n",
       "      <td>Apple’s Suppliers Drop as Chip Crunch to Hit I...</td>\n",
       "      <td>(Bloomberg) -- Apple Inc.’s suppliers dropped ...</td>\n",
       "      <td>negative</td>\n",
       "      <td>-1</td>\n",
       "    </tr>\n",
       "    <tr>\n",
       "      <th>2506</th>\n",
       "      <td>2021-10-13</td>\n",
       "      <td>Apple Stock Slips Lower After Report Cautions ...</td>\n",
       "      <td>Apple could cut production of its new iPhone 1...</td>\n",
       "      <td>negative</td>\n",
       "      <td>-1</td>\n",
       "    </tr>\n",
       "    <tr>\n",
       "      <th>2509</th>\n",
       "      <td>2021-10-13</td>\n",
       "      <td>Dow Jones Futures: Apple iPhone Woes In Focus ...</td>\n",
       "      <td>Futures turned mixed. Apple fell on an iPhone ...</td>\n",
       "      <td>negative</td>\n",
       "      <td>-1</td>\n",
       "    </tr>\n",
       "    <tr>\n",
       "      <th>2511</th>\n",
       "      <td>2021-10-13</td>\n",
       "      <td>Dow Jones Futures Rise: Apple iPhone Woes, Inf...</td>\n",
       "      <td>Futures rose ahead of inflation data and JPMor...</td>\n",
       "      <td>negative</td>\n",
       "      <td>-1</td>\n",
       "    </tr>\n",
       "    <tr>\n",
       "      <th>2512</th>\n",
       "      <td>2021-10-13</td>\n",
       "      <td>iPhone Production Cuts May Weigh On Apple’s Ke...</td>\n",
       "      <td>(Bloomberg) -- A possible reduction in iPhone ...</td>\n",
       "      <td>negative</td>\n",
       "      <td>-1</td>\n",
       "    </tr>\n",
       "    <tr>\n",
       "      <th>2514</th>\n",
       "      <td>2021-10-13</td>\n",
       "      <td>Apple Finally Falls Victim to Never-Ending Sup...</td>\n",
       "      <td>(Bloomberg) -- Apple Inc., the world’s most va...</td>\n",
       "      <td>negative</td>\n",
       "      <td>-1</td>\n",
       "    </tr>\n",
       "    <tr>\n",
       "      <th>2516</th>\n",
       "      <td>2021-10-13</td>\n",
       "      <td>Apple Manufacturers and Suppliers Fall After i...</td>\n",
       "      <td>A report Tuesday said that Apple would cut its...</td>\n",
       "      <td>negative</td>\n",
       "      <td>-1</td>\n",
       "    </tr>\n",
       "    <tr>\n",
       "      <th>2518</th>\n",
       "      <td>2021-10-13</td>\n",
       "      <td>Apple warns of cybercrime risks if EU forces i...</td>\n",
       "      <td>By Foo Yun Chee\\n\\nBRUSSELS (Reuters) - Apple ...</td>\n",
       "      <td>negative</td>\n",
       "      <td>-1</td>\n",
       "    </tr>\n",
       "    <tr>\n",
       "      <th>2521</th>\n",
       "      <td>2021-10-13</td>\n",
       "      <td>iPhones at risk of being hacked if App Store f...</td>\n",
       "      <td>iPhone\\n\\nApple has hit back at regulatory eff...</td>\n",
       "      <td>negative</td>\n",
       "      <td>-1</td>\n",
       "    </tr>\n",
       "    <tr>\n",
       "      <th>2523</th>\n",
       "      <td>2021-10-13</td>\n",
       "      <td>Dow Jones Drops As Inflation Heats Up; Apple S...</td>\n",
       "      <td>The Dow Jones Industrial Average dropped 150 p...</td>\n",
       "      <td>negative</td>\n",
       "      <td>-1</td>\n",
       "    </tr>\n",
       "    <tr>\n",
       "      <th>2524</th>\n",
       "      <td>2021-10-13</td>\n",
       "      <td>Why Apple Shares Are Falling Today</td>\n",
       "      <td>Apple Inc (NASDAQ: AAPL) is trading lower Wedn...</td>\n",
       "      <td>negative</td>\n",
       "      <td>-1</td>\n",
       "    </tr>\n",
       "    <tr>\n",
       "      <th>2526</th>\n",
       "      <td>2021-10-13</td>\n",
       "      <td>Apple iPhone Parts Shortage Isn’t a Long-Term ...</td>\n",
       "      <td>A contested report says that Apple has cut iPh...</td>\n",
       "      <td>negative</td>\n",
       "      <td>-1</td>\n",
       "    </tr>\n",
       "    <tr>\n",
       "      <th>2527</th>\n",
       "      <td>2021-10-13</td>\n",
       "      <td>Dow Jones Falls As Inflation Fears Rise, Apple...</td>\n",
       "      <td>Stocks were mixed midday with the Dow Jones In...</td>\n",
       "      <td>negative</td>\n",
       "      <td>-1</td>\n",
       "    </tr>\n",
       "    <tr>\n",
       "      <th>2528</th>\n",
       "      <td>2021-10-13</td>\n",
       "      <td>UPDATE 1-Apple warns of cybercrime risks if EU...</td>\n",
       "      <td>(Adds comments from Coalition for App Fairness...</td>\n",
       "      <td>negative</td>\n",
       "      <td>-1</td>\n",
       "    </tr>\n",
       "    <tr>\n",
       "      <th>2530</th>\n",
       "      <td>2021-10-13</td>\n",
       "      <td>Apple (AAPL) Shares Fall on iPhone Production ...</td>\n",
       "      <td>Apple (AAPL) stock fell after a report quoted ...</td>\n",
       "      <td>negative</td>\n",
       "      <td>-1</td>\n",
       "    </tr>\n",
       "    <tr>\n",
       "      <th>2532</th>\n",
       "      <td>2021-10-13</td>\n",
       "      <td>JPMorgan stock falls, Apple’s production cut m...</td>\n",
       "      <td>Yahoo Finance’s Jared Blikre reports on the da...</td>\n",
       "      <td>negative</td>\n",
       "      <td>-1</td>\n",
       "    </tr>\n",
       "    <tr>\n",
       "      <th>2533</th>\n",
       "      <td>2021-10-13</td>\n",
       "      <td>iPhone Shortages Seen Crimping Apple's Holiday...</td>\n",
       "      <td>Apple’s holiday sales likely will be limited b...</td>\n",
       "      <td>negative</td>\n",
       "      <td>-1</td>\n",
       "    </tr>\n",
       "  </tbody>\n",
       "</table>\n",
       "</div>"
      ],
      "text/plain": [
       "            date                                              title  \\\n",
       "2501  2021-10-13  Will Apple Feel a Holiday Pinch From Semicondu...   \n",
       "2502  2021-10-13  Apple’s Suppliers Drop as Chip Crunch to Hit I...   \n",
       "2506  2021-10-13  Apple Stock Slips Lower After Report Cautions ...   \n",
       "2509  2021-10-13  Dow Jones Futures: Apple iPhone Woes In Focus ...   \n",
       "2511  2021-10-13  Dow Jones Futures Rise: Apple iPhone Woes, Inf...   \n",
       "2512  2021-10-13  iPhone Production Cuts May Weigh On Apple’s Ke...   \n",
       "2514  2021-10-13  Apple Finally Falls Victim to Never-Ending Sup...   \n",
       "2516  2021-10-13  Apple Manufacturers and Suppliers Fall After i...   \n",
       "2518  2021-10-13  Apple warns of cybercrime risks if EU forces i...   \n",
       "2521  2021-10-13  iPhones at risk of being hacked if App Store f...   \n",
       "2523  2021-10-13  Dow Jones Drops As Inflation Heats Up; Apple S...   \n",
       "2524  2021-10-13                 Why Apple Shares Are Falling Today   \n",
       "2526  2021-10-13  Apple iPhone Parts Shortage Isn’t a Long-Term ...   \n",
       "2527  2021-10-13  Dow Jones Falls As Inflation Fears Rise, Apple...   \n",
       "2528  2021-10-13  UPDATE 1-Apple warns of cybercrime risks if EU...   \n",
       "2530  2021-10-13  Apple (AAPL) Shares Fall on iPhone Production ...   \n",
       "2532  2021-10-13  JPMorgan stock falls, Apple’s production cut m...   \n",
       "2533  2021-10-13  iPhone Shortages Seen Crimping Apple's Holiday...   \n",
       "\n",
       "                                                content sentiment  \\\n",
       "2501  Semiconductor shortages are impacting most tec...  negative   \n",
       "2502  (Bloomberg) -- Apple Inc.’s suppliers dropped ...  negative   \n",
       "2506  Apple could cut production of its new iPhone 1...  negative   \n",
       "2509  Futures turned mixed. Apple fell on an iPhone ...  negative   \n",
       "2511  Futures rose ahead of inflation data and JPMor...  negative   \n",
       "2512  (Bloomberg) -- A possible reduction in iPhone ...  negative   \n",
       "2514  (Bloomberg) -- Apple Inc., the world’s most va...  negative   \n",
       "2516  A report Tuesday said that Apple would cut its...  negative   \n",
       "2518  By Foo Yun Chee\\n\\nBRUSSELS (Reuters) - Apple ...  negative   \n",
       "2521  iPhone\\n\\nApple has hit back at regulatory eff...  negative   \n",
       "2523  The Dow Jones Industrial Average dropped 150 p...  negative   \n",
       "2524  Apple Inc (NASDAQ: AAPL) is trading lower Wedn...  negative   \n",
       "2526  A contested report says that Apple has cut iPh...  negative   \n",
       "2527  Stocks were mixed midday with the Dow Jones In...  negative   \n",
       "2528  (Adds comments from Coalition for App Fairness...  negative   \n",
       "2530  Apple (AAPL) stock fell after a report quoted ...  negative   \n",
       "2532  Yahoo Finance’s Jared Blikre reports on the da...  negative   \n",
       "2533  Apple’s holiday sales likely will be limited b...  negative   \n",
       "\n",
       "      sentiment_count  \n",
       "2501               -1  \n",
       "2502               -1  \n",
       "2506               -1  \n",
       "2509               -1  \n",
       "2511               -1  \n",
       "2512               -1  \n",
       "2514               -1  \n",
       "2516               -1  \n",
       "2518               -1  \n",
       "2521               -1  \n",
       "2523               -1  \n",
       "2524               -1  \n",
       "2526               -1  \n",
       "2527               -1  \n",
       "2528               -1  \n",
       "2530               -1  \n",
       "2532               -1  \n",
       "2533               -1  "
      ]
     },
     "execution_count": 51,
     "metadata": {},
     "output_type": "execute_result"
    }
   ],
   "source": [
    "aapl_news.query(\"date == Timestamp('2021-10-13') and sentiment_count == -1\")"
   ]
  },
  {
   "cell_type": "code",
   "execution_count": 52,
   "metadata": {},
   "outputs": [
    {
     "name": "stderr",
     "output_type": "stream",
     "text": [
      "c:\\Users\\User\\anaconda3\\lib\\site-packages\\pandas\\core\\ops\\array_ops.py:73: FutureWarning: Comparison of Timestamp with datetime.date is deprecated in order to match the standard library behavior. In a future version these will be considered non-comparable. Use 'ts == pd.Timestamp(date)' or 'ts.date() == date' instead.\n",
      "  result = libops.scalar_compare(x.ravel(), y, op)\n"
     ]
    },
    {
     "data": {
      "text/html": [
       "<div>\n",
       "<style scoped>\n",
       "    .dataframe tbody tr th:only-of-type {\n",
       "        vertical-align: middle;\n",
       "    }\n",
       "\n",
       "    .dataframe tbody tr th {\n",
       "        vertical-align: top;\n",
       "    }\n",
       "\n",
       "    .dataframe thead th {\n",
       "        text-align: right;\n",
       "    }\n",
       "</style>\n",
       "<table border=\"1\" class=\"dataframe\">\n",
       "  <thead>\n",
       "    <tr style=\"text-align: right;\">\n",
       "      <th></th>\n",
       "      <th>date</th>\n",
       "      <th>title</th>\n",
       "      <th>content</th>\n",
       "      <th>sentiment</th>\n",
       "      <th>sentiment_count</th>\n",
       "    </tr>\n",
       "  </thead>\n",
       "  <tbody>\n",
       "    <tr>\n",
       "      <th>2535</th>\n",
       "      <td>2021-10-14</td>\n",
       "      <td>Apple is Looking to Turn AirPods Into Health A...</td>\n",
       "      <td>Music. Podcasts. TV. Weather Updates. A remind...</td>\n",
       "      <td>neutral</td>\n",
       "      <td>0</td>\n",
       "    </tr>\n",
       "    <tr>\n",
       "      <th>2536</th>\n",
       "      <td>2021-10-14</td>\n",
       "      <td>Apple iPhone 13 Shipment Estimates Lowered at ...</td>\n",
       "      <td>Needham analyst Laura Martin cut her calendar-...</td>\n",
       "      <td>negative</td>\n",
       "      <td>-1</td>\n",
       "    </tr>\n",
       "    <tr>\n",
       "      <th>2537</th>\n",
       "      <td>2021-10-14</td>\n",
       "      <td>Why Apple Stock Is Attractive Heading Into the...</td>\n",
       "      <td>Apple (NASDAQ: AAPL) will likely have a record...</td>\n",
       "      <td>positive</td>\n",
       "      <td>1</td>\n",
       "    </tr>\n",
       "    <tr>\n",
       "      <th>2538</th>\n",
       "      <td>2021-10-14</td>\n",
       "      <td>Apple's rumored AirPods would be just its late...</td>\n",
       "      <td>Apple CEO Tim Cook delivers his keynote addres...</td>\n",
       "      <td>neutral</td>\n",
       "      <td>0</td>\n",
       "    </tr>\n",
       "    <tr>\n",
       "      <th>2539</th>\n",
       "      <td>2021-10-14</td>\n",
       "      <td>Apple Part Shortages Lead One Analyst to Chop ...</td>\n",
       "      <td>Needham's Laura Martin cut her estimated profi...</td>\n",
       "      <td>negative</td>\n",
       "      <td>-1</td>\n",
       "    </tr>\n",
       "    <tr>\n",
       "      <th>2540</th>\n",
       "      <td>2021-10-14</td>\n",
       "      <td>Why Apple Shares Are Rising</td>\n",
       "      <td>Shares of companies in the broader technology ...</td>\n",
       "      <td>positive</td>\n",
       "      <td>1</td>\n",
       "    </tr>\n",
       "    <tr>\n",
       "      <th>2541</th>\n",
       "      <td>2021-10-14</td>\n",
       "      <td>Tech Support: Is the Apple Watch Series 7 wort...</td>\n",
       "      <td>Yahoo Finance’s Dan Howley breaks down the new...</td>\n",
       "      <td>neutral</td>\n",
       "      <td>0</td>\n",
       "    </tr>\n",
       "    <tr>\n",
       "      <th>2542</th>\n",
       "      <td>2021-10-14</td>\n",
       "      <td>US Senate's Latest Antitrust Bill Targets Amaz...</td>\n",
       "      <td>Sen. Amy Klobuchar, D-Minn., the Senate Judici...</td>\n",
       "      <td>neutral</td>\n",
       "      <td>0</td>\n",
       "    </tr>\n",
       "    <tr>\n",
       "      <th>2543</th>\n",
       "      <td>2021-10-14</td>\n",
       "      <td>Features &amp;amp; benefits of the Apple Watch Ser...</td>\n",
       "      <td>Yahoo Finance’s Dan Howley reviews the series ...</td>\n",
       "      <td>positive</td>\n",
       "      <td>1</td>\n",
       "    </tr>\n",
       "    <tr>\n",
       "      <th>2544</th>\n",
       "      <td>2021-10-14</td>\n",
       "      <td>New bills aim at Apple, Google and Facebook as...</td>\n",
       "      <td>U.S. lawmakers introduced another wave of prop...</td>\n",
       "      <td>neutral</td>\n",
       "      <td>0</td>\n",
       "    </tr>\n",
       "    <tr>\n",
       "      <th>2545</th>\n",
       "      <td>2021-10-14</td>\n",
       "      <td>Apple Hires New HomePod Software Head as It Ta...</td>\n",
       "      <td>(Bloomberg) -- Apple Inc. has hired a new engi...</td>\n",
       "      <td>neutral</td>\n",
       "      <td>0</td>\n",
       "    </tr>\n",
       "  </tbody>\n",
       "</table>\n",
       "</div>"
      ],
      "text/plain": [
       "            date                                              title  \\\n",
       "2535  2021-10-14  Apple is Looking to Turn AirPods Into Health A...   \n",
       "2536  2021-10-14  Apple iPhone 13 Shipment Estimates Lowered at ...   \n",
       "2537  2021-10-14  Why Apple Stock Is Attractive Heading Into the...   \n",
       "2538  2021-10-14  Apple's rumored AirPods would be just its late...   \n",
       "2539  2021-10-14  Apple Part Shortages Lead One Analyst to Chop ...   \n",
       "2540  2021-10-14                        Why Apple Shares Are Rising   \n",
       "2541  2021-10-14  Tech Support: Is the Apple Watch Series 7 wort...   \n",
       "2542  2021-10-14  US Senate's Latest Antitrust Bill Targets Amaz...   \n",
       "2543  2021-10-14  Features &amp; benefits of the Apple Watch Ser...   \n",
       "2544  2021-10-14  New bills aim at Apple, Google and Facebook as...   \n",
       "2545  2021-10-14  Apple Hires New HomePod Software Head as It Ta...   \n",
       "\n",
       "                                                content sentiment  \\\n",
       "2535  Music. Podcasts. TV. Weather Updates. A remind...   neutral   \n",
       "2536  Needham analyst Laura Martin cut her calendar-...  negative   \n",
       "2537  Apple (NASDAQ: AAPL) will likely have a record...  positive   \n",
       "2538  Apple CEO Tim Cook delivers his keynote addres...   neutral   \n",
       "2539  Needham's Laura Martin cut her estimated profi...  negative   \n",
       "2540  Shares of companies in the broader technology ...  positive   \n",
       "2541  Yahoo Finance’s Dan Howley breaks down the new...   neutral   \n",
       "2542  Sen. Amy Klobuchar, D-Minn., the Senate Judici...   neutral   \n",
       "2543  Yahoo Finance’s Dan Howley reviews the series ...  positive   \n",
       "2544  U.S. lawmakers introduced another wave of prop...   neutral   \n",
       "2545  (Bloomberg) -- Apple Inc. has hired a new engi...   neutral   \n",
       "\n",
       "      sentiment_count  \n",
       "2535                0  \n",
       "2536               -1  \n",
       "2537                1  \n",
       "2538                0  \n",
       "2539               -1  \n",
       "2540                1  \n",
       "2541                0  \n",
       "2542                0  \n",
       "2543                1  \n",
       "2544                0  \n",
       "2545                0  "
      ]
     },
     "execution_count": 52,
     "metadata": {},
     "output_type": "execute_result"
    }
   ],
   "source": [
    "aapl_news.query(\"date == Timestamp('2021-10-14')\")"
   ]
  }
 ],
 "metadata": {
  "kernelspec": {
   "display_name": "base",
   "language": "python",
   "name": "python3"
  },
  "language_info": {
   "codemirror_mode": {
    "name": "ipython",
    "version": 3
   },
   "file_extension": ".py",
   "mimetype": "text/x-python",
   "name": "python",
   "nbconvert_exporter": "python",
   "pygments_lexer": "ipython3",
   "version": "3.9.12"
  },
  "orig_nbformat": 4
 },
 "nbformat": 4,
 "nbformat_minor": 2
}

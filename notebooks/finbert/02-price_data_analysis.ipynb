{
 "cells": [
  {
   "cell_type": "code",
   "execution_count": 1,
   "metadata": {},
   "outputs": [
    {
     "name": "stderr",
     "output_type": "stream",
     "text": [
      "c:\\Users\\sabri\\anaconda3\\lib\\site-packages\\pandas\\core\\computation\\expressions.py:20: UserWarning: Pandas requires version '2.7.3' or newer of 'numexpr' (version '2.7.1' currently installed).\n",
      "  from pandas.core.computation.check import NUMEXPR_INSTALLED\n"
     ]
    }
   ],
   "source": [
    "import requests\n",
    "import numpy as np\n",
    "import pandas as pd\n",
    "import seaborn as sns\n",
    "import matplotlib.pyplot as plt\n",
    "import os\n",
    "import yfinance as yf\n",
    "\n",
    "while 'notebooks' in os.getcwd():\n",
    "    os.chdir(\"..\")\n",
    "api_key = \"demo\""
   ]
  },
  {
   "cell_type": "code",
   "execution_count": 4,
   "metadata": {},
   "outputs": [],
   "source": [
    "aapl_news = pd.read_pickle(\"data/apple_news_sentiment.pkl\")"
   ]
  },
  {
   "cell_type": "code",
   "execution_count": 2,
   "metadata": {},
   "outputs": [
    {
     "name": "stdout",
     "output_type": "stream",
     "text": [
      "[*********************100%%**********************]  1 of 1 completed\n"
     ]
    }
   ],
   "source": [
    "aapl_prices = yf.download(\n",
    "    'AAPL',\n",
    "    start='2019-12-30',\n",
    "    end='2022-12-30'\n",
    ")"
   ]
  },
  {
   "cell_type": "code",
   "execution_count": 3,
   "metadata": {},
   "outputs": [
    {
     "data": {
      "text/html": [
       "<div>\n",
       "<style scoped>\n",
       "    .dataframe tbody tr th:only-of-type {\n",
       "        vertical-align: middle;\n",
       "    }\n",
       "\n",
       "    .dataframe tbody tr th {\n",
       "        vertical-align: top;\n",
       "    }\n",
       "\n",
       "    .dataframe thead th {\n",
       "        text-align: right;\n",
       "    }\n",
       "</style>\n",
       "<table border=\"1\" class=\"dataframe\">\n",
       "  <thead>\n",
       "    <tr style=\"text-align: right;\">\n",
       "      <th></th>\n",
       "      <th>Open</th>\n",
       "      <th>High</th>\n",
       "      <th>Low</th>\n",
       "      <th>Close</th>\n",
       "      <th>Adj Close</th>\n",
       "      <th>Volume</th>\n",
       "    </tr>\n",
       "    <tr>\n",
       "      <th>Date</th>\n",
       "      <th></th>\n",
       "      <th></th>\n",
       "      <th></th>\n",
       "      <th></th>\n",
       "      <th></th>\n",
       "      <th></th>\n",
       "    </tr>\n",
       "  </thead>\n",
       "  <tbody>\n",
       "    <tr>\n",
       "      <th>2019-12-30</th>\n",
       "      <td>72.364998</td>\n",
       "      <td>73.172501</td>\n",
       "      <td>71.305000</td>\n",
       "      <td>72.879997</td>\n",
       "      <td>71.095566</td>\n",
       "      <td>144114400</td>\n",
       "    </tr>\n",
       "    <tr>\n",
       "      <th>2019-12-31</th>\n",
       "      <td>72.482498</td>\n",
       "      <td>73.419998</td>\n",
       "      <td>72.379997</td>\n",
       "      <td>73.412498</td>\n",
       "      <td>71.615021</td>\n",
       "      <td>100805600</td>\n",
       "    </tr>\n",
       "    <tr>\n",
       "      <th>2020-01-02</th>\n",
       "      <td>74.059998</td>\n",
       "      <td>75.150002</td>\n",
       "      <td>73.797501</td>\n",
       "      <td>75.087502</td>\n",
       "      <td>73.249023</td>\n",
       "      <td>135480400</td>\n",
       "    </tr>\n",
       "    <tr>\n",
       "      <th>2020-01-03</th>\n",
       "      <td>74.287498</td>\n",
       "      <td>75.144997</td>\n",
       "      <td>74.125000</td>\n",
       "      <td>74.357498</td>\n",
       "      <td>72.536888</td>\n",
       "      <td>146322800</td>\n",
       "    </tr>\n",
       "    <tr>\n",
       "      <th>2020-01-06</th>\n",
       "      <td>73.447502</td>\n",
       "      <td>74.989998</td>\n",
       "      <td>73.187500</td>\n",
       "      <td>74.949997</td>\n",
       "      <td>73.114891</td>\n",
       "      <td>118387200</td>\n",
       "    </tr>\n",
       "    <tr>\n",
       "      <th>...</th>\n",
       "      <td>...</td>\n",
       "      <td>...</td>\n",
       "      <td>...</td>\n",
       "      <td>...</td>\n",
       "      <td>...</td>\n",
       "      <td>...</td>\n",
       "    </tr>\n",
       "    <tr>\n",
       "      <th>2022-12-22</th>\n",
       "      <td>134.350006</td>\n",
       "      <td>134.559998</td>\n",
       "      <td>130.300003</td>\n",
       "      <td>132.229996</td>\n",
       "      <td>131.668243</td>\n",
       "      <td>77852100</td>\n",
       "    </tr>\n",
       "    <tr>\n",
       "      <th>2022-12-23</th>\n",
       "      <td>130.919998</td>\n",
       "      <td>132.419998</td>\n",
       "      <td>129.639999</td>\n",
       "      <td>131.860001</td>\n",
       "      <td>131.299820</td>\n",
       "      <td>63814900</td>\n",
       "    </tr>\n",
       "    <tr>\n",
       "      <th>2022-12-27</th>\n",
       "      <td>131.380005</td>\n",
       "      <td>131.410004</td>\n",
       "      <td>128.720001</td>\n",
       "      <td>130.029999</td>\n",
       "      <td>129.477585</td>\n",
       "      <td>69007800</td>\n",
       "    </tr>\n",
       "    <tr>\n",
       "      <th>2022-12-28</th>\n",
       "      <td>129.669998</td>\n",
       "      <td>131.029999</td>\n",
       "      <td>125.870003</td>\n",
       "      <td>126.040001</td>\n",
       "      <td>125.504539</td>\n",
       "      <td>85438400</td>\n",
       "    </tr>\n",
       "    <tr>\n",
       "      <th>2022-12-29</th>\n",
       "      <td>127.989998</td>\n",
       "      <td>130.479996</td>\n",
       "      <td>127.730003</td>\n",
       "      <td>129.610001</td>\n",
       "      <td>129.059372</td>\n",
       "      <td>75703700</td>\n",
       "    </tr>\n",
       "  </tbody>\n",
       "</table>\n",
       "<p>757 rows × 6 columns</p>\n",
       "</div>"
      ],
      "text/plain": [
       "                  Open        High         Low       Close   Adj Close  \\\n",
       "Date                                                                     \n",
       "2019-12-30   72.364998   73.172501   71.305000   72.879997   71.095566   \n",
       "2019-12-31   72.482498   73.419998   72.379997   73.412498   71.615021   \n",
       "2020-01-02   74.059998   75.150002   73.797501   75.087502   73.249023   \n",
       "2020-01-03   74.287498   75.144997   74.125000   74.357498   72.536888   \n",
       "2020-01-06   73.447502   74.989998   73.187500   74.949997   73.114891   \n",
       "...                ...         ...         ...         ...         ...   \n",
       "2022-12-22  134.350006  134.559998  130.300003  132.229996  131.668243   \n",
       "2022-12-23  130.919998  132.419998  129.639999  131.860001  131.299820   \n",
       "2022-12-27  131.380005  131.410004  128.720001  130.029999  129.477585   \n",
       "2022-12-28  129.669998  131.029999  125.870003  126.040001  125.504539   \n",
       "2022-12-29  127.989998  130.479996  127.730003  129.610001  129.059372   \n",
       "\n",
       "               Volume  \n",
       "Date                   \n",
       "2019-12-30  144114400  \n",
       "2019-12-31  100805600  \n",
       "2020-01-02  135480400  \n",
       "2020-01-03  146322800  \n",
       "2020-01-06  118387200  \n",
       "...               ...  \n",
       "2022-12-22   77852100  \n",
       "2022-12-23   63814900  \n",
       "2022-12-27   69007800  \n",
       "2022-12-28   85438400  \n",
       "2022-12-29   75703700  \n",
       "\n",
       "[757 rows x 6 columns]"
      ]
     },
     "execution_count": 3,
     "metadata": {},
     "output_type": "execute_result"
    }
   ],
   "source": [
    "aapl_prices"
   ]
  },
  {
   "cell_type": "code",
   "execution_count": 7,
   "metadata": {},
   "outputs": [],
   "source": [
    "aapl_news[\"date\"] = aapl_news[\"date\"].dt.date"
   ]
  },
  {
   "cell_type": "code",
   "execution_count": 11,
   "metadata": {},
   "outputs": [],
   "source": [
    "aapl_news[\"sentiment_count\"] = aapl_news[\"sentiment\"].map({\n",
    "    \"neutral\": 0 ,\n",
    "    \"positive\" : 1,\n",
    "    \"negative\" : -1\n",
    "})"
   ]
  },
  {
   "cell_type": "code",
   "execution_count": 15,
   "metadata": {},
   "outputs": [],
   "source": [
    "aapl_sentiment = aapl_news.groupby(\"date\")\\\n",
    "    .sum()\\\n",
    "    .sentiment_count"
   ]
  },
  {
   "cell_type": "code",
   "execution_count": 48,
   "metadata": {},
   "outputs": [
    {
     "data": {
      "text/html": [
       "<div>\n",
       "<style scoped>\n",
       "    .dataframe tbody tr th:only-of-type {\n",
       "        vertical-align: middle;\n",
       "    }\n",
       "\n",
       "    .dataframe tbody tr th {\n",
       "        vertical-align: top;\n",
       "    }\n",
       "\n",
       "    .dataframe thead th {\n",
       "        text-align: right;\n",
       "    }\n",
       "</style>\n",
       "<table border=\"1\" class=\"dataframe\">\n",
       "  <thead>\n",
       "    <tr style=\"text-align: right;\">\n",
       "      <th></th>\n",
       "      <th>date</th>\n",
       "      <th>title</th>\n",
       "      <th>content</th>\n",
       "      <th>sentiment</th>\n",
       "      <th>sentiment_count</th>\n",
       "    </tr>\n",
       "  </thead>\n",
       "  <tbody>\n",
       "    <tr>\n",
       "      <th>0</th>\n",
       "      <td>2022-11-15</td>\n",
       "      <td>Apple Prepares to Source Chips From Arizona</td>\n",
       "      <td>Apple Inc. CEO Tim Cook says the company is pr...</td>\n",
       "      <td>neutral</td>\n",
       "      <td>0</td>\n",
       "    </tr>\n",
       "    <tr>\n",
       "      <th>1</th>\n",
       "      <td>2022-11-16</td>\n",
       "      <td>Apple plans to source chips from Arizona plant...</td>\n",
       "      <td>Apple Inc. plans to source chips for its devic...</td>\n",
       "      <td>neutral</td>\n",
       "      <td>0</td>\n",
       "    </tr>\n",
       "    <tr>\n",
       "      <th>2</th>\n",
       "      <td>2022-11-16</td>\n",
       "      <td>Stocks Edge Higher, Target, Nvidia, Apple And ...</td>\n",
       "      <td>Stock futures gain as concern over Poland rock...</td>\n",
       "      <td>positive</td>\n",
       "      <td>1</td>\n",
       "    </tr>\n",
       "    <tr>\n",
       "      <th>3</th>\n",
       "      <td>2022-11-16</td>\n",
       "      <td>Apple Plans to Buy American-Made Chips. They P...</td>\n",
       "      <td>Taiwan Semiconductor is building a $12 billion...</td>\n",
       "      <td>neutral</td>\n",
       "      <td>0</td>\n",
       "    </tr>\n",
       "    <tr>\n",
       "      <th>4</th>\n",
       "      <td>2022-11-16</td>\n",
       "      <td>Apple to buy U.S.-made chips from TSMC in supp...</td>\n",
       "      <td>Yahoo Finance’s Daniel Howley joins the Live s...</td>\n",
       "      <td>neutral</td>\n",
       "      <td>0</td>\n",
       "    </tr>\n",
       "    <tr>\n",
       "      <th>...</th>\n",
       "      <td>...</td>\n",
       "      <td>...</td>\n",
       "      <td>...</td>\n",
       "      <td>...</td>\n",
       "      <td>...</td>\n",
       "    </tr>\n",
       "    <tr>\n",
       "      <th>448</th>\n",
       "      <td>2022-12-30</td>\n",
       "      <td>Apple Inc. (AAPL) Is a Trending Stock: Facts t...</td>\n",
       "      <td>Apple (AAPL) has recently been on Zacks.com's ...</td>\n",
       "      <td>neutral</td>\n",
       "      <td>0</td>\n",
       "    </tr>\n",
       "    <tr>\n",
       "      <th>449</th>\n",
       "      <td>2022-12-30</td>\n",
       "      <td>'Double' Trouble for Apple Could Actually Help...</td>\n",
       "      <td>Apple has formed a massive double-top pattern....</td>\n",
       "      <td>negative</td>\n",
       "      <td>-1</td>\n",
       "    </tr>\n",
       "    <tr>\n",
       "      <th>450</th>\n",
       "      <td>2022-12-30</td>\n",
       "      <td>Apple stock a top pick for 2023, Citi analyst ...</td>\n",
       "      <td>Yahoo Finance's Brian Sozzi discusses an analy...</td>\n",
       "      <td>positive</td>\n",
       "      <td>1</td>\n",
       "    </tr>\n",
       "    <tr>\n",
       "      <th>451</th>\n",
       "      <td>2022-12-30</td>\n",
       "      <td>Apple CEO Cook conveyed app store curb concern...</td>\n",
       "      <td>(Reuters) - Apple Inc Chief Executive Tim Cook...</td>\n",
       "      <td>negative</td>\n",
       "      <td>-1</td>\n",
       "    </tr>\n",
       "    <tr>\n",
       "      <th>452</th>\n",
       "      <td>2022-12-30</td>\n",
       "      <td>Earnings Outlook for 2023 and Featured Reports...</td>\n",
       "      <td>Friday, December 30, 2022\\n\\nThe Zacks Researc...</td>\n",
       "      <td>neutral</td>\n",
       "      <td>0</td>\n",
       "    </tr>\n",
       "  </tbody>\n",
       "</table>\n",
       "<p>453 rows × 5 columns</p>\n",
       "</div>"
      ],
      "text/plain": [
       "           date                                              title  \\\n",
       "0    2022-11-15        Apple Prepares to Source Chips From Arizona   \n",
       "1    2022-11-16  Apple plans to source chips from Arizona plant...   \n",
       "2    2022-11-16  Stocks Edge Higher, Target, Nvidia, Apple And ...   \n",
       "3    2022-11-16  Apple Plans to Buy American-Made Chips. They P...   \n",
       "4    2022-11-16  Apple to buy U.S.-made chips from TSMC in supp...   \n",
       "..          ...                                                ...   \n",
       "448  2022-12-30  Apple Inc. (AAPL) Is a Trending Stock: Facts t...   \n",
       "449  2022-12-30  'Double' Trouble for Apple Could Actually Help...   \n",
       "450  2022-12-30  Apple stock a top pick for 2023, Citi analyst ...   \n",
       "451  2022-12-30  Apple CEO Cook conveyed app store curb concern...   \n",
       "452  2022-12-30  Earnings Outlook for 2023 and Featured Reports...   \n",
       "\n",
       "                                               content sentiment  \\\n",
       "0    Apple Inc. CEO Tim Cook says the company is pr...   neutral   \n",
       "1    Apple Inc. plans to source chips for its devic...   neutral   \n",
       "2    Stock futures gain as concern over Poland rock...  positive   \n",
       "3    Taiwan Semiconductor is building a $12 billion...   neutral   \n",
       "4    Yahoo Finance’s Daniel Howley joins the Live s...   neutral   \n",
       "..                                                 ...       ...   \n",
       "448  Apple (AAPL) has recently been on Zacks.com's ...   neutral   \n",
       "449  Apple has formed a massive double-top pattern....  negative   \n",
       "450  Yahoo Finance's Brian Sozzi discusses an analy...  positive   \n",
       "451  (Reuters) - Apple Inc Chief Executive Tim Cook...  negative   \n",
       "452  Friday, December 30, 2022\\n\\nThe Zacks Researc...   neutral   \n",
       "\n",
       "     sentiment_count  \n",
       "0                  0  \n",
       "1                  0  \n",
       "2                  1  \n",
       "3                  0  \n",
       "4                  0  \n",
       "..               ...  \n",
       "448                0  \n",
       "449               -1  \n",
       "450                1  \n",
       "451               -1  \n",
       "452                0  \n",
       "\n",
       "[453 rows x 5 columns]"
      ]
     },
     "execution_count": 48,
     "metadata": {},
     "output_type": "execute_result"
    }
   ],
   "source": [
    "aapl_news"
   ]
  },
  {
   "cell_type": "code",
   "execution_count": 16,
   "metadata": {},
   "outputs": [
    {
     "data": {
      "text/plain": [
       "<AxesSubplot:xlabel='date'>"
      ]
     },
     "execution_count": 16,
     "metadata": {},
     "output_type": "execute_result"
    },
    {
     "data": {
      "image/png": "[encoded data removed]",
      "text/plain": [
       "<Figure size 432x288 with 1 Axes>"
      ]
     },
     "metadata": {
      "needs_background": "light"
     },
     "output_type": "display_data"
    }
   ],
   "source": [
    "aapl_sentiment.plot()"
   ]
  },
  {
   "cell_type": "code",
   "execution_count": 30,
   "metadata": {},
   "outputs": [],
   "source": [
    "aapl_sentiment.index = pd.to_datetime(aapl_sentiment.index)"
   ]
  },
  {
   "cell_type": "code",
   "execution_count": 37,
   "metadata": {},
   "outputs": [],
   "source": [
    "valid_dates_sentiments = aapl_sentiment[aapl_sentiment.index.isin(aapl_prices.index)]"
   ]
  },
  {
   "cell_type": "code",
   "execution_count": 33,
   "metadata": {},
   "outputs": [
    {
     "data": {
      "text/plain": [
       "DatetimeIndex(['2019-12-30', '2019-12-31', '2020-01-02', '2020-01-03',\n",
       "               '2020-01-06', '2020-01-07', '2020-01-08', '2020-01-09',\n",
       "               '2020-01-10', '2020-01-13',\n",
       "               ...\n",
       "               '2022-12-15', '2022-12-16', '2022-12-19', '2022-12-20',\n",
       "               '2022-12-21', '2022-12-22', '2022-12-23', '2022-12-27',\n",
       "               '2022-12-28', '2022-12-29'],\n",
       "              dtype='datetime64[ns]', name='Date', length=757, freq=None)"
      ]
     },
     "execution_count": 33,
     "metadata": {},
     "output_type": "execute_result"
    }
   ],
   "source": [
    "aapl_prices.index"
   ]
  },
  {
   "cell_type": "code",
   "execution_count": 41,
   "metadata": {},
   "outputs": [],
   "source": [
    "aapl_prices_with_news = aapl_prices.loc[valid_dates_sentiments.index]"
   ]
  },
  {
   "cell_type": "code",
   "execution_count": 47,
   "metadata": {},
   "outputs": [
    {
     "data": {
      "image/png": "[encoded data removed]",
      "text/plain": [
       "<Figure size 432x288 with 1 Axes>"
      ]
     },
     "metadata": {
      "needs_background": "light"
     },
     "output_type": "display_data"
    }
   ],
   "source": [
    "aapl_prices['Close'].plot()\n",
    "aapl_prices_with_news[valid_dates_sentiments < 0].Close.plot(\n",
    "    color = 'green',\n",
    "    marker = 'o'\n",
    ")\n",
    "\n",
    "plt.show()"
   ]
  },
  {
   "cell_type": "code",
   "execution_count": null,
   "metadata": {},
   "outputs": [],
   "source": []
  }
 ],
 "metadata": {
  "kernelspec": {
   "display_name": "base",
   "language": "python",
   "name": "python3"
  },
  "language_info": {
   "codemirror_mode": {
    "name": "ipython",
    "version": 3
   },
   "file_extension": ".py",
   "mimetype": "text/x-python",
   "name": "python",
   "nbconvert_exporter": "python",
   "pygments_lexer": "ipython3",
   "version": "3.8.5"
  },
  "orig_nbformat": 4
 },
 "nbformat": 4,
 "nbformat_minor": 2
}

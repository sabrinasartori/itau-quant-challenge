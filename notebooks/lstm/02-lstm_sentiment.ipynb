{
 "cells": [
  {
   "cell_type": "code",
   "execution_count": 1,
   "metadata": {},
   "outputs": [],
   "source": [
    "%load_ext autoreload\n",
    "%autoreload 2\n"
   ]
  },
  {
   "cell_type": "code",
   "execution_count": 2,
   "metadata": {},
   "outputs": [],
   "source": [
    "import torch\n",
    "import torch.nn as nn\n",
    "import pandas as pd\n",
    "import numpy as np\n",
    "import yfinance as yf\n",
    "import matplotlib.pyplot as plt\n",
    "from torch.utils.data import DataLoader, Dataset\n",
    "from typing import Union\n",
    "from tqdm import tqdm\n",
    "from sklearn.preprocessing import MinMaxScaler\n",
    "\n",
    "import os \n",
    "\n",
    "while \"notebooks\" in os.getcwd():\n",
    "    os.chdir(\"..\")\n",
    "\n",
    "from src.preprocessing.lstm.make_dataset import StockReturnsDataset, \\\n",
    "    StockPricesDataset, get_prices_features, normalize_features,\\\n",
    "    generate_sentiment_features\n",
    "\n",
    "from src.preprocessing.finbert.get_news import get_news, \\\n",
    "    filter_news_with_name, save_company_news_df,\\\n",
    "    read_company_news_df"
   ]
  },
  {
   "cell_type": "markdown",
   "metadata": {},
   "source": [
    "# LSTM Analysis with Tech stock prices"
   ]
  },
  {
   "cell_type": "markdown",
   "metadata": {},
   "source": [
    "## Prices"
   ]
  },
  {
   "cell_type": "code",
   "execution_count": 3,
   "metadata": {},
   "outputs": [],
   "source": [
    "all_prices = pd.DataFrame([])"
   ]
  },
  {
   "cell_type": "code",
   "execution_count": 4,
   "metadata": {},
   "outputs": [
    {
     "name": "stdout",
     "output_type": "stream",
     "text": [
      "[*********************100%***********************]  1 of 1 completed\n"
     ]
    }
   ],
   "source": [
    "prices_df = yf.download(\n",
    "    tickers= \"AAPL\",\n",
    "    start=\"2020-01-10\",\n",
    "    end=\"2022-12-30\",\n",
    ")"
   ]
  },
  {
   "cell_type": "code",
   "execution_count": 6,
   "metadata": {},
   "outputs": [
    {
     "name": "stdout",
     "output_type": "stream",
     "text": [
      "[*********************100%***********************]  1 of 1 completed\n",
      "[*********************100%***********************]  1 of 1 completed\n",
      "[*********************100%***********************]  1 of 1 completed\n",
      "[*********************100%***********************]  1 of 1 completed\n",
      "[*********************100%***********************]  1 of 1 completed\n",
      "[*********************100%***********************]  1 of 1 completed\n",
      "[*********************100%***********************]  1 of 1 completed\n",
      "[*********************100%***********************]  1 of 1 completed\n",
      "[*********************100%***********************]  1 of 1 completed\n",
      "[*********************100%***********************]  1 of 1 completed\n"
     ]
    }
   ],
   "source": [
    "universe = [\n",
    "    \"AMZN\", \n",
    "    \"AAPL\", \n",
    "    \"MSFT\", \n",
    "    \"TSLA\",\n",
    "    \"META\",\n",
    "    \"NFLX\",\n",
    "    \"GOOGL\",\n",
    "    \"ORCL\",\n",
    "    \"ADBE\",\n",
    "    \"NVDA\"\n",
    "]\n",
    "all_prices = []\n",
    "\n",
    "for ticker in universe:\n",
    "    prices_df = yf.download(\n",
    "        tickers= ticker,\n",
    "        start=\"2019-12-30\",\n",
    "        end=\"2023-08-23\",\n",
    "    )\n",
    "\n",
    "    all_prices.append(get_prices_features(\n",
    "        prices_df,\n",
    "        ticker,\n",
    "        lookback=10,\n",
    "        pct_change= False\n",
    "    ))\n",
    "\n",
    "\n",
    "all_prices_df = pd.concat(all_prices)\n",
    "\n",
    "all_prices_df[\"ticker\"] = all_prices_df[\"ticker\"]\\\n",
    "    .replace(\"META\", \"FB\")"
   ]
  },
  {
   "cell_type": "code",
   "execution_count": null,
   "metadata": {},
   "outputs": [],
   "source": []
  },
  {
   "cell_type": "code",
   "execution_count": 7,
   "metadata": {},
   "outputs": [],
   "source": [
    "prices_without_ticker = all_prices_df\\\n",
    "    .loc[:,all_prices_df.columns != 'ticker']"
   ]
  },
  {
   "cell_type": "code",
   "execution_count": 8,
   "metadata": {},
   "outputs": [],
   "source": [
    "scaler, normalized_prices_df = normalize_features(\n",
    "    prices_without_ticker\n",
    ")"
   ]
  },
  {
   "cell_type": "code",
   "execution_count": 9,
   "metadata": {},
   "outputs": [],
   "source": [
    "normalized_prices_df[\"ticker\"] = all_prices_df[\"ticker\"]"
   ]
  },
  {
   "cell_type": "markdown",
   "metadata": {},
   "source": [
    "### Obtaining sentiment"
   ]
  },
  {
   "cell_type": "code",
   "execution_count": 10,
   "metadata": {},
   "outputs": [
    {
     "name": "stderr",
     "output_type": "stream",
     "text": [
      "  0%|          | 0/10 [00:00<?, ?it/s]"
     ]
    },
    {
     "name": "stderr",
     "output_type": "stream",
     "text": [
      "100%|██████████| 10/10 [00:00<00:00, 11.80it/s]\n"
     ]
    }
   ],
   "source": [
    "universe = [\n",
    "    \"AMZN\", \n",
    "    \"AAPL\", \n",
    "    \"MSFT\", \n",
    "    \"TSLA\",\n",
    "    \"FB\",\n",
    "    \"NFLX\",\n",
    "    \"GOOGL\",\n",
    "    \"ORCL\",\n",
    "    \"ADBE\",\n",
    "    \"NVDA\"\n",
    "]\n",
    "\n",
    "sentiment_list = []\n",
    "\n",
    "for ticker in tqdm(universe):\n",
    "    sentiment = generate_sentiment_features(ticker,\n",
    "                                            updated= True)\n",
    "    sentiment[\"ticker\"] = ticker\n",
    "    sentiment_list.append(sentiment)\n",
    "\n",
    "sentiment_df = pd.concat(sentiment_list)\n",
    "sentiment_df.index = pd.to_datetime(sentiment_df.index)"
   ]
  },
  {
   "cell_type": "code",
   "execution_count": 11,
   "metadata": {},
   "outputs": [],
   "source": [
    "sentiment_df.reset_index(inplace=True)\n",
    "normalized_prices_df.reset_index(inplace=True)"
   ]
  },
  {
   "cell_type": "code",
   "execution_count": 12,
   "metadata": {},
   "outputs": [],
   "source": [
    "features_df = pd.merge(\n",
    "    normalized_prices_df,\n",
    "    sentiment_df,\n",
    "    left_on=[\"ticker\", \"Date\"],\n",
    "    right_on=[\"ticker\", \"date\"],\n",
    "    how = \"left\"\n",
    ")\\\n",
    "    .set_index([\"Date\", \"ticker\"])"
   ]
  },
  {
   "cell_type": "code",
   "execution_count": 13,
   "metadata": {},
   "outputs": [],
   "source": [
    "selected_columns = ~((features_df.columns == \"index\") | (features_df.columns == \"date\") )"
   ]
  },
  {
   "cell_type": "code",
   "execution_count": 14,
   "metadata": {},
   "outputs": [],
   "source": [
    "feature_names = [i for i in range(1,10 + 1)]\n",
    "# feature_names.append(\"sentiment_count\")\n"
   ]
  },
  {
   "cell_type": "code",
   "execution_count": 15,
   "metadata": {},
   "outputs": [],
   "source": [
    "train_dates = features_df.index\\\n",
    "    .get_level_values(\"Date\") < '2021-04'\n",
    "\n",
    "test_dates = features_df.index\\\n",
    "    .get_level_values(\"Date\") > '2021-04'"
   ]
  },
  {
   "cell_type": "code",
   "execution_count": 16,
   "metadata": {},
   "outputs": [],
   "source": [
    "X_train = features_df\\\n",
    "    .loc[train_dates,selected_columns]\\\n",
    "    .fillna(0)\n",
    "\n",
    "X_test = features_df\\\n",
    "    .loc[test_dates ,selected_columns]\\\n",
    "    .fillna(0)"
   ]
  },
  {
   "cell_type": "code",
   "execution_count": 17,
   "metadata": {},
   "outputs": [],
   "source": [
    "y_train = features_df\\\n",
    "    .fillna(0)\\\n",
    "    .loc[train_dates, \"price\"]\n",
    "\n",
    "y_test = features_df\\\n",
    "    .loc[test_dates, \"price\"]"
   ]
  },
  {
   "cell_type": "code",
   "execution_count": 18,
   "metadata": {},
   "outputs": [],
   "source": [
    "X_train_numpy = X_train\\\n",
    "    .loc[:, feature_names]\\\n",
    "    .to_numpy()\\\n",
    "    .reshape((\n",
    "        X_train.shape[0],\n",
    "        X_train.loc[:,feature_names].shape[1],\n",
    "        1\n",
    "    ))\n",
    "\n",
    "X_test_numpy = X_test\\\n",
    "    .loc[:, feature_names]\\\n",
    "    .to_numpy()\\\n",
    "    .reshape((\n",
    "        X_test.shape[0],\n",
    "        X_test.loc[:,feature_names].shape[1],\n",
    "        1\n",
    "    ))"
   ]
  },
  {
   "cell_type": "code",
   "execution_count": 19,
   "metadata": {},
   "outputs": [],
   "source": [
    "y_train_numpy = y_train\\\n",
    "    .to_numpy()\\\n",
    "    .reshape(-1,1)\n",
    "\n",
    "y_test_numpy = y_test\\\n",
    "    .to_numpy()\\\n",
    "    .reshape(-1,1)"
   ]
  },
  {
   "cell_type": "code",
   "execution_count": 20,
   "metadata": {},
   "outputs": [],
   "source": [
    "X_train_tensor = torch\\\n",
    "    .from_numpy(X_train_numpy)\\\n",
    "    .type(torch.Tensor)\n",
    "\n",
    "X_test_tensor = torch\\\n",
    "    .from_numpy(X_test_numpy)\\\n",
    "    .type(torch.Tensor)"
   ]
  },
  {
   "cell_type": "code",
   "execution_count": 21,
   "metadata": {},
   "outputs": [],
   "source": [
    "y_train_tensor = torch\\\n",
    "    .from_numpy(y_train_numpy)\\\n",
    "    .type(torch.Tensor)\n",
    "\n",
    "y_test_tensor = torch\\\n",
    "    .from_numpy(y_test_numpy)\\\n",
    "    .type(torch.Tensor)"
   ]
  },
  {
   "cell_type": "code",
   "execution_count": 22,
   "metadata": {},
   "outputs": [],
   "source": [
    "dataset = StockPricesDataset(X_train_tensor, y_train_tensor)\n",
    "\n",
    "dataloader = DataLoader(\n",
    "    dataset,\n",
    "    batch_size= 5,\n",
    "    shuffle= True,\n",
    ")"
   ]
  },
  {
   "cell_type": "code",
   "execution_count": 23,
   "metadata": {},
   "outputs": [
    {
     "data": {
      "text/plain": [
       "(torch.Size([3060, 10, 1]), torch.Size([3060, 1]))"
      ]
     },
     "execution_count": 23,
     "metadata": {},
     "output_type": "execute_result"
    }
   ],
   "source": [
    "X_train_tensor.size(),\\\n",
    "y_train_tensor.size()"
   ]
  },
  {
   "cell_type": "markdown",
   "metadata": {},
   "source": [
    "## Building LSTM model"
   ]
  },
  {
   "cell_type": "code",
   "execution_count": 24,
   "metadata": {},
   "outputs": [],
   "source": [
    "class LSTM(nn.Module):\n",
    "    def __init__(self, \n",
    "                 input_dim: int, \n",
    "                 hidden_dim : int , \n",
    "                 num_layers : int , \n",
    "                 output_dim : int,\n",
    "                 activation : callable = lambda x : x \n",
    "                ):\n",
    "        super(LSTM, self).__init__()\n",
    "        self.hidden_dim = hidden_dim\n",
    "        self.num_layers = num_layers\n",
    "        \n",
    "        self.lstm = nn.LSTM(\n",
    "            input_dim, \n",
    "            hidden_dim, \n",
    "            num_layers, \n",
    "            batch_first=True,\n",
    "        )\n",
    "\n",
    "        self.activation = activation\n",
    "\n",
    "        self.fc = nn.Linear(hidden_dim, output_dim)\n",
    "\n",
    "    def forward(self, \n",
    "                x: torch.Tensor):\n",
    "        h0 = torch.zeros(self.num_layers, x.size(0), self.hidden_dim).requires_grad_()\n",
    "        c0 = torch.zeros(self.num_layers, x.size(0), self.hidden_dim).requires_grad_()\n",
    "        out, (hn, cn) = self.lstm(x, (h0.detach(), c0.detach()))\n",
    "        out = self.activation(out)\n",
    "        out = self.fc(out[:, -1, :]) \n",
    "        return out"
   ]
  },
  {
   "cell_type": "code",
   "execution_count": 25,
   "metadata": {},
   "outputs": [],
   "source": [
    "class GRU(nn.Module):\n",
    "    def __init__(self, \n",
    "                 input_dim : int, \n",
    "                 hidden_dim : int, \n",
    "                 num_layers : int, \n",
    "                 output_dim : int\n",
    "                ):\n",
    "        super(GRU, self).__init__()\n",
    "        self.hidden_dim = hidden_dim\n",
    "        self.num_layers = num_layers\n",
    "        \n",
    "        self.gru = nn.GRU(\n",
    "            input_dim, \n",
    "            hidden_dim, \n",
    "            num_layers, \n",
    "            batch_first=True,\n",
    "        )\n",
    "        self.fc = nn.Linear(hidden_dim, output_dim)\n",
    "\n",
    "    def forward(self, x):\n",
    "        h0 = torch.zeros(self.num_layers, x.size(0), self.hidden_dim).requires_grad_()\n",
    "        out, (hn) = self.gru(x, (h0.detach()))\n",
    "        out = self.fc(out[:, -1, :]) \n",
    "        return out\n"
   ]
  },
  {
   "cell_type": "markdown",
   "metadata": {},
   "source": [
    "## Neural network training"
   ]
  },
  {
   "cell_type": "code",
   "execution_count": 26,
   "metadata": {},
   "outputs": [],
   "source": [
    "# lookback = 100\n",
    "input_dim = 1\n",
    "hidden_dim = 3\n",
    "num_layers = 1\n",
    "output_dim = 1\n",
    "num_epochs = 50"
   ]
  },
  {
   "cell_type": "code",
   "execution_count": 27,
   "metadata": {},
   "outputs": [],
   "source": [
    "model = GRU(\n",
    "    input_dim,\n",
    "    hidden_dim,\n",
    "    num_layers,\n",
    "    output_dim,\n",
    ")"
   ]
  },
  {
   "cell_type": "code",
   "execution_count": 28,
   "metadata": {},
   "outputs": [
    {
     "data": {
      "text/plain": [
       "<All keys matched successfully>"
      ]
     },
     "execution_count": 28,
     "metadata": {},
     "output_type": "execute_result"
    }
   ],
   "source": [
    "model.load_state_dict(torch.load(\"data/models/GRU_trained.pt\"))"
   ]
  },
  {
   "cell_type": "code",
   "execution_count": 29,
   "metadata": {},
   "outputs": [
    {
     "data": {
      "text/plain": [
       "58"
      ]
     },
     "execution_count": 29,
     "metadata": {},
     "output_type": "execute_result"
    }
   ],
   "source": [
    "treinable_params = sum(p.numel() for p in model.parameters() if p.requires_grad)\n",
    "treinable_params"
   ]
  },
  {
   "cell_type": "code",
   "execution_count": 257,
   "metadata": {},
   "outputs": [],
   "source": [
    "loss_fn = torch.nn.MSELoss()\n",
    "optimiser = torch.optim.Adam(model.parameters(), lr=0.05)"
   ]
  },
  {
   "cell_type": "code",
   "execution_count": 258,
   "metadata": {},
   "outputs": [
    {
     "name": "stderr",
     "output_type": "stream",
     "text": [
      "  0%|          | 0/612 [00:00<?, ?it/s]"
     ]
    },
    {
     "name": "stderr",
     "output_type": "stream",
     "text": [
      "100%|██████████| 612/612 [00:02<00:00, 238.75it/s]\n"
     ]
    },
    {
     "name": "stdout",
     "output_type": "stream",
     "text": [
      "Epoch 1 error : 0.0076486330613049465\n"
     ]
    },
    {
     "name": "stderr",
     "output_type": "stream",
     "text": [
      "100%|██████████| 612/612 [00:02<00:00, 246.35it/s]\n"
     ]
    },
    {
     "name": "stdout",
     "output_type": "stream",
     "text": [
      "Epoch 2 error : 0.0008559002964222326\n"
     ]
    },
    {
     "name": "stderr",
     "output_type": "stream",
     "text": [
      "100%|██████████| 612/612 [00:02<00:00, 251.02it/s]\n"
     ]
    },
    {
     "name": "stdout",
     "output_type": "stream",
     "text": [
      "Epoch 3 error : 0.0008135706619561781\n"
     ]
    },
    {
     "name": "stderr",
     "output_type": "stream",
     "text": [
      "100%|██████████| 612/612 [00:02<00:00, 240.85it/s]\n"
     ]
    },
    {
     "name": "stdout",
     "output_type": "stream",
     "text": [
      "Epoch 4 error : 0.0006386394084773177\n"
     ]
    },
    {
     "name": "stderr",
     "output_type": "stream",
     "text": [
      "100%|██████████| 612/612 [00:02<00:00, 243.52it/s]\n"
     ]
    },
    {
     "name": "stdout",
     "output_type": "stream",
     "text": [
      "Epoch 5 error : 0.0004560756117070121\n"
     ]
    },
    {
     "name": "stderr",
     "output_type": "stream",
     "text": [
      "100%|██████████| 612/612 [00:02<00:00, 251.39it/s]\n"
     ]
    },
    {
     "name": "stdout",
     "output_type": "stream",
     "text": [
      "Epoch 6 error : 0.0005434242275538244\n"
     ]
    },
    {
     "name": "stderr",
     "output_type": "stream",
     "text": [
      "100%|██████████| 612/612 [00:02<00:00, 248.10it/s]\n"
     ]
    },
    {
     "name": "stdout",
     "output_type": "stream",
     "text": [
      "Epoch 7 error : 0.00047559640030586333\n"
     ]
    },
    {
     "name": "stderr",
     "output_type": "stream",
     "text": [
      "100%|██████████| 612/612 [00:02<00:00, 250.42it/s]\n"
     ]
    },
    {
     "name": "stdout",
     "output_type": "stream",
     "text": [
      "Epoch 8 error : 0.0004873733098973722\n"
     ]
    },
    {
     "name": "stderr",
     "output_type": "stream",
     "text": [
      "100%|██████████| 612/612 [00:02<00:00, 251.33it/s]\n"
     ]
    },
    {
     "name": "stdout",
     "output_type": "stream",
     "text": [
      "Epoch 9 error : 0.0004568322491118154\n"
     ]
    },
    {
     "name": "stderr",
     "output_type": "stream",
     "text": [
      "100%|██████████| 612/612 [00:02<00:00, 246.72it/s]\n"
     ]
    },
    {
     "name": "stdout",
     "output_type": "stream",
     "text": [
      "Epoch 10 error : 0.000534470064954815\n"
     ]
    },
    {
     "name": "stderr",
     "output_type": "stream",
     "text": [
      "100%|██████████| 612/612 [00:02<00:00, 249.08it/s]\n"
     ]
    },
    {
     "name": "stdout",
     "output_type": "stream",
     "text": [
      "Epoch 11 error : 0.0005086775545243232\n"
     ]
    },
    {
     "name": "stderr",
     "output_type": "stream",
     "text": [
      "100%|██████████| 612/612 [00:02<00:00, 244.70it/s]\n"
     ]
    },
    {
     "name": "stdout",
     "output_type": "stream",
     "text": [
      "Epoch 12 error : 0.0004174715976128057\n"
     ]
    },
    {
     "name": "stderr",
     "output_type": "stream",
     "text": [
      "100%|██████████| 612/612 [00:02<00:00, 252.77it/s]\n"
     ]
    },
    {
     "name": "stdout",
     "output_type": "stream",
     "text": [
      "Epoch 13 error : 0.0004234180535257532\n"
     ]
    },
    {
     "name": "stderr",
     "output_type": "stream",
     "text": [
      "100%|██████████| 612/612 [00:02<00:00, 254.32it/s]\n"
     ]
    },
    {
     "name": "stdout",
     "output_type": "stream",
     "text": [
      "Epoch 14 error : 0.00038457289772945454\n"
     ]
    },
    {
     "name": "stderr",
     "output_type": "stream",
     "text": [
      "100%|██████████| 612/612 [00:02<00:00, 227.93it/s]\n"
     ]
    },
    {
     "name": "stdout",
     "output_type": "stream",
     "text": [
      "Epoch 15 error : 0.00045505914852351543\n"
     ]
    },
    {
     "name": "stderr",
     "output_type": "stream",
     "text": [
      "100%|██████████| 612/612 [00:02<00:00, 247.90it/s]\n"
     ]
    },
    {
     "name": "stdout",
     "output_type": "stream",
     "text": [
      "Epoch 16 error : 0.00048766996272524624\n"
     ]
    },
    {
     "name": "stderr",
     "output_type": "stream",
     "text": [
      "100%|██████████| 612/612 [00:02<00:00, 244.83it/s]\n"
     ]
    },
    {
     "name": "stdout",
     "output_type": "stream",
     "text": [
      "Epoch 17 error : 0.00047127071489618184\n"
     ]
    },
    {
     "name": "stderr",
     "output_type": "stream",
     "text": [
      "100%|██████████| 612/612 [00:02<00:00, 248.30it/s]\n"
     ]
    },
    {
     "name": "stdout",
     "output_type": "stream",
     "text": [
      "Epoch 18 error : 0.000407264494807273\n"
     ]
    },
    {
     "name": "stderr",
     "output_type": "stream",
     "text": [
      "100%|██████████| 612/612 [00:02<00:00, 238.93it/s]\n"
     ]
    },
    {
     "name": "stdout",
     "output_type": "stream",
     "text": [
      "Epoch 19 error : 0.00039456847599211826\n"
     ]
    },
    {
     "name": "stderr",
     "output_type": "stream",
     "text": [
      "100%|██████████| 612/612 [00:02<00:00, 249.08it/s]\n"
     ]
    },
    {
     "name": "stdout",
     "output_type": "stream",
     "text": [
      "Epoch 20 error : 0.00043464205455121354\n"
     ]
    },
    {
     "name": "stderr",
     "output_type": "stream",
     "text": [
      "100%|██████████| 612/612 [00:02<00:00, 245.26it/s]\n"
     ]
    },
    {
     "name": "stdout",
     "output_type": "stream",
     "text": [
      "Epoch 21 error : 0.0004324149289113194\n"
     ]
    },
    {
     "name": "stderr",
     "output_type": "stream",
     "text": [
      "100%|██████████| 612/612 [00:02<00:00, 240.58it/s]\n"
     ]
    },
    {
     "name": "stdout",
     "output_type": "stream",
     "text": [
      "Epoch 22 error : 0.0006133110686271771\n"
     ]
    },
    {
     "name": "stderr",
     "output_type": "stream",
     "text": [
      "100%|██████████| 612/612 [00:02<00:00, 238.26it/s]\n"
     ]
    },
    {
     "name": "stdout",
     "output_type": "stream",
     "text": [
      "Epoch 23 error : 0.0003030641022970408\n"
     ]
    },
    {
     "name": "stderr",
     "output_type": "stream",
     "text": [
      "100%|██████████| 612/612 [00:02<00:00, 248.18it/s]\n"
     ]
    },
    {
     "name": "stdout",
     "output_type": "stream",
     "text": [
      "Epoch 24 error : 0.0005097776021344853\n"
     ]
    },
    {
     "name": "stderr",
     "output_type": "stream",
     "text": [
      "100%|██████████| 612/612 [00:02<00:00, 245.71it/s]\n"
     ]
    },
    {
     "name": "stdout",
     "output_type": "stream",
     "text": [
      "Epoch 25 error : 0.0004014976884703774\n"
     ]
    },
    {
     "name": "stderr",
     "output_type": "stream",
     "text": [
      "100%|██████████| 612/612 [00:02<00:00, 238.73it/s]\n"
     ]
    },
    {
     "name": "stdout",
     "output_type": "stream",
     "text": [
      "Epoch 26 error : 0.00045415625923506846\n"
     ]
    },
    {
     "name": "stderr",
     "output_type": "stream",
     "text": [
      "100%|██████████| 612/612 [00:02<00:00, 214.48it/s]\n"
     ]
    },
    {
     "name": "stdout",
     "output_type": "stream",
     "text": [
      "Epoch 27 error : 0.00030978102623236076\n"
     ]
    },
    {
     "name": "stderr",
     "output_type": "stream",
     "text": [
      "100%|██████████| 612/612 [00:02<00:00, 210.48it/s]\n"
     ]
    },
    {
     "name": "stdout",
     "output_type": "stream",
     "text": [
      "Epoch 28 error : 0.0004536805081521183\n"
     ]
    },
    {
     "name": "stderr",
     "output_type": "stream",
     "text": [
      "100%|██████████| 612/612 [00:02<00:00, 226.21it/s]\n"
     ]
    },
    {
     "name": "stdout",
     "output_type": "stream",
     "text": [
      "Epoch 29 error : 0.00036827890526339223\n"
     ]
    },
    {
     "name": "stderr",
     "output_type": "stream",
     "text": [
      "100%|██████████| 612/612 [00:02<00:00, 224.09it/s]\n"
     ]
    },
    {
     "name": "stdout",
     "output_type": "stream",
     "text": [
      "Epoch 30 error : 0.00040230242858517895\n"
     ]
    },
    {
     "name": "stderr",
     "output_type": "stream",
     "text": [
      "100%|██████████| 612/612 [00:02<00:00, 231.85it/s]\n"
     ]
    },
    {
     "name": "stdout",
     "output_type": "stream",
     "text": [
      "Epoch 31 error : 0.00041459008181082146\n"
     ]
    },
    {
     "name": "stderr",
     "output_type": "stream",
     "text": [
      "100%|██████████| 612/612 [00:02<00:00, 232.38it/s]\n"
     ]
    },
    {
     "name": "stdout",
     "output_type": "stream",
     "text": [
      "Epoch 32 error : 0.00039696284397682484\n"
     ]
    },
    {
     "name": "stderr",
     "output_type": "stream",
     "text": [
      "100%|██████████| 612/612 [00:02<00:00, 245.89it/s]\n"
     ]
    },
    {
     "name": "stdout",
     "output_type": "stream",
     "text": [
      "Epoch 33 error : 0.00038370418147021864\n"
     ]
    },
    {
     "name": "stderr",
     "output_type": "stream",
     "text": [
      "100%|██████████| 612/612 [00:02<00:00, 251.75it/s]\n"
     ]
    },
    {
     "name": "stdout",
     "output_type": "stream",
     "text": [
      "Epoch 34 error : 0.00042423517072843515\n"
     ]
    },
    {
     "name": "stderr",
     "output_type": "stream",
     "text": [
      "100%|██████████| 612/612 [00:02<00:00, 229.54it/s]\n"
     ]
    },
    {
     "name": "stdout",
     "output_type": "stream",
     "text": [
      "Epoch 35 error : 0.00036849847186492293\n"
     ]
    },
    {
     "name": "stderr",
     "output_type": "stream",
     "text": [
      "100%|██████████| 612/612 [00:03<00:00, 187.36it/s]\n"
     ]
    },
    {
     "name": "stdout",
     "output_type": "stream",
     "text": [
      "Epoch 36 error : 0.00040380892782124255\n"
     ]
    },
    {
     "name": "stderr",
     "output_type": "stream",
     "text": [
      "100%|██████████| 612/612 [00:02<00:00, 282.12it/s]\n"
     ]
    },
    {
     "name": "stdout",
     "output_type": "stream",
     "text": [
      "Epoch 37 error : 0.00037249371454550615\n"
     ]
    },
    {
     "name": "stderr",
     "output_type": "stream",
     "text": [
      "100%|██████████| 612/612 [00:02<00:00, 291.55it/s]\n"
     ]
    },
    {
     "name": "stdout",
     "output_type": "stream",
     "text": [
      "Epoch 38 error : 0.00034621825595045237\n"
     ]
    },
    {
     "name": "stderr",
     "output_type": "stream",
     "text": [
      "100%|██████████| 612/612 [00:02<00:00, 284.14it/s]\n"
     ]
    },
    {
     "name": "stdout",
     "output_type": "stream",
     "text": [
      "Epoch 39 error : 0.0004100640312631512\n"
     ]
    },
    {
     "name": "stderr",
     "output_type": "stream",
     "text": [
      "100%|██████████| 612/612 [00:02<00:00, 303.12it/s]\n"
     ]
    },
    {
     "name": "stdout",
     "output_type": "stream",
     "text": [
      "Epoch 40 error : 0.00041369011650400065\n"
     ]
    },
    {
     "name": "stderr",
     "output_type": "stream",
     "text": [
      "100%|██████████| 612/612 [00:02<00:00, 294.58it/s]\n"
     ]
    },
    {
     "name": "stdout",
     "output_type": "stream",
     "text": [
      "Epoch 41 error : 0.0003447831418422978\n"
     ]
    },
    {
     "name": "stderr",
     "output_type": "stream",
     "text": [
      "100%|██████████| 612/612 [00:03<00:00, 198.90it/s]\n"
     ]
    },
    {
     "name": "stdout",
     "output_type": "stream",
     "text": [
      "Epoch 42 error : 0.0004062386071428276\n"
     ]
    },
    {
     "name": "stderr",
     "output_type": "stream",
     "text": [
      "100%|██████████| 612/612 [00:02<00:00, 237.27it/s]\n"
     ]
    },
    {
     "name": "stdout",
     "output_type": "stream",
     "text": [
      "Epoch 43 error : 0.0004195727543648359\n"
     ]
    },
    {
     "name": "stderr",
     "output_type": "stream",
     "text": [
      "100%|██████████| 612/612 [00:04<00:00, 151.42it/s]\n"
     ]
    },
    {
     "name": "stdout",
     "output_type": "stream",
     "text": [
      "Epoch 44 error : 0.00039703115423280963\n"
     ]
    },
    {
     "name": "stderr",
     "output_type": "stream",
     "text": [
      "100%|██████████| 612/612 [00:02<00:00, 241.06it/s]\n"
     ]
    },
    {
     "name": "stdout",
     "output_type": "stream",
     "text": [
      "Epoch 45 error : 0.00042113244785580307\n"
     ]
    },
    {
     "name": "stderr",
     "output_type": "stream",
     "text": [
      "100%|██████████| 612/612 [00:02<00:00, 276.23it/s]\n"
     ]
    },
    {
     "name": "stdout",
     "output_type": "stream",
     "text": [
      "Epoch 46 error : 0.0003961097763612886\n"
     ]
    },
    {
     "name": "stderr",
     "output_type": "stream",
     "text": [
      "100%|██████████| 612/612 [00:02<00:00, 290.51it/s]\n"
     ]
    },
    {
     "name": "stdout",
     "output_type": "stream",
     "text": [
      "Epoch 47 error : 0.00040375416732878243\n"
     ]
    },
    {
     "name": "stderr",
     "output_type": "stream",
     "text": [
      "100%|██████████| 612/612 [00:02<00:00, 294.93it/s]\n"
     ]
    },
    {
     "name": "stdout",
     "output_type": "stream",
     "text": [
      "Epoch 48 error : 0.0003620150132400596\n"
     ]
    },
    {
     "name": "stderr",
     "output_type": "stream",
     "text": [
      "100%|██████████| 612/612 [00:02<00:00, 288.51it/s]\n"
     ]
    },
    {
     "name": "stdout",
     "output_type": "stream",
     "text": [
      "Epoch 49 error : 0.00035974904664586943\n"
     ]
    },
    {
     "name": "stderr",
     "output_type": "stream",
     "text": [
      "100%|██████████| 612/612 [00:02<00:00, 288.38it/s]"
     ]
    },
    {
     "name": "stdout",
     "output_type": "stream",
     "text": [
      "Epoch 50 error : 0.00038535459441316834\n"
     ]
    },
    {
     "name": "stderr",
     "output_type": "stream",
     "text": [
      "\n"
     ]
    }
   ],
   "source": [
    "# hist = np.zeros(num_epochs)\n",
    "\n",
    "for t in (range(num_epochs)):\n",
    "    epoch_accuracy = []\n",
    "    for X, y in tqdm(dataloader):\n",
    "        y_train_pred = model(X)\n",
    "\n",
    "        loss = loss_fn(y_train_pred, y)\n",
    "        \n",
    "        epoch_accuracy.append(loss.item())\n",
    "        optimiser.zero_grad()\n",
    "        loss.backward()\n",
    "        optimiser.step()\n",
    "\n",
    "    with torch.no_grad():\n",
    "        y_test_pred = model(X_test_tensor)\n",
    "\n",
    "        loss = loss_fn(y_test_pred, y_test_tensor)\n",
    "\n",
    "        print(f\"Epoch {t+1} error : {np.mean(epoch_accuracy)}\")\n"
   ]
  },
  {
   "cell_type": "code",
   "execution_count": 30,
   "metadata": {},
   "outputs": [],
   "source": [
    "y_pred_test = model(X_test_tensor)\\\n",
    "    .detach()\\\n",
    "    .numpy()\n",
    "\n",
    "y_pred_train = model(X_train_tensor)\\\n",
    "    .detach()\\\n",
    "    .numpy()"
   ]
  },
  {
   "cell_type": "code",
   "execution_count": 31,
   "metadata": {},
   "outputs": [
    {
     "data": {
      "text/plain": [
       "(6000,)"
      ]
     },
     "execution_count": 31,
     "metadata": {},
     "output_type": "execute_result"
    }
   ],
   "source": [
    "y_pred_test.reshape(-1).shape"
   ]
  },
  {
   "cell_type": "code",
   "execution_count": 32,
   "metadata": {},
   "outputs": [],
   "source": [
    "y_pred_test = pd.Series(\n",
    "    y_pred_test\\\n",
    "        .reshape(-1),\n",
    "    name = \"price\",\n",
    "    index = y_test.index      \n",
    ")\n",
    "\n",
    "y_pred_train = pd.Series(\n",
    "    y_pred_train\\\n",
    "        .reshape(-1),\n",
    "    name = \"price\",\n",
    "    index = y_train.index      \n",
    ")\n"
   ]
  },
  {
   "cell_type": "code",
   "execution_count": 33,
   "metadata": {},
   "outputs": [],
   "source": [
    "company_train = y_pred_train\\\n",
    "    .index\\\n",
    "    .get_level_values(\"ticker\") == \"AAPL\"\n",
    "\n",
    "\n",
    "company_test = y_pred_test\\\n",
    "    .index\\\n",
    "    .get_level_values(\"ticker\") == \"AAPL\""
   ]
  },
  {
   "cell_type": "code",
   "execution_count": 34,
   "metadata": {},
   "outputs": [
    {
     "data": {
      "text/plain": [
       "<matplotlib.legend.Legend at 0x7fe937642b90>"
      ]
     },
     "execution_count": 34,
     "metadata": {},
     "output_type": "execute_result"
    },
    {
     "data": {
      "image/png": "[encoded data removed]",
      "text/plain": [
       "<Figure size 640x480 with 1 Axes>"
      ]
     },
     "metadata": {},
     "output_type": "display_data"
    }
   ],
   "source": [
    "y_pred_test[company_test]\\\n",
    "    .reset_index(level=1)\\\n",
    "    [\"price\"]\\\n",
    "    .plot(\n",
    "        label = \"predicted price\"\n",
    "    )\n",
    "\n",
    "y_test[company_test]\\\n",
    "    .reset_index(level=1)\\\n",
    "    [\"price\"]\\\n",
    "    .plot(\n",
    "        label = \"real price\"\n",
    "    )\n",
    "\n",
    "# y_test[(y_pred_test.pct_change() < 0 ) & (y_test.index.get_level_values(\"ticker\") == \"AAPL\")]\\\n",
    "#     .reset_index(level= \"ticker\")\\\n",
    "#     [\"price\"]\\\n",
    "#     .plot(\n",
    "#         label = \"buy\",\n",
    "#         marker = \"^\",\n",
    "#         linestyle = \"None\",\n",
    "#         color = \"green\"\n",
    "#     )\n",
    "\n",
    "# y_test[(y_pred_test.pct_change()>0 ) & (y_test.index.get_level_values(\"ticker\") == \"AAPL\")]\\\n",
    "#     .reset_index(level= \"ticker\")\\\n",
    "#     [\"price\"]\\\n",
    "#     .plot(\n",
    "#         label = \"sell\",\n",
    "#         marker = \"^\",\n",
    "#         linestyle = \"None\",\n",
    "#         color = \"red\"\n",
    "#     )\n",
    "\n",
    "plt.legend()"
   ]
  },
  {
   "cell_type": "code",
   "execution_count": null,
   "metadata": {},
   "outputs": [],
   "source": []
  },
  {
   "cell_type": "code",
   "execution_count": 35,
   "metadata": {},
   "outputs": [
    {
     "data": {
      "text/plain": [
       "<matplotlib.legend.Legend at 0x7fe93765f370>"
      ]
     },
     "execution_count": 35,
     "metadata": {},
     "output_type": "execute_result"
    },
    {
     "data": {
      "image/png": "[encoded data removed]",
      "text/plain": [
       "<Figure size 640x480 with 1 Axes>"
      ]
     },
     "metadata": {},
     "output_type": "display_data"
    }
   ],
   "source": [
    "# plt.figure(figsize = (16,10))\n",
    "\n",
    "y_pred_train[company_train]\\\n",
    "    .reset_index(level= \"ticker\")\\\n",
    "    [\"price\"]\\\n",
    "    .plot(\n",
    "        label = \"predicted price\",\n",
    "        # color = \"blue\"\n",
    "    )\n",
    "\n",
    "y_train[company_train]\\\n",
    "    .reset_index(level= \"ticker\")\\\n",
    "    [\"price\"]\\\n",
    "    .plot(\n",
    "        label = \"real price\",\n",
    "        # color = \"blue\"\n",
    "    )\n",
    "\n",
    "\n",
    "\n",
    "\n",
    "plt.legend()"
   ]
  },
  {
   "cell_type": "markdown",
   "metadata": {},
   "source": [
    "## Creating signal"
   ]
  },
  {
   "cell_type": "markdown",
   "metadata": {},
   "source": [
    "## PnL"
   ]
  },
  {
   "cell_type": "code",
   "execution_count": 36,
   "metadata": {},
   "outputs": [
    {
     "data": {
      "text/plain": [
       "array([False, False, False, ...,  True,  True,  True])"
      ]
     },
     "execution_count": 36,
     "metadata": {},
     "output_type": "execute_result"
    }
   ],
   "source": [
    "y_pred_test.index.get_level_values(\"Date\") > \"2023\""
   ]
  },
  {
   "cell_type": "code",
   "execution_count": 90,
   "metadata": {},
   "outputs": [
    {
     "name": "stderr",
     "output_type": "stream",
     "text": [
      "  0%|          | 0/10 [00:00<?, ?it/s]"
     ]
    },
    {
     "name": "stderr",
     "output_type": "stream",
     "text": [
      "100%|██████████| 10/10 [00:00<00:00, 11.49it/s]\n"
     ]
    }
   ],
   "source": [
    "train = False\n",
    "only_2023= False\n",
    "num_trades = {}\n",
    "\n",
    "pnls = {}\n",
    "\n",
    "for ticker in tqdm(universe):\n",
    "    company_train = y_pred_train\\\n",
    "        .index\\\n",
    "        .get_level_values(\"ticker\") == ticker\n",
    "\n",
    "\n",
    "    company_test = y_pred_test\\\n",
    "        .index\\\n",
    "        .get_level_values(\"ticker\") == ticker\n",
    "    \n",
    "    if not train:\n",
    "        y_company = y_test[company_test]\n",
    "        y_pred_company = y_pred_test[company_test]\n",
    "\n",
    "    else:\n",
    "        y_company = y_train[company_train]\\\n",
    "            .sort_index(level = \"Date\")\n",
    "        y_pred_company = y_pred_train[company_train]\\\n",
    "            .sort_index(level = \"Date\")\n",
    "        \n",
    "\n",
    "    if only_2023:\n",
    "        idx = y_company\\\n",
    "            .index\\\n",
    "            .get_level_values(\"Date\") > \"2023\"\n",
    "        \n",
    "        y_company = y_company[idx]\n",
    "        y_pred_company = y_pred_company[idx]\n",
    "\n",
    "    avg_price = y_pred_company\\\n",
    "        .pct_change()\\\n",
    "        .rolling(20)\\\n",
    "        .mean()\n",
    "\n",
    "    std_price = y_pred_company\\\n",
    "        .pct_change()\\\n",
    "        .rolling(20)\\\n",
    "        .std()\n",
    "    \n",
    "    zscore = (y_pred_company.pct_change() - avg_price)/std_price\n",
    "\n",
    "    positions = pd.Series(\n",
    "        np.nan,\n",
    "        index = y_pred_company.index,\n",
    "        name = \"position\"\n",
    "    )\n",
    "    \n",
    "    positions.loc[y_pred_company.pct_change() < 0]  = 1\n",
    "    positions.loc[y_pred_company.pct_change() > 0] = -1 \n",
    "\n",
    "\n",
    "    positions = positions\\\n",
    "        .fillna(0)\n",
    "    \n",
    "    num_long = (positions == 1).sum()/positions.shape[0]\n",
    "    num_short = (positions == -1).sum()/positions.shape[0]\n",
    "\n",
    "    num_trades[ticker] = {\n",
    "        \"num_long\" : num_long,\n",
    "        \"num_short\" : num_short\n",
    "    }\n",
    "    \n",
    "    positions_df = pd.concat([y_company, positions], axis = 1)\n",
    "\n",
    "    positions_df = positions_df\\\n",
    "        .reset_index(level = \"ticker\")\n",
    "\n",
    "    pnl = pd.Series(\n",
    "        0,\n",
    "        index = positions_df.index,\n",
    "        name = \"pnl\"\n",
    "    )\n",
    "\n",
    "    last_buy_price = np.nan\n",
    "    cash = 0\n",
    "    position = 0 \n",
    "\n",
    "    for date, row in positions_df.iterrows():\n",
    "        first_trade = np.isnan(last_buy_price) and row[\"position\"] != 0 \n",
    "        has_position = not np.isnan(last_buy_price) and position != 0\n",
    "        changing_position = has_position and row[\"position\"] != position\n",
    "        holding_position = has_position and row[\"position\"] == position\n",
    "\n",
    "        if (first_trade):\n",
    "            last_buy_price = row[\"price\"] \n",
    "            position = row[\"position\"]\n",
    "\n",
    "        if (changing_position):\n",
    "            cash += (row[\"price\"] / last_buy_price - 1 )*position\n",
    "            # last_buy_price = np.nan\n",
    "            position = row[\"position\"]\n",
    "            \n",
    "            if (position == 0):\n",
    "                last_buy_price = np.nan\n",
    "            else:\n",
    "                last_buy_price = row[\"price\"] \n",
    "\n",
    "        if holding_position:\n",
    "            pnl.loc[date] = (row[\"price\"]- last_buy_price)/last_buy_price * position + cash\n",
    "\n",
    "        else:\n",
    "            pnl.loc[date] = cash\n",
    "\n",
    "    if row[\"position\"] != 0:\n",
    "        cash += (row[\"price\"]- last_buy_price)/last_buy_price * position\n",
    "\n",
    "        pnl.loc[date] = cash\n",
    "\n",
    "    pnls[ticker] = pnl\n",
    "        "
   ]
  },
  {
   "cell_type": "code",
   "execution_count": 91,
   "metadata": {},
   "outputs": [
    {
     "data": {
      "text/plain": [
       "{'AMZN': {'num_long': 0.49, 'num_short': 0.5083333333333333},\n",
       " 'AAPL': {'num_long': 0.4533333333333333, 'num_short': 0.545},\n",
       " 'MSFT': {'num_long': 0.49833333333333335, 'num_short': 0.5},\n",
       " 'TSLA': {'num_long': 0.485, 'num_short': 0.5133333333333333},\n",
       " 'FB': {'num_long': 0.49333333333333335, 'num_short': 0.505},\n",
       " 'NFLX': {'num_long': 0.48833333333333334, 'num_short': 0.51},\n",
       " 'GOOGL': {'num_long': 0.44, 'num_short': 0.5583333333333333},\n",
       " 'ORCL': {'num_long': 0.4533333333333333, 'num_short': 0.545},\n",
       " 'ADBE': {'num_long': 0.49166666666666664, 'num_short': 0.5066666666666667},\n",
       " 'NVDA': {'num_long': 0.48, 'num_short': 0.5183333333333333}}"
      ]
     },
     "execution_count": 91,
     "metadata": {},
     "output_type": "execute_result"
    }
   ],
   "source": [
    "num_trades"
   ]
  },
  {
   "cell_type": "code",
   "execution_count": 92,
   "metadata": {},
   "outputs": [
    {
     "data": {
      "text/plain": [
       "0.48"
      ]
     },
     "execution_count": 92,
     "metadata": {},
     "output_type": "execute_result"
    }
   ],
   "source": [
    "(positions == 1).sum()/positions.shape[0]"
   ]
  },
  {
   "cell_type": "code",
   "execution_count": 93,
   "metadata": {},
   "outputs": [
    {
     "data": {
      "text/plain": [
       "<matplotlib.legend.Legend at 0x7fe92d361b70>"
      ]
     },
     "execution_count": 93,
     "metadata": {},
     "output_type": "execute_result"
    },
    {
     "data": {
      "image/png": "[encoded data removed]",
      "text/plain": [
       "<Figure size 640x480 with 1 Axes>"
      ]
     },
     "metadata": {},
     "output_type": "display_data"
    }
   ],
   "source": [
    "pnl_total = pd.Series(\n",
    "    0,\n",
    "    index = pnls[\"AAPL\"].index\n",
    ")\n",
    "for k, pnl in pnls.items():\n",
    "    # if k == \"ADBE\" or k == \"ORCL\":\n",
    "    #     continue\n",
    "\n",
    "    if k not in [\"AAPL\", \"GOOGL\", \"FB\", \"AMZN\", \"MSFT\"]:\n",
    "        continue\n",
    "\n",
    "    pnl.plot(\n",
    "        label = k\n",
    "    )\n",
    "\n",
    "\n",
    "    pnl_total += pnl\n",
    "\n",
    "(pnl_total/5).plot(\n",
    "    label = \"total\",\n",
    ")\n",
    "\n",
    "plt.title(\"PnL for big tech companies (OOS)\")\n",
    "plt.legend()"
   ]
  },
  {
   "cell_type": "code",
   "execution_count": 95,
   "metadata": {},
   "outputs": [
    {
     "data": {
      "text/plain": [
       "1.3037882380367847"
      ]
     },
     "execution_count": 95,
     "metadata": {},
     "output_type": "execute_result"
    }
   ],
   "source": [
    "(pnl_total.diff().mean())/pnl_total.diff().std() * np.sqrt(252)"
   ]
  },
  {
   "cell_type": "markdown",
   "metadata": {},
   "source": [
    "## Correlation with tech index"
   ]
  },
  {
   "cell_type": "code",
   "execution_count": 61,
   "metadata": {},
   "outputs": [
    {
     "name": "stdout",
     "output_type": "stream",
     "text": [
      "[*********************100%***********************]  1 of 1 completed\n"
     ]
    }
   ],
   "source": [
    "prices_df = yf.download(\n",
    "    tickers= \"IVV\",\n",
    "    start=\"2019-12-30\",\n",
    "    end=\"2023-12-30\",\n",
    ")"
   ]
  },
  {
   "cell_type": "code",
   "execution_count": 62,
   "metadata": {},
   "outputs": [],
   "source": [
    "returns_etf = prices_df[\"Close\"]\\\n",
    "    .pct_change()\\\n",
    "    .reindex(index= pnl.index)"
   ]
  },
  {
   "cell_type": "code",
   "execution_count": 63,
   "metadata": {},
   "outputs": [
    {
     "data": {
      "text/plain": [
       "1.103580733153526"
      ]
     },
     "execution_count": 63,
     "metadata": {},
     "output_type": "execute_result"
    }
   ],
   "source": [
    "(pnl_total.diff() - returns_etf).mean() / pnl_total.diff().std() * np.sqrt(252)"
   ]
  },
  {
   "cell_type": "code",
   "execution_count": 64,
   "metadata": {},
   "outputs": [
    {
     "data": {
      "text/plain": [
       "-0.381977409637153"
      ]
     },
     "execution_count": 64,
     "metadata": {},
     "output_type": "execute_result"
    }
   ],
   "source": [
    "prices_df[\"Close\"].reindex(index = pnl_total.index).corr(pnl_total)"
   ]
  },
  {
   "cell_type": "code",
   "execution_count": 67,
   "metadata": {},
   "outputs": [],
   "source": [
    "scaler = MinMaxScaler((0,1))\n",
    "prices_close = scaler.fit_transform(prices_df[[\"Close\"]])\n",
    "# normalized_pnl = scaler.fit_transform(pd.DataFrame(pnl_total))"
   ]
  },
  {
   "cell_type": "code",
   "execution_count": 69,
   "metadata": {},
   "outputs": [
    {
     "data": {
      "text/plain": [
       "<Axes: xlabel='Date'>"
      ]
     },
     "execution_count": 69,
     "metadata": {},
     "output_type": "execute_result"
    },
    {
     "data": {
      "image/png": "[encoded data removed]",
      "text/plain": [
       "<Figure size 640x480 with 1 Axes>"
      ]
     },
     "metadata": {},
     "output_type": "display_data"
    }
   ],
   "source": [
    "pd.Series(\n",
    "    prices_close.reshape(-1),\n",
    "    index = prices_df.index\n",
    ").plot()\n",
    "pnl_total.plot()"
   ]
  }
 ],
 "metadata": {
  "kernelspec": {
   "display_name": "base",
   "language": "python",
   "name": "python3"
  },
  "language_info": {
   "codemirror_mode": {
    "name": "ipython",
    "version": 3
   },
   "file_extension": ".py",
   "mimetype": "text/x-python",
   "name": "python",
   "nbconvert_exporter": "python",
   "pygments_lexer": "ipython3",
   "version": "3.10.9"
  },
  "orig_nbformat": 4
 },
 "nbformat": 4,
 "nbformat_minor": 2
}

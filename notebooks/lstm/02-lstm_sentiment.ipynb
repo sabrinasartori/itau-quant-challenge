{
 "cells": [
  {
   "cell_type": "code",
   "execution_count": 305,
   "metadata": {},
   "outputs": [
    {
     "name": "stdout",
     "output_type": "stream",
     "text": [
      "The autoreload extension is already loaded. To reload it, use:\n",
      "  %reload_ext autoreload\n"
     ]
    }
   ],
   "source": [
    "%load_ext autoreload\n",
    "%autoreload 2\n"
   ]
  },
  {
   "cell_type": "code",
   "execution_count": 306,
   "metadata": {},
   "outputs": [],
   "source": [
    "import torch\n",
    "import torch.nn as nn\n",
    "import pandas as pd\n",
    "import numpy as np\n",
    "import yfinance as yf\n",
    "import matplotlib.pyplot as plt\n",
    "from torch.utils.data import DataLoader, Dataset\n",
    "from typing import Union\n",
    "from tqdm import tqdm\n",
    "from sklearn.preprocessing import MinMaxScaler\n",
    "\n",
    "import os \n",
    "\n",
    "while \"notebooks\" in os.getcwd():\n",
    "    os.chdir(\"..\")\n",
    "\n",
    "from src.preprocessing.lstm.make_dataset import StockReturnsDataset, \\\n",
    "    StockPricesDataset, get_prices_features, normalize_features,\\\n",
    "    generate_sentiment_features\n",
    "\n",
    "from src.preprocessing.finbert.get_news import get_news, \\\n",
    "    filter_news_with_name, save_company_news_df,\\\n",
    "    read_company_news_df"
   ]
  },
  {
   "cell_type": "markdown",
   "metadata": {},
   "source": [
    "# LSTM Analysis with AMZN stock prices"
   ]
  },
  {
   "cell_type": "code",
   "execution_count": null,
   "metadata": {},
   "outputs": [],
   "source": []
  },
  {
   "cell_type": "markdown",
   "metadata": {},
   "source": [
    "## Prices"
   ]
  },
  {
   "cell_type": "code",
   "execution_count": 307,
   "metadata": {},
   "outputs": [],
   "source": [
    "all_prices = pd.DataFrame([])"
   ]
  },
  {
   "cell_type": "code",
   "execution_count": 308,
   "metadata": {},
   "outputs": [
    {
     "name": "stdout",
     "output_type": "stream",
     "text": [
      "[*********************100%***********************]  1 of 1 completed\n"
     ]
    }
   ],
   "source": [
    "prices_df = yf.download(\n",
    "    tickers= \"AAPL\",\n",
    "    start=\"2020-12-30\",\n",
    "    end=\"2022-12-30\",\n",
    ")"
   ]
  },
  {
   "cell_type": "code",
   "execution_count": 627,
   "metadata": {},
   "outputs": [
    {
     "name": "stdout",
     "output_type": "stream",
     "text": [
      "[*********************100%***********************]  1 of 1 completed\n",
      "[*********************100%***********************]  1 of 1 completed\n",
      "[*********************100%***********************]  1 of 1 completed\n",
      "[*********************100%***********************]  1 of 1 completed\n",
      "[*********************100%***********************]  1 of 1 completed\n",
      "[*********************100%***********************]  1 of 1 completed\n"
     ]
    }
   ],
   "source": [
    "universe = [\n",
    "    \"AMZN\", \n",
    "    \"AAPL\", \n",
    "    \"MSFT\", \n",
    "    \"TSLA\",\n",
    "    \"META\",\n",
    "    \"NFLX\",\n",
    "]\n",
    "all_prices = []\n",
    "\n",
    "for ticker in universe:\n",
    "    prices_df = yf.download(\n",
    "        tickers= ticker,\n",
    "        start=\"2020-12-30\",\n",
    "        end=\"2022-12-30\",\n",
    "    )\n",
    "\n",
    "    all_prices.append(get_prices_features(\n",
    "        prices_df,\n",
    "        ticker,\n",
    "        lookback=3,\n",
    "        pct_change= False\n",
    "    ))\n",
    "\n",
    "\n",
    "all_prices_df = pd.concat(all_prices)\n",
    "\n",
    "all_prices_df[\"ticker\"] = all_prices_df[\"ticker\"]\\\n",
    "    .replace(\"META\", \"FB\")"
   ]
  },
  {
   "cell_type": "code",
   "execution_count": 628,
   "metadata": {},
   "outputs": [],
   "source": [
    "prices_without_ticker = all_prices_df\\\n",
    "    .loc[:,all_prices_df.columns != 'ticker']"
   ]
  },
  {
   "cell_type": "code",
   "execution_count": 629,
   "metadata": {},
   "outputs": [],
   "source": [
    "normalized_prices_df = normalize_features(\n",
    "    prices_without_ticker\n",
    ")"
   ]
  },
  {
   "cell_type": "code",
   "execution_count": 630,
   "metadata": {},
   "outputs": [],
   "source": [
    "normalized_prices_df[\"ticker\"] = all_prices_df[\"ticker\"]"
   ]
  },
  {
   "cell_type": "markdown",
   "metadata": {},
   "source": [
    "### Obtaining sentiment"
   ]
  },
  {
   "cell_type": "code",
   "execution_count": 631,
   "metadata": {},
   "outputs": [
    {
     "name": "stderr",
     "output_type": "stream",
     "text": [
      " 33%|███▎      | 2/6 [00:00<00:00, 16.32it/s]"
     ]
    },
    {
     "name": "stderr",
     "output_type": "stream",
     "text": [
      "100%|██████████| 6/6 [00:00<00:00, 20.94it/s]\n"
     ]
    }
   ],
   "source": [
    "universe = [\n",
    "    \"AMZN\", \n",
    "    \"AAPL\", \n",
    "    \"MSFT\", \n",
    "    \"TSLA\",\n",
    "    \"FB\",\n",
    "    \"NFLX\",\n",
    "]\n",
    "\n",
    "sentiment_list = []\n",
    "\n",
    "for ticker in tqdm(universe):\n",
    "    sentiment = generate_sentiment_features(ticker,)\n",
    "    sentiment[\"ticker\"] = ticker\n",
    "    sentiment_list.append(sentiment)\n",
    "\n",
    "sentiment_df = pd.concat(sentiment_list)\n",
    "sentiment_df.index = pd.to_datetime(sentiment_df.index)"
   ]
  },
  {
   "cell_type": "code",
   "execution_count": 632,
   "metadata": {},
   "outputs": [],
   "source": [
    "sentiment_df.reset_index(inplace=True)\n",
    "normalized_prices_df.reset_index(inplace=True)"
   ]
  },
  {
   "cell_type": "code",
   "execution_count": 633,
   "metadata": {},
   "outputs": [],
   "source": [
    "\n",
    "\n",
    "features_df = pd.merge(\n",
    "    normalized_prices_df,\n",
    "    sentiment_df,\n",
    "    left_on=[\"ticker\", \"Date\"],\n",
    "    right_on=[\"ticker\", \"date\"],\n",
    "    how = \"left\"\n",
    ")\\\n",
    "    .set_index([\"Date\", \"ticker\"])"
   ]
  },
  {
   "cell_type": "code",
   "execution_count": 634,
   "metadata": {},
   "outputs": [],
   "source": [
    "selected_columns = ~((features_df.columns == \"index\") | (features_df.columns == \"date\") )"
   ]
  },
  {
   "cell_type": "code",
   "execution_count": 641,
   "metadata": {},
   "outputs": [],
   "source": [
    "feature_names = [i for i in range(1,3 + 1)]\n",
    "feature_names.append(\"sentiment_count\")\n"
   ]
  },
  {
   "cell_type": "code",
   "execution_count": 642,
   "metadata": {},
   "outputs": [
    {
     "data": {
      "text/html": [
       "<div>\n",
       "<style scoped>\n",
       "    .dataframe tbody tr th:only-of-type {\n",
       "        vertical-align: middle;\n",
       "    }\n",
       "\n",
       "    .dataframe tbody tr th {\n",
       "        vertical-align: top;\n",
       "    }\n",
       "\n",
       "    .dataframe thead th {\n",
       "        text-align: right;\n",
       "    }\n",
       "</style>\n",
       "<table border=\"1\" class=\"dataframe\">\n",
       "  <thead>\n",
       "    <tr style=\"text-align: right;\">\n",
       "      <th></th>\n",
       "      <th></th>\n",
       "      <th>price</th>\n",
       "      <th>1</th>\n",
       "      <th>2</th>\n",
       "      <th>3</th>\n",
       "      <th>date</th>\n",
       "      <th>sentiment_count</th>\n",
       "    </tr>\n",
       "    <tr>\n",
       "      <th>Date</th>\n",
       "      <th>ticker</th>\n",
       "      <th></th>\n",
       "      <th></th>\n",
       "      <th></th>\n",
       "      <th></th>\n",
       "      <th></th>\n",
       "      <th></th>\n",
       "    </tr>\n",
       "  </thead>\n",
       "  <tbody>\n",
       "    <tr>\n",
       "      <th>2021-01-05</th>\n",
       "      <th>AMZN</th>\n",
       "      <td>-0.740582</td>\n",
       "      <td>-0.745810</td>\n",
       "      <td>-0.737759</td>\n",
       "      <td>-0.735146</td>\n",
       "      <td>NaT</td>\n",
       "      <td>NaN</td>\n",
       "    </tr>\n",
       "    <tr>\n",
       "      <th>2021-01-06</th>\n",
       "      <th>AMZN</th>\n",
       "      <td>-0.753721</td>\n",
       "      <td>-0.740582</td>\n",
       "      <td>-0.749309</td>\n",
       "      <td>-0.739903</td>\n",
       "      <td>NaT</td>\n",
       "      <td>NaN</td>\n",
       "    </tr>\n",
       "    <tr>\n",
       "      <th>2021-01-07</th>\n",
       "      <th>AMZN</th>\n",
       "      <td>-0.749822</td>\n",
       "      <td>-0.753721</td>\n",
       "      <td>-0.744071</td>\n",
       "      <td>-0.751467</td>\n",
       "      <td>NaT</td>\n",
       "      <td>NaN</td>\n",
       "    </tr>\n",
       "    <tr>\n",
       "      <th>2021-01-08</th>\n",
       "      <th>AMZN</th>\n",
       "      <td>-0.746454</td>\n",
       "      <td>-0.749822</td>\n",
       "      <td>-0.757236</td>\n",
       "      <td>-0.746223</td>\n",
       "      <td>2021-01-08</td>\n",
       "      <td>0.00</td>\n",
       "    </tr>\n",
       "    <tr>\n",
       "      <th>2021-01-11</th>\n",
       "      <th>AMZN</th>\n",
       "      <td>-0.757684</td>\n",
       "      <td>-0.746454</td>\n",
       "      <td>-0.753329</td>\n",
       "      <td>-0.759404</td>\n",
       "      <td>2021-01-11</td>\n",
       "      <td>0.00</td>\n",
       "    </tr>\n",
       "    <tr>\n",
       "      <th>...</th>\n",
       "      <th>...</th>\n",
       "      <td>...</td>\n",
       "      <td>...</td>\n",
       "      <td>...</td>\n",
       "      <td>...</td>\n",
       "      <td>...</td>\n",
       "      <td>...</td>\n",
       "    </tr>\n",
       "    <tr>\n",
       "      <th>2022-12-22</th>\n",
       "      <th>NFLX</th>\n",
       "      <td>-0.291882</td>\n",
       "      <td>-0.291193</td>\n",
       "      <td>-0.325885</td>\n",
       "      <td>-0.327159</td>\n",
       "      <td>2022-12-22</td>\n",
       "      <td>-0.10</td>\n",
       "    </tr>\n",
       "    <tr>\n",
       "      <th>2022-12-23</th>\n",
       "      <th>NFLX</th>\n",
       "      <td>-0.301031</td>\n",
       "      <td>-0.291882</td>\n",
       "      <td>-0.293781</td>\n",
       "      <td>-0.327521</td>\n",
       "      <td>2022-12-23</td>\n",
       "      <td>0.25</td>\n",
       "    </tr>\n",
       "    <tr>\n",
       "      <th>2022-12-27</th>\n",
       "      <th>NFLX</th>\n",
       "      <td>-0.336416</td>\n",
       "      <td>-0.301031</td>\n",
       "      <td>-0.294471</td>\n",
       "      <td>-0.295378</td>\n",
       "      <td>2022-12-27</td>\n",
       "      <td>0.00</td>\n",
       "    </tr>\n",
       "    <tr>\n",
       "      <th>2022-12-28</th>\n",
       "      <th>NFLX</th>\n",
       "      <td>-0.360323</td>\n",
       "      <td>-0.336416</td>\n",
       "      <td>-0.303639</td>\n",
       "      <td>-0.296068</td>\n",
       "      <td>2022-12-28</td>\n",
       "      <td>0.50</td>\n",
       "    </tr>\n",
       "    <tr>\n",
       "      <th>2022-12-29</th>\n",
       "      <th>NFLX</th>\n",
       "      <td>-0.313624</td>\n",
       "      <td>-0.360323</td>\n",
       "      <td>-0.339095</td>\n",
       "      <td>-0.305248</td>\n",
       "      <td>2022-12-29</td>\n",
       "      <td>0.75</td>\n",
       "    </tr>\n",
       "  </tbody>\n",
       "</table>\n",
       "<p>3006 rows × 6 columns</p>\n",
       "</div>"
      ],
      "text/plain": [
       "                      price         1         2         3       date  \\\n",
       "Date       ticker                                                      \n",
       "2021-01-05 AMZN   -0.740582 -0.745810 -0.737759 -0.735146        NaT   \n",
       "2021-01-06 AMZN   -0.753721 -0.740582 -0.749309 -0.739903        NaT   \n",
       "2021-01-07 AMZN   -0.749822 -0.753721 -0.744071 -0.751467        NaT   \n",
       "2021-01-08 AMZN   -0.746454 -0.749822 -0.757236 -0.746223 2021-01-08   \n",
       "2021-01-11 AMZN   -0.757684 -0.746454 -0.753329 -0.759404 2021-01-11   \n",
       "...                     ...       ...       ...       ...        ...   \n",
       "2022-12-22 NFLX   -0.291882 -0.291193 -0.325885 -0.327159 2022-12-22   \n",
       "2022-12-23 NFLX   -0.301031 -0.291882 -0.293781 -0.327521 2022-12-23   \n",
       "2022-12-27 NFLX   -0.336416 -0.301031 -0.294471 -0.295378 2022-12-27   \n",
       "2022-12-28 NFLX   -0.360323 -0.336416 -0.303639 -0.296068 2022-12-28   \n",
       "2022-12-29 NFLX   -0.313624 -0.360323 -0.339095 -0.305248 2022-12-29   \n",
       "\n",
       "                   sentiment_count  \n",
       "Date       ticker                   \n",
       "2021-01-05 AMZN                NaN  \n",
       "2021-01-06 AMZN                NaN  \n",
       "2021-01-07 AMZN                NaN  \n",
       "2021-01-08 AMZN               0.00  \n",
       "2021-01-11 AMZN               0.00  \n",
       "...                            ...  \n",
       "2022-12-22 NFLX              -0.10  \n",
       "2022-12-23 NFLX               0.25  \n",
       "2022-12-27 NFLX               0.00  \n",
       "2022-12-28 NFLX               0.50  \n",
       "2022-12-29 NFLX               0.75  \n",
       "\n",
       "[3006 rows x 6 columns]"
      ]
     },
     "execution_count": 642,
     "metadata": {},
     "output_type": "execute_result"
    }
   ],
   "source": [
    "features_df"
   ]
  },
  {
   "cell_type": "code",
   "execution_count": 643,
   "metadata": {},
   "outputs": [],
   "source": [
    "train_dates = features_df.index\\\n",
    "    .get_level_values(\"Date\") < '2022-04'\n",
    "\n",
    "test_dates = features_df.index\\\n",
    "    .get_level_values(\"Date\") > '2022-04'"
   ]
  },
  {
   "cell_type": "code",
   "execution_count": 644,
   "metadata": {},
   "outputs": [],
   "source": [
    "X_train = features_df\\\n",
    "    .loc[train_dates,selected_columns]\\\n",
    "    .fillna(0)\n",
    "\n",
    "X_test = features_df\\\n",
    "    .loc[test_dates ,selected_columns]\\\n",
    "    .fillna(0)"
   ]
  },
  {
   "cell_type": "code",
   "execution_count": null,
   "metadata": {},
   "outputs": [],
   "source": []
  },
  {
   "cell_type": "code",
   "execution_count": 645,
   "metadata": {},
   "outputs": [],
   "source": [
    "y_train = features_df\\\n",
    "    .fillna(0)\\\n",
    "    .loc[train_dates, \"price\"]\n",
    "\n",
    "y_test = features_df\\\n",
    "    .loc[test_dates, \"price\"]"
   ]
  },
  {
   "cell_type": "code",
   "execution_count": 646,
   "metadata": {},
   "outputs": [],
   "source": [
    "X_train_numpy = X_train\\\n",
    "    .loc[:, feature_names]\\\n",
    "    .to_numpy()\\\n",
    "    .reshape((\n",
    "        X_train.shape[0],\n",
    "        X_train.shape[1] - 1,\n",
    "        1\n",
    "    ))\n",
    "\n",
    "X_test_numpy = X_test\\\n",
    "    .loc[:, feature_names]\\\n",
    "    .to_numpy()\\\n",
    "    .reshape((\n",
    "        X_test.shape[0],\n",
    "        X_test.shape[1] - 1,\n",
    "        1\n",
    "    ))"
   ]
  },
  {
   "cell_type": "code",
   "execution_count": 647,
   "metadata": {},
   "outputs": [],
   "source": [
    "y_train_numpy = y_train\\\n",
    "    .to_numpy()\\\n",
    "    .reshape(-1,1)\n",
    "\n",
    "y_test_numpy = y_test\\\n",
    "    .to_numpy()\\\n",
    "    .reshape(-1,1)"
   ]
  },
  {
   "cell_type": "code",
   "execution_count": 648,
   "metadata": {},
   "outputs": [],
   "source": [
    "X_train_tensor = torch\\\n",
    "    .from_numpy(X_train_numpy)\\\n",
    "    .type(torch.Tensor)\n",
    "\n",
    "X_test_tensor = torch\\\n",
    "    .from_numpy(X_test_numpy)\\\n",
    "    .type(torch.Tensor)"
   ]
  },
  {
   "cell_type": "code",
   "execution_count": 649,
   "metadata": {},
   "outputs": [],
   "source": [
    "y_train_tensor = torch\\\n",
    "    .from_numpy(y_train_numpy)\\\n",
    "    .type(torch.Tensor)\n",
    "\n",
    "y_test_tensor = torch\\\n",
    "    .from_numpy(y_test_numpy)\\\n",
    "    .type(torch.Tensor)"
   ]
  },
  {
   "cell_type": "code",
   "execution_count": 650,
   "metadata": {},
   "outputs": [],
   "source": [
    "dataset = StockPricesDataset(X_train_tensor, y_train_tensor)\n",
    "\n",
    "dataloader = DataLoader(\n",
    "    dataset,\n",
    "    batch_size= 5,\n",
    "    shuffle= True,\n",
    ")"
   ]
  },
  {
   "cell_type": "code",
   "execution_count": 651,
   "metadata": {},
   "outputs": [
    {
     "data": {
      "text/plain": [
       "(torch.Size([1878, 4, 1]), torch.Size([1878, 1]))"
      ]
     },
     "execution_count": 651,
     "metadata": {},
     "output_type": "execute_result"
    }
   ],
   "source": [
    "X_train_tensor.size(),\\\n",
    "y_train_tensor.size()"
   ]
  },
  {
   "cell_type": "markdown",
   "metadata": {},
   "source": [
    "## Building LSTM model"
   ]
  },
  {
   "cell_type": "code",
   "execution_count": 652,
   "metadata": {},
   "outputs": [],
   "source": [
    "class LSTM(nn.Module):\n",
    "    def __init__(self, \n",
    "                 input_dim: int, \n",
    "                 hidden_dim : int , \n",
    "                 num_layers : int , \n",
    "                 output_dim : int,\n",
    "                 activation : callable = lambda x : x \n",
    "                ):\n",
    "        super(LSTM, self).__init__()\n",
    "        self.hidden_dim = hidden_dim\n",
    "        self.num_layers = num_layers\n",
    "        \n",
    "        self.lstm = nn.LSTM(\n",
    "            input_dim, \n",
    "            hidden_dim, \n",
    "            num_layers, \n",
    "            batch_first=True,\n",
    "        )\n",
    "\n",
    "        self.activation = activation\n",
    "\n",
    "        self.fc = nn.Linear(hidden_dim, output_dim)\n",
    "\n",
    "    def forward(self, \n",
    "                x: torch.Tensor):\n",
    "        h0 = torch.zeros(self.num_layers, x.size(0), self.hidden_dim).requires_grad_()\n",
    "        c0 = torch.zeros(self.num_layers, x.size(0), self.hidden_dim).requires_grad_()\n",
    "        out, (hn, cn) = self.lstm(x, (h0.detach(), c0.detach()))\n",
    "        out = self.activation(out)\n",
    "        out = self.fc(out[:, -1, :]) \n",
    "        return out"
   ]
  },
  {
   "cell_type": "markdown",
   "metadata": {},
   "source": [
    "## Neural network training"
   ]
  },
  {
   "cell_type": "code",
   "execution_count": 654,
   "metadata": {},
   "outputs": [],
   "source": [
    "# lookback = 100\n",
    "input_dim = 1\n",
    "hidden_dim = 1\n",
    "num_layers = 1\n",
    "output_dim = 1\n",
    "num_epochs = 20"
   ]
  },
  {
   "cell_type": "code",
   "execution_count": 655,
   "metadata": {},
   "outputs": [],
   "source": [
    "model = LSTM(\n",
    "    input_dim,\n",
    "    hidden_dim,\n",
    "    num_layers,\n",
    "    output_dim,\n",
    ")"
   ]
  },
  {
   "cell_type": "code",
   "execution_count": 656,
   "metadata": {},
   "outputs": [
    {
     "data": {
      "text/plain": [
       "18"
      ]
     },
     "execution_count": 656,
     "metadata": {},
     "output_type": "execute_result"
    }
   ],
   "source": [
    "treinable_params = sum(p.numel() for p in model.parameters() if p.requires_grad)\n",
    "treinable_params"
   ]
  },
  {
   "cell_type": "code",
   "execution_count": 657,
   "metadata": {},
   "outputs": [],
   "source": [
    "loss_fn = torch.nn.MSELoss()\n",
    "optimiser = torch.optim.Adam(model.parameters(), lr=0.02)"
   ]
  },
  {
   "cell_type": "code",
   "execution_count": 658,
   "metadata": {},
   "outputs": [
    {
     "name": "stderr",
     "output_type": "stream",
     "text": [
      "  9%|▉         | 34/376 [00:00<00:01, 336.19it/s]"
     ]
    },
    {
     "name": "stderr",
     "output_type": "stream",
     "text": [
      "100%|██████████| 376/376 [00:00<00:00, 378.73it/s]\n"
     ]
    },
    {
     "name": "stdout",
     "output_type": "stream",
     "text": [
      "Epoch 1 error : 0.02622384494076114\n"
     ]
    },
    {
     "name": "stderr",
     "output_type": "stream",
     "text": [
      "100%|██████████| 376/376 [00:00<00:00, 387.09it/s]\n"
     ]
    },
    {
     "name": "stdout",
     "output_type": "stream",
     "text": [
      "Epoch 2 error : 0.006141320038218412\n"
     ]
    },
    {
     "name": "stderr",
     "output_type": "stream",
     "text": [
      "100%|██████████| 376/376 [00:00<00:00, 409.97it/s]\n"
     ]
    },
    {
     "name": "stdout",
     "output_type": "stream",
     "text": [
      "Epoch 3 error : 0.006163605257515496\n"
     ]
    },
    {
     "name": "stderr",
     "output_type": "stream",
     "text": [
      "100%|██████████| 376/376 [00:00<00:00, 421.08it/s]\n"
     ]
    },
    {
     "name": "stdout",
     "output_type": "stream",
     "text": [
      "Epoch 4 error : 0.004827179356652778\n"
     ]
    },
    {
     "name": "stderr",
     "output_type": "stream",
     "text": [
      "100%|██████████| 376/376 [00:00<00:00, 418.98it/s]\n"
     ]
    },
    {
     "name": "stdout",
     "output_type": "stream",
     "text": [
      "Epoch 5 error : 0.005057190361843281\n"
     ]
    },
    {
     "name": "stderr",
     "output_type": "stream",
     "text": [
      "100%|██████████| 376/376 [00:00<00:00, 419.99it/s]\n"
     ]
    },
    {
     "name": "stdout",
     "output_type": "stream",
     "text": [
      "Epoch 6 error : 0.005657997941640095\n"
     ]
    },
    {
     "name": "stderr",
     "output_type": "stream",
     "text": [
      "100%|██████████| 376/376 [00:00<00:00, 412.40it/s]\n"
     ]
    },
    {
     "name": "stdout",
     "output_type": "stream",
     "text": [
      "Epoch 7 error : 0.004813186504334419\n"
     ]
    },
    {
     "name": "stderr",
     "output_type": "stream",
     "text": [
      "100%|██████████| 376/376 [00:00<00:00, 416.94it/s]\n"
     ]
    },
    {
     "name": "stdout",
     "output_type": "stream",
     "text": [
      "Epoch 8 error : 0.005525048655746356\n"
     ]
    },
    {
     "name": "stderr",
     "output_type": "stream",
     "text": [
      "100%|██████████| 376/376 [00:00<00:00, 389.47it/s]\n"
     ]
    },
    {
     "name": "stdout",
     "output_type": "stream",
     "text": [
      "Epoch 9 error : 0.004603515895143302\n"
     ]
    },
    {
     "name": "stderr",
     "output_type": "stream",
     "text": [
      "100%|██████████| 376/376 [00:00<00:00, 383.97it/s]\n"
     ]
    },
    {
     "name": "stdout",
     "output_type": "stream",
     "text": [
      "Epoch 10 error : 0.004824224276006212\n"
     ]
    },
    {
     "name": "stderr",
     "output_type": "stream",
     "text": [
      "100%|██████████| 376/376 [00:00<00:00, 399.81it/s]\n"
     ]
    },
    {
     "name": "stdout",
     "output_type": "stream",
     "text": [
      "Epoch 11 error : 0.0045226343387726724\n"
     ]
    },
    {
     "name": "stderr",
     "output_type": "stream",
     "text": [
      "100%|██████████| 376/376 [00:00<00:00, 405.15it/s]\n"
     ]
    },
    {
     "name": "stdout",
     "output_type": "stream",
     "text": [
      "Epoch 12 error : 0.004224501654073507\n"
     ]
    },
    {
     "name": "stderr",
     "output_type": "stream",
     "text": [
      "100%|██████████| 376/376 [00:00<00:00, 417.49it/s]\n"
     ]
    },
    {
     "name": "stdout",
     "output_type": "stream",
     "text": [
      "Epoch 13 error : 0.004168418733396275\n"
     ]
    },
    {
     "name": "stderr",
     "output_type": "stream",
     "text": [
      "100%|██████████| 376/376 [00:00<00:00, 418.36it/s]\n"
     ]
    },
    {
     "name": "stdout",
     "output_type": "stream",
     "text": [
      "Epoch 14 error : 0.003980625548060646\n"
     ]
    },
    {
     "name": "stderr",
     "output_type": "stream",
     "text": [
      "100%|██████████| 376/376 [00:00<00:00, 405.36it/s]\n"
     ]
    },
    {
     "name": "stdout",
     "output_type": "stream",
     "text": [
      "Epoch 15 error : 0.0036821562983645213\n"
     ]
    },
    {
     "name": "stderr",
     "output_type": "stream",
     "text": [
      "100%|██████████| 376/376 [00:00<00:00, 412.63it/s]\n"
     ]
    },
    {
     "name": "stdout",
     "output_type": "stream",
     "text": [
      "Epoch 16 error : 0.003523989564200747\n"
     ]
    },
    {
     "name": "stderr",
     "output_type": "stream",
     "text": [
      "100%|██████████| 376/376 [00:00<00:00, 425.70it/s]\n"
     ]
    },
    {
     "name": "stdout",
     "output_type": "stream",
     "text": [
      "Epoch 17 error : 0.0035053261135351236\n"
     ]
    },
    {
     "name": "stderr",
     "output_type": "stream",
     "text": [
      "100%|██████████| 376/376 [00:00<00:00, 394.05it/s]\n"
     ]
    },
    {
     "name": "stdout",
     "output_type": "stream",
     "text": [
      "Epoch 18 error : 0.0032088805624890153\n"
     ]
    },
    {
     "name": "stderr",
     "output_type": "stream",
     "text": [
      "100%|██████████| 376/376 [00:00<00:00, 424.14it/s]\n"
     ]
    },
    {
     "name": "stdout",
     "output_type": "stream",
     "text": [
      "Epoch 19 error : 0.002507829176794714\n"
     ]
    },
    {
     "name": "stderr",
     "output_type": "stream",
     "text": [
      "100%|██████████| 376/376 [00:00<00:00, 395.99it/s]"
     ]
    },
    {
     "name": "stdout",
     "output_type": "stream",
     "text": [
      "Epoch 20 error : 0.002457746520015443\n"
     ]
    },
    {
     "name": "stderr",
     "output_type": "stream",
     "text": [
      "\n"
     ]
    }
   ],
   "source": [
    "# hist = np.zeros(num_epochs)\n",
    "\n",
    "for t in (range(num_epochs)):\n",
    "    epoch_accuracy = []\n",
    "    for X, y in tqdm(dataloader):\n",
    "        y_train_pred = model(X)\n",
    "\n",
    "        loss = loss_fn(y_train_pred, y)\n",
    "        \n",
    "        epoch_accuracy.append(loss.item())\n",
    "        optimiser.zero_grad()\n",
    "        loss.backward()\n",
    "        optimiser.step()\n",
    "\n",
    "    with torch.no_grad():\n",
    "        y_test_pred = model(X_test_tensor)\n",
    "\n",
    "        loss = loss_fn(y_test_pred, y_test_tensor)\n",
    "\n",
    "        print(f\"Epoch {t+1} error : {np.mean(epoch_accuracy)}\")\n"
   ]
  },
  {
   "cell_type": "code",
   "execution_count": 659,
   "metadata": {},
   "outputs": [],
   "source": [
    "y_pred_test = model(X_test_tensor)\\\n",
    "    .detach()\\\n",
    "    .numpy()\n",
    "\n",
    "y_pred_train = model(X_train_tensor)\\\n",
    "    .detach()\\\n",
    "    .numpy()"
   ]
  },
  {
   "cell_type": "code",
   "execution_count": 660,
   "metadata": {},
   "outputs": [],
   "source": [
    "y_pred_test = pd.Series(\n",
    "    y_pred_test\\\n",
    "        .reshape(-1),\n",
    "    name = \"price\",\n",
    "    index = y_test.index      \n",
    ")\n",
    "\n",
    "y_pred_train = pd.Series(\n",
    "    y_pred_train\\\n",
    "        .reshape(-1),\n",
    "    name = \"price\",\n",
    "    index = y_train.index      \n",
    ")\n"
   ]
  },
  {
   "cell_type": "code",
   "execution_count": 661,
   "metadata": {},
   "outputs": [
    {
     "data": {
      "text/plain": [
       "Date        ticker\n",
       "2021-01-05  AMZN     -0.721641\n",
       "2021-01-06  AMZN     -0.724904\n",
       "2021-01-07  AMZN     -0.730599\n",
       "2021-01-08  AMZN     -0.732234\n",
       "2021-01-11  AMZN     -0.733253\n",
       "                        ...   \n",
       "2022-03-25  NFLX      0.002405\n",
       "2022-03-28  NFLX     -0.041178\n",
       "2022-03-29  NFLX     -0.001622\n",
       "2022-03-30  NFLX      0.019259\n",
       "2022-03-31  NFLX      0.025235\n",
       "Name: price, Length: 1878, dtype: float32"
      ]
     },
     "execution_count": 661,
     "metadata": {},
     "output_type": "execute_result"
    }
   ],
   "source": [
    "y_pred_train"
   ]
  },
  {
   "cell_type": "code",
   "execution_count": 705,
   "metadata": {},
   "outputs": [],
   "source": [
    "company_train = y_pred_train\\\n",
    "    .index\\\n",
    "    .get_level_values(\"ticker\") == \"TSLA\"\n",
    "\n",
    "\n",
    "company_test = y_pred_test\\\n",
    "    .index\\\n",
    "    .get_level_values(\"ticker\") == \"TSLA\""
   ]
  },
  {
   "cell_type": "code",
   "execution_count": 706,
   "metadata": {},
   "outputs": [
    {
     "data": {
      "text/plain": [
       "<matplotlib.legend.Legend at 0x7fb23716fee0>"
      ]
     },
     "execution_count": 706,
     "metadata": {},
     "output_type": "execute_result"
    },
    {
     "data": {
      "image/png": "[encoded data removed]",
      "text/plain": [
       "<Figure size 640x480 with 1 Axes>"
      ]
     },
     "metadata": {},
     "output_type": "display_data"
    }
   ],
   "source": [
    "y_pred_train[company_train]\\\n",
    "    .reset_index(level=1)\\\n",
    "    [\"price\"]\\\n",
    "    .plot(\n",
    "        label = \"predicted price\"\n",
    "    )\n",
    "\n",
    "y_train[company_train]\\\n",
    "    .reset_index(level=1)\\\n",
    "    [\"price\"]\\\n",
    "    .plot(\n",
    "        label = \"real price\"\n",
    "    )\n",
    "\n",
    "plt.legend()"
   ]
  },
  {
   "cell_type": "code",
   "execution_count": 713,
   "metadata": {},
   "outputs": [
    {
     "data": {
      "text/plain": [
       "<matplotlib.legend.Legend at 0x7fb23bb9fac0>"
      ]
     },
     "execution_count": 713,
     "metadata": {},
     "output_type": "execute_result"
    },
    {
     "data": {
      "image/png": "[encoded data removed]",
      "text/plain": [
       "<Figure size 640x480 with 1 Axes>"
      ]
     },
     "metadata": {},
     "output_type": "display_data"
    }
   ],
   "source": [
    "# y_test[company_test]\\\n",
    "#     .reset_index(level = \"ticker\")\\\n",
    "#     [\"price\"]\\\n",
    "#     .plot(\n",
    "#         label = \"predicted price\"\n",
    "#     )\n",
    "\n",
    "\n",
    "y_test[company_test]\\\n",
    "    .reset_index(level= \"ticker\")\\\n",
    "    [\"price\"]\\\n",
    "    .plot(\n",
    "        label = \"real price\",\n",
    "        # color = \"blue\"\n",
    "    )\n",
    "\n",
    "y_test[(y_pred_test.pct_change() > 0.1 ) & (y_test.index.get_level_values(\"ticker\") == \"TSLA\")]\\\n",
    "    .reset_index(level= \"ticker\")\\\n",
    "    [\"price\"]\\\n",
    "    .plot(\n",
    "        label = \"buy\",\n",
    "        marker = \"^\",\n",
    "        linestyle = \"None\",\n",
    "        color = \"green\"\n",
    "    )\n",
    "\n",
    "y_test[(y_pred_test.pct_change() < -0.1 ) & (y_test.index.get_level_values(\"ticker\") == \"TSLA\")]\\\n",
    "    .reset_index(level= \"ticker\")\\\n",
    "    [\"price\"]\\\n",
    "    .plot(\n",
    "        label = \"sell\",\n",
    "        marker = \"^\",\n",
    "        linestyle = \"None\",\n",
    "        color = \"red\"\n",
    "    )\n",
    "\n",
    "plt.legend()"
   ]
  },
  {
   "cell_type": "code",
   "execution_count": 595,
   "metadata": {},
   "outputs": [
    {
     "data": {
      "text/plain": [
       "Date        ticker\n",
       "2022-04-04  AAPL     -0.723368\n",
       "2022-04-05  AAPL     -0.718864\n",
       "2022-04-06  AAPL     -0.719369\n",
       "2022-04-07  AAPL     -0.726107\n",
       "2022-04-08  AAPL     -0.730015\n",
       "                        ...   \n",
       "2022-12-22  AAPL     -0.840502\n",
       "2022-12-23  AAPL     -0.839414\n",
       "2022-12-27  AAPL     -0.839077\n",
       "2022-12-28  AAPL     -0.844648\n",
       "2022-12-29  AAPL     -0.851409\n",
       "Name: price, Length: 187, dtype: float32"
      ]
     },
     "execution_count": 595,
     "metadata": {},
     "output_type": "execute_result"
    }
   ],
   "source": [
    "y_pred_test[company_test]"
   ]
  },
  {
   "cell_type": "code",
   "execution_count": null,
   "metadata": {},
   "outputs": [],
   "source": []
  },
  {
   "cell_type": "code",
   "execution_count": null,
   "metadata": {},
   "outputs": [],
   "source": []
  },
  {
   "cell_type": "code",
   "execution_count": null,
   "metadata": {},
   "outputs": [],
   "source": []
  },
  {
   "cell_type": "code",
   "execution_count": null,
   "metadata": {},
   "outputs": [],
   "source": []
  },
  {
   "cell_type": "code",
   "execution_count": null,
   "metadata": {},
   "outputs": [],
   "source": []
  },
  {
   "cell_type": "code",
   "execution_count": null,
   "metadata": {},
   "outputs": [],
   "source": []
  },
  {
   "cell_type": "code",
   "execution_count": 45,
   "metadata": {},
   "outputs": [
    {
     "name": "stdout",
     "output_type": "stream",
     "text": [
      "[*********************100%***********************]  1 of 1 completed\n"
     ]
    }
   ],
   "source": [
    "prices_df = yf.download(\n",
    "        tickers= \"META\",\n",
    "        start=\"2020-12-30\",\n",
    "        end=\"2022-12-30\",\n",
    "    )"
   ]
  },
  {
   "cell_type": "code",
   "execution_count": 43,
   "metadata": {},
   "outputs": [
    {
     "data": {
      "text/html": [
       "<div>\n",
       "<style scoped>\n",
       "    .dataframe tbody tr th:only-of-type {\n",
       "        vertical-align: middle;\n",
       "    }\n",
       "\n",
       "    .dataframe tbody tr th {\n",
       "        vertical-align: top;\n",
       "    }\n",
       "\n",
       "    .dataframe thead th {\n",
       "        text-align: right;\n",
       "    }\n",
       "</style>\n",
       "<table border=\"1\" class=\"dataframe\">\n",
       "  <thead>\n",
       "    <tr style=\"text-align: right;\">\n",
       "      <th></th>\n",
       "      <th>price</th>\n",
       "      <th>d-1</th>\n",
       "      <th>d-2</th>\n",
       "      <th>d-3</th>\n",
       "      <th>d-4</th>\n",
       "      <th>d-5</th>\n",
       "      <th>d-6</th>\n",
       "      <th>d-7</th>\n",
       "      <th>d-8</th>\n",
       "      <th>d-9</th>\n",
       "      <th>d-10</th>\n",
       "      <th>ticker</th>\n",
       "    </tr>\n",
       "    <tr>\n",
       "      <th>Date</th>\n",
       "      <th></th>\n",
       "      <th></th>\n",
       "      <th></th>\n",
       "      <th></th>\n",
       "      <th></th>\n",
       "      <th></th>\n",
       "      <th></th>\n",
       "      <th></th>\n",
       "      <th></th>\n",
       "      <th></th>\n",
       "      <th></th>\n",
       "      <th></th>\n",
       "    </tr>\n",
       "  </thead>\n",
       "  <tbody>\n",
       "    <tr>\n",
       "      <th>2021-01-14</th>\n",
       "      <td>0.423449</td>\n",
       "      <td>0.460127</td>\n",
       "      <td>0.417110</td>\n",
       "      <td>0.410790</td>\n",
       "      <td>0.476174</td>\n",
       "      <td>0.456566</td>\n",
       "      <td>0.433864</td>\n",
       "      <td>0.510361</td>\n",
       "      <td>0.479926</td>\n",
       "      <td>0.547038</td>\n",
       "      <td>0.574646</td>\n",
       "      <td>AMZN</td>\n",
       "    </tr>\n",
       "    <tr>\n",
       "      <th>2021-01-15</th>\n",
       "      <td>0.401282</td>\n",
       "      <td>0.423449</td>\n",
       "      <td>0.460127</td>\n",
       "      <td>0.417110</td>\n",
       "      <td>0.410790</td>\n",
       "      <td>0.476174</td>\n",
       "      <td>0.456566</td>\n",
       "      <td>0.433864</td>\n",
       "      <td>0.510361</td>\n",
       "      <td>0.479926</td>\n",
       "      <td>0.547038</td>\n",
       "      <td>AMZN</td>\n",
       "    </tr>\n",
       "    <tr>\n",
       "      <th>2021-01-19</th>\n",
       "      <td>0.417043</td>\n",
       "      <td>0.401282</td>\n",
       "      <td>0.423449</td>\n",
       "      <td>0.460127</td>\n",
       "      <td>0.417110</td>\n",
       "      <td>0.410790</td>\n",
       "      <td>0.476174</td>\n",
       "      <td>0.456566</td>\n",
       "      <td>0.433864</td>\n",
       "      <td>0.510361</td>\n",
       "      <td>0.479926</td>\n",
       "      <td>AMZN</td>\n",
       "    </tr>\n",
       "    <tr>\n",
       "      <th>2021-01-20</th>\n",
       "      <td>0.553196</td>\n",
       "      <td>0.417043</td>\n",
       "      <td>0.401282</td>\n",
       "      <td>0.423449</td>\n",
       "      <td>0.460127</td>\n",
       "      <td>0.417110</td>\n",
       "      <td>0.410790</td>\n",
       "      <td>0.476174</td>\n",
       "      <td>0.456566</td>\n",
       "      <td>0.433864</td>\n",
       "      <td>0.510361</td>\n",
       "      <td>AMZN</td>\n",
       "    </tr>\n",
       "    <tr>\n",
       "      <th>2021-01-21</th>\n",
       "      <td>0.594828</td>\n",
       "      <td>0.553196</td>\n",
       "      <td>0.417043</td>\n",
       "      <td>0.401282</td>\n",
       "      <td>0.423449</td>\n",
       "      <td>0.460127</td>\n",
       "      <td>0.417110</td>\n",
       "      <td>0.410790</td>\n",
       "      <td>0.476174</td>\n",
       "      <td>0.456566</td>\n",
       "      <td>0.433864</td>\n",
       "      <td>AMZN</td>\n",
       "    </tr>\n",
       "    <tr>\n",
       "      <th>...</th>\n",
       "      <td>...</td>\n",
       "      <td>...</td>\n",
       "      <td>...</td>\n",
       "      <td>...</td>\n",
       "      <td>...</td>\n",
       "      <td>...</td>\n",
       "      <td>...</td>\n",
       "      <td>...</td>\n",
       "      <td>...</td>\n",
       "      <td>...</td>\n",
       "      <td>...</td>\n",
       "      <td>...</td>\n",
       "    </tr>\n",
       "    <tr>\n",
       "      <th>2022-12-22</th>\n",
       "      <td>-0.891980</td>\n",
       "      <td>-0.810749</td>\n",
       "      <td>-0.809220</td>\n",
       "      <td>-0.728986</td>\n",
       "      <td>-0.726593</td>\n",
       "      <td>-0.677136</td>\n",
       "      <td>-0.682920</td>\n",
       "      <td>-0.655333</td>\n",
       "      <td>-0.609665</td>\n",
       "      <td>-0.535015</td>\n",
       "      <td>-0.572307</td>\n",
       "      <td>TSLA</td>\n",
       "    </tr>\n",
       "    <tr>\n",
       "      <th>2022-12-23</th>\n",
       "      <td>-0.906604</td>\n",
       "      <td>-0.891980</td>\n",
       "      <td>-0.810749</td>\n",
       "      <td>-0.809220</td>\n",
       "      <td>-0.728986</td>\n",
       "      <td>-0.726593</td>\n",
       "      <td>-0.677136</td>\n",
       "      <td>-0.682920</td>\n",
       "      <td>-0.655333</td>\n",
       "      <td>-0.609665</td>\n",
       "      <td>-0.535015</td>\n",
       "      <td>TSLA</td>\n",
       "    </tr>\n",
       "    <tr>\n",
       "      <th>2022-12-27</th>\n",
       "      <td>-1.000000</td>\n",
       "      <td>-0.906604</td>\n",
       "      <td>-0.891980</td>\n",
       "      <td>-0.810749</td>\n",
       "      <td>-0.809220</td>\n",
       "      <td>-0.728986</td>\n",
       "      <td>-0.726593</td>\n",
       "      <td>-0.677136</td>\n",
       "      <td>-0.682920</td>\n",
       "      <td>-0.655333</td>\n",
       "      <td>-0.609665</td>\n",
       "      <td>TSLA</td>\n",
       "    </tr>\n",
       "    <tr>\n",
       "      <th>2022-12-28</th>\n",
       "      <td>-0.976003</td>\n",
       "      <td>-1.000000</td>\n",
       "      <td>-0.906604</td>\n",
       "      <td>-0.891980</td>\n",
       "      <td>-0.810749</td>\n",
       "      <td>-0.809220</td>\n",
       "      <td>-0.728986</td>\n",
       "      <td>-0.726593</td>\n",
       "      <td>-0.677136</td>\n",
       "      <td>-0.682920</td>\n",
       "      <td>-0.655333</td>\n",
       "      <td>TSLA</td>\n",
       "    </tr>\n",
       "    <tr>\n",
       "      <th>2022-12-29</th>\n",
       "      <td>-0.915445</td>\n",
       "      <td>-0.976003</td>\n",
       "      <td>-1.000000</td>\n",
       "      <td>-0.906604</td>\n",
       "      <td>-0.891980</td>\n",
       "      <td>-0.810749</td>\n",
       "      <td>-0.809220</td>\n",
       "      <td>-0.728986</td>\n",
       "      <td>-0.726593</td>\n",
       "      <td>-0.677136</td>\n",
       "      <td>-0.682920</td>\n",
       "      <td>TSLA</td>\n",
       "    </tr>\n",
       "  </tbody>\n",
       "</table>\n",
       "<p>1976 rows × 12 columns</p>\n",
       "</div>"
      ],
      "text/plain": [
       "               price       d-1       d-2       d-3       d-4       d-5  \\\n",
       "Date                                                                     \n",
       "2021-01-14  0.423449  0.460127  0.417110  0.410790  0.476174  0.456566   \n",
       "2021-01-15  0.401282  0.423449  0.460127  0.417110  0.410790  0.476174   \n",
       "2021-01-19  0.417043  0.401282  0.423449  0.460127  0.417110  0.410790   \n",
       "2021-01-20  0.553196  0.417043  0.401282  0.423449  0.460127  0.417110   \n",
       "2021-01-21  0.594828  0.553196  0.417043  0.401282  0.423449  0.460127   \n",
       "...              ...       ...       ...       ...       ...       ...   \n",
       "2022-12-22 -0.891980 -0.810749 -0.809220 -0.728986 -0.726593 -0.677136   \n",
       "2022-12-23 -0.906604 -0.891980 -0.810749 -0.809220 -0.728986 -0.726593   \n",
       "2022-12-27 -1.000000 -0.906604 -0.891980 -0.810749 -0.809220 -0.728986   \n",
       "2022-12-28 -0.976003 -1.000000 -0.906604 -0.891980 -0.810749 -0.809220   \n",
       "2022-12-29 -0.915445 -0.976003 -1.000000 -0.906604 -0.891980 -0.810749   \n",
       "\n",
       "                 d-6       d-7       d-8       d-9      d-10 ticker  \n",
       "Date                                                                 \n",
       "2021-01-14  0.433864  0.510361  0.479926  0.547038  0.574646   AMZN  \n",
       "2021-01-15  0.456566  0.433864  0.510361  0.479926  0.547038   AMZN  \n",
       "2021-01-19  0.476174  0.456566  0.433864  0.510361  0.479926   AMZN  \n",
       "2021-01-20  0.410790  0.476174  0.456566  0.433864  0.510361   AMZN  \n",
       "2021-01-21  0.417110  0.410790  0.476174  0.456566  0.433864   AMZN  \n",
       "...              ...       ...       ...       ...       ...    ...  \n",
       "2022-12-22 -0.682920 -0.655333 -0.609665 -0.535015 -0.572307   TSLA  \n",
       "2022-12-23 -0.677136 -0.682920 -0.655333 -0.609665 -0.535015   TSLA  \n",
       "2022-12-27 -0.726593 -0.677136 -0.682920 -0.655333 -0.609665   TSLA  \n",
       "2022-12-28 -0.728986 -0.726593 -0.677136 -0.682920 -0.655333   TSLA  \n",
       "2022-12-29 -0.809220 -0.728986 -0.726593 -0.677136 -0.682920   TSLA  \n",
       "\n",
       "[1976 rows x 12 columns]"
      ]
     },
     "execution_count": 43,
     "metadata": {},
     "output_type": "execute_result"
    }
   ],
   "source": [
    "all_prices_df"
   ]
  },
  {
   "cell_type": "code",
   "execution_count": 4,
   "metadata": {},
   "outputs": [
    {
     "data": {
      "text/html": [
       "<div>\n",
       "<style scoped>\n",
       "    .dataframe tbody tr th:only-of-type {\n",
       "        vertical-align: middle;\n",
       "    }\n",
       "\n",
       "    .dataframe tbody tr th {\n",
       "        vertical-align: top;\n",
       "    }\n",
       "\n",
       "    .dataframe thead th {\n",
       "        text-align: right;\n",
       "    }\n",
       "</style>\n",
       "<table border=\"1\" class=\"dataframe\">\n",
       "  <thead>\n",
       "    <tr style=\"text-align: right;\">\n",
       "      <th></th>\n",
       "      <th>Open</th>\n",
       "      <th>High</th>\n",
       "      <th>Low</th>\n",
       "      <th>Close</th>\n",
       "      <th>Adj Close</th>\n",
       "      <th>Volume</th>\n",
       "    </tr>\n",
       "    <tr>\n",
       "      <th>Date</th>\n",
       "      <th></th>\n",
       "      <th></th>\n",
       "      <th></th>\n",
       "      <th></th>\n",
       "      <th></th>\n",
       "      <th></th>\n",
       "    </tr>\n",
       "  </thead>\n",
       "  <tbody>\n",
       "    <tr>\n",
       "      <th>2020-12-30</th>\n",
       "      <td>167.050003</td>\n",
       "      <td>167.104996</td>\n",
       "      <td>164.123505</td>\n",
       "      <td>164.292496</td>\n",
       "      <td>164.292496</td>\n",
       "      <td>64186000</td>\n",
       "    </tr>\n",
       "    <tr>\n",
       "      <th>2020-12-31</th>\n",
       "      <td>163.750000</td>\n",
       "      <td>164.145996</td>\n",
       "      <td>162.059998</td>\n",
       "      <td>162.846497</td>\n",
       "      <td>162.846497</td>\n",
       "      <td>59144000</td>\n",
       "    </tr>\n",
       "    <tr>\n",
       "      <th>2021-01-04</th>\n",
       "      <td>163.500000</td>\n",
       "      <td>163.600006</td>\n",
       "      <td>157.201004</td>\n",
       "      <td>159.331497</td>\n",
       "      <td>159.331497</td>\n",
       "      <td>88228000</td>\n",
       "    </tr>\n",
       "    <tr>\n",
       "      <th>2021-01-05</th>\n",
       "      <td>158.300507</td>\n",
       "      <td>161.169006</td>\n",
       "      <td>158.253006</td>\n",
       "      <td>160.925507</td>\n",
       "      <td>160.925507</td>\n",
       "      <td>53110000</td>\n",
       "    </tr>\n",
       "    <tr>\n",
       "      <th>2021-01-06</th>\n",
       "      <td>157.324005</td>\n",
       "      <td>159.875504</td>\n",
       "      <td>156.557999</td>\n",
       "      <td>156.919006</td>\n",
       "      <td>156.919006</td>\n",
       "      <td>87896000</td>\n",
       "    </tr>\n",
       "    <tr>\n",
       "      <th>...</th>\n",
       "      <td>...</td>\n",
       "      <td>...</td>\n",
       "      <td>...</td>\n",
       "      <td>...</td>\n",
       "      <td>...</td>\n",
       "      <td>...</td>\n",
       "    </tr>\n",
       "    <tr>\n",
       "      <th>2022-12-22</th>\n",
       "      <td>85.519997</td>\n",
       "      <td>85.680000</td>\n",
       "      <td>82.250000</td>\n",
       "      <td>83.790001</td>\n",
       "      <td>83.790001</td>\n",
       "      <td>81431300</td>\n",
       "    </tr>\n",
       "    <tr>\n",
       "      <th>2022-12-23</th>\n",
       "      <td>83.250000</td>\n",
       "      <td>85.779999</td>\n",
       "      <td>82.930000</td>\n",
       "      <td>85.250000</td>\n",
       "      <td>85.250000</td>\n",
       "      <td>57433700</td>\n",
       "    </tr>\n",
       "    <tr>\n",
       "      <th>2022-12-27</th>\n",
       "      <td>84.970001</td>\n",
       "      <td>85.349998</td>\n",
       "      <td>83.000000</td>\n",
       "      <td>83.040001</td>\n",
       "      <td>83.040001</td>\n",
       "      <td>57284000</td>\n",
       "    </tr>\n",
       "    <tr>\n",
       "      <th>2022-12-28</th>\n",
       "      <td>82.800003</td>\n",
       "      <td>83.480003</td>\n",
       "      <td>81.690002</td>\n",
       "      <td>81.820000</td>\n",
       "      <td>81.820000</td>\n",
       "      <td>58228600</td>\n",
       "    </tr>\n",
       "    <tr>\n",
       "      <th>2022-12-29</th>\n",
       "      <td>82.870003</td>\n",
       "      <td>84.550003</td>\n",
       "      <td>82.550003</td>\n",
       "      <td>84.180000</td>\n",
       "      <td>84.180000</td>\n",
       "      <td>54995900</td>\n",
       "    </tr>\n",
       "  </tbody>\n",
       "</table>\n",
       "<p>504 rows × 6 columns</p>\n",
       "</div>"
      ],
      "text/plain": [
       "                  Open        High         Low       Close   Adj Close  \\\n",
       "Date                                                                     \n",
       "2020-12-30  167.050003  167.104996  164.123505  164.292496  164.292496   \n",
       "2020-12-31  163.750000  164.145996  162.059998  162.846497  162.846497   \n",
       "2021-01-04  163.500000  163.600006  157.201004  159.331497  159.331497   \n",
       "2021-01-05  158.300507  161.169006  158.253006  160.925507  160.925507   \n",
       "2021-01-06  157.324005  159.875504  156.557999  156.919006  156.919006   \n",
       "...                ...         ...         ...         ...         ...   \n",
       "2022-12-22   85.519997   85.680000   82.250000   83.790001   83.790001   \n",
       "2022-12-23   83.250000   85.779999   82.930000   85.250000   85.250000   \n",
       "2022-12-27   84.970001   85.349998   83.000000   83.040001   83.040001   \n",
       "2022-12-28   82.800003   83.480003   81.690002   81.820000   81.820000   \n",
       "2022-12-29   82.870003   84.550003   82.550003   84.180000   84.180000   \n",
       "\n",
       "              Volume  \n",
       "Date                  \n",
       "2020-12-30  64186000  \n",
       "2020-12-31  59144000  \n",
       "2021-01-04  88228000  \n",
       "2021-01-05  53110000  \n",
       "2021-01-06  87896000  \n",
       "...              ...  \n",
       "2022-12-22  81431300  \n",
       "2022-12-23  57433700  \n",
       "2022-12-27  57284000  \n",
       "2022-12-28  58228600  \n",
       "2022-12-29  54995900  \n",
       "\n",
       "[504 rows x 6 columns]"
      ]
     },
     "execution_count": 4,
     "metadata": {},
     "output_type": "execute_result"
    }
   ],
   "source": [
    "prices_df"
   ]
  },
  {
   "cell_type": "code",
   "execution_count": 5,
   "metadata": {},
   "outputs": [],
   "source": [
    "prices = prices_df[[\"Close\"]]"
   ]
  },
  {
   "cell_type": "code",
   "execution_count": 6,
   "metadata": {},
   "outputs": [],
   "source": [
    "scaler = MinMaxScaler(feature_range=(-1, 1))"
   ]
  },
  {
   "cell_type": "code",
   "execution_count": 7,
   "metadata": {},
   "outputs": [],
   "source": [
    "scaled_prices = scaler\\\n",
    "    .fit_transform(prices)\\\n",
    "    .reshape(-1,1)"
   ]
  },
  {
   "cell_type": "code",
   "execution_count": 8,
   "metadata": {},
   "outputs": [],
   "source": [
    "scaled_prices_df = pd.DataFrame(\n",
    "    scaled_prices,\n",
    "    index = prices.index, \n",
    ")\\\n",
    "    .rename(columns = {\n",
    "        0: \"price\"\n",
    "    })"
   ]
  },
  {
   "cell_type": "code",
   "execution_count": 9,
   "metadata": {},
   "outputs": [],
   "source": [
    "lookback = 10\n",
    "for i in range(1, lookback + 1):\n",
    "    scaled_prices_df[f\"d-{i}\"] = scaled_prices_df\\\n",
    "        .price\\\n",
    "        .shift(i)\n",
    "        \n",
    "scaled_prices_df.dropna(inplace = True)"
   ]
  },
  {
   "cell_type": "code",
   "execution_count": 10,
   "metadata": {},
   "outputs": [
    {
     "data": {
      "text/html": [
       "<div>\n",
       "<style scoped>\n",
       "    .dataframe tbody tr th:only-of-type {\n",
       "        vertical-align: middle;\n",
       "    }\n",
       "\n",
       "    .dataframe tbody tr th {\n",
       "        vertical-align: top;\n",
       "    }\n",
       "\n",
       "    .dataframe thead th {\n",
       "        text-align: right;\n",
       "    }\n",
       "</style>\n",
       "<table border=\"1\" class=\"dataframe\">\n",
       "  <thead>\n",
       "    <tr style=\"text-align: right;\">\n",
       "      <th></th>\n",
       "      <th>price</th>\n",
       "      <th>d-1</th>\n",
       "      <th>d-2</th>\n",
       "      <th>d-3</th>\n",
       "      <th>d-4</th>\n",
       "      <th>d-5</th>\n",
       "      <th>d-6</th>\n",
       "      <th>d-7</th>\n",
       "      <th>d-8</th>\n",
       "      <th>d-9</th>\n",
       "      <th>d-10</th>\n",
       "    </tr>\n",
       "    <tr>\n",
       "      <th>Date</th>\n",
       "      <th></th>\n",
       "      <th></th>\n",
       "      <th></th>\n",
       "      <th></th>\n",
       "      <th></th>\n",
       "      <th></th>\n",
       "      <th></th>\n",
       "      <th></th>\n",
       "      <th></th>\n",
       "      <th></th>\n",
       "      <th></th>\n",
       "    </tr>\n",
       "  </thead>\n",
       "  <tbody>\n",
       "    <tr>\n",
       "      <th>2021-01-14</th>\n",
       "      <td>0.423449</td>\n",
       "      <td>0.460127</td>\n",
       "      <td>0.417110</td>\n",
       "      <td>0.410790</td>\n",
       "      <td>0.476174</td>\n",
       "      <td>0.456566</td>\n",
       "      <td>0.433864</td>\n",
       "      <td>0.510361</td>\n",
       "      <td>0.479926</td>\n",
       "      <td>0.547038</td>\n",
       "      <td>0.574646</td>\n",
       "    </tr>\n",
       "    <tr>\n",
       "      <th>2021-01-15</th>\n",
       "      <td>0.401282</td>\n",
       "      <td>0.423449</td>\n",
       "      <td>0.460127</td>\n",
       "      <td>0.417110</td>\n",
       "      <td>0.410790</td>\n",
       "      <td>0.476174</td>\n",
       "      <td>0.456566</td>\n",
       "      <td>0.433864</td>\n",
       "      <td>0.510361</td>\n",
       "      <td>0.479926</td>\n",
       "      <td>0.547038</td>\n",
       "    </tr>\n",
       "    <tr>\n",
       "      <th>2021-01-19</th>\n",
       "      <td>0.417043</td>\n",
       "      <td>0.401282</td>\n",
       "      <td>0.423449</td>\n",
       "      <td>0.460127</td>\n",
       "      <td>0.417110</td>\n",
       "      <td>0.410790</td>\n",
       "      <td>0.476174</td>\n",
       "      <td>0.456566</td>\n",
       "      <td>0.433864</td>\n",
       "      <td>0.510361</td>\n",
       "      <td>0.479926</td>\n",
       "    </tr>\n",
       "    <tr>\n",
       "      <th>2021-01-20</th>\n",
       "      <td>0.553196</td>\n",
       "      <td>0.417043</td>\n",
       "      <td>0.401282</td>\n",
       "      <td>0.423449</td>\n",
       "      <td>0.460127</td>\n",
       "      <td>0.417110</td>\n",
       "      <td>0.410790</td>\n",
       "      <td>0.476174</td>\n",
       "      <td>0.456566</td>\n",
       "      <td>0.433864</td>\n",
       "      <td>0.510361</td>\n",
       "    </tr>\n",
       "    <tr>\n",
       "      <th>2021-01-21</th>\n",
       "      <td>0.594828</td>\n",
       "      <td>0.553196</td>\n",
       "      <td>0.417043</td>\n",
       "      <td>0.401282</td>\n",
       "      <td>0.423449</td>\n",
       "      <td>0.460127</td>\n",
       "      <td>0.417110</td>\n",
       "      <td>0.410790</td>\n",
       "      <td>0.476174</td>\n",
       "      <td>0.456566</td>\n",
       "      <td>0.433864</td>\n",
       "    </tr>\n",
       "    <tr>\n",
       "      <th>...</th>\n",
       "      <td>...</td>\n",
       "      <td>...</td>\n",
       "      <td>...</td>\n",
       "      <td>...</td>\n",
       "      <td>...</td>\n",
       "      <td>...</td>\n",
       "      <td>...</td>\n",
       "      <td>...</td>\n",
       "      <td>...</td>\n",
       "      <td>...</td>\n",
       "      <td>...</td>\n",
       "    </tr>\n",
       "    <tr>\n",
       "      <th>2022-12-22</th>\n",
       "      <td>-0.962387</td>\n",
       "      <td>-0.905490</td>\n",
       "      <td>-0.935657</td>\n",
       "      <td>-0.940812</td>\n",
       "      <td>-0.884678</td>\n",
       "      <td>-0.873414</td>\n",
       "      <td>-0.813652</td>\n",
       "      <td>-0.796278</td>\n",
       "      <td>-0.833318</td>\n",
       "      <td>-0.861194</td>\n",
       "      <td>-0.837137</td>\n",
       "    </tr>\n",
       "    <tr>\n",
       "      <th>2022-12-23</th>\n",
       "      <td>-0.934511</td>\n",
       "      <td>-0.962387</td>\n",
       "      <td>-0.905490</td>\n",
       "      <td>-0.935657</td>\n",
       "      <td>-0.940812</td>\n",
       "      <td>-0.884678</td>\n",
       "      <td>-0.873414</td>\n",
       "      <td>-0.813652</td>\n",
       "      <td>-0.796278</td>\n",
       "      <td>-0.833318</td>\n",
       "      <td>-0.861194</td>\n",
       "    </tr>\n",
       "    <tr>\n",
       "      <th>2022-12-27</th>\n",
       "      <td>-0.976707</td>\n",
       "      <td>-0.934511</td>\n",
       "      <td>-0.962387</td>\n",
       "      <td>-0.905490</td>\n",
       "      <td>-0.935657</td>\n",
       "      <td>-0.940812</td>\n",
       "      <td>-0.884678</td>\n",
       "      <td>-0.873414</td>\n",
       "      <td>-0.813652</td>\n",
       "      <td>-0.796278</td>\n",
       "      <td>-0.833318</td>\n",
       "    </tr>\n",
       "    <tr>\n",
       "      <th>2022-12-28</th>\n",
       "      <td>-1.000000</td>\n",
       "      <td>-0.976707</td>\n",
       "      <td>-0.934511</td>\n",
       "      <td>-0.962387</td>\n",
       "      <td>-0.905490</td>\n",
       "      <td>-0.935657</td>\n",
       "      <td>-0.940812</td>\n",
       "      <td>-0.884678</td>\n",
       "      <td>-0.873414</td>\n",
       "      <td>-0.813652</td>\n",
       "      <td>-0.796278</td>\n",
       "    </tr>\n",
       "    <tr>\n",
       "      <th>2022-12-29</th>\n",
       "      <td>-0.954941</td>\n",
       "      <td>-1.000000</td>\n",
       "      <td>-0.976707</td>\n",
       "      <td>-0.934511</td>\n",
       "      <td>-0.962387</td>\n",
       "      <td>-0.905490</td>\n",
       "      <td>-0.935657</td>\n",
       "      <td>-0.940812</td>\n",
       "      <td>-0.884678</td>\n",
       "      <td>-0.873414</td>\n",
       "      <td>-0.813652</td>\n",
       "    </tr>\n",
       "  </tbody>\n",
       "</table>\n",
       "<p>494 rows × 11 columns</p>\n",
       "</div>"
      ],
      "text/plain": [
       "               price       d-1       d-2       d-3       d-4       d-5  \\\n",
       "Date                                                                     \n",
       "2021-01-14  0.423449  0.460127  0.417110  0.410790  0.476174  0.456566   \n",
       "2021-01-15  0.401282  0.423449  0.460127  0.417110  0.410790  0.476174   \n",
       "2021-01-19  0.417043  0.401282  0.423449  0.460127  0.417110  0.410790   \n",
       "2021-01-20  0.553196  0.417043  0.401282  0.423449  0.460127  0.417110   \n",
       "2021-01-21  0.594828  0.553196  0.417043  0.401282  0.423449  0.460127   \n",
       "...              ...       ...       ...       ...       ...       ...   \n",
       "2022-12-22 -0.962387 -0.905490 -0.935657 -0.940812 -0.884678 -0.873414   \n",
       "2022-12-23 -0.934511 -0.962387 -0.905490 -0.935657 -0.940812 -0.884678   \n",
       "2022-12-27 -0.976707 -0.934511 -0.962387 -0.905490 -0.935657 -0.940812   \n",
       "2022-12-28 -1.000000 -0.976707 -0.934511 -0.962387 -0.905490 -0.935657   \n",
       "2022-12-29 -0.954941 -1.000000 -0.976707 -0.934511 -0.962387 -0.905490   \n",
       "\n",
       "                 d-6       d-7       d-8       d-9      d-10  \n",
       "Date                                                          \n",
       "2021-01-14  0.433864  0.510361  0.479926  0.547038  0.574646  \n",
       "2021-01-15  0.456566  0.433864  0.510361  0.479926  0.547038  \n",
       "2021-01-19  0.476174  0.456566  0.433864  0.510361  0.479926  \n",
       "2021-01-20  0.410790  0.476174  0.456566  0.433864  0.510361  \n",
       "2021-01-21  0.417110  0.410790  0.476174  0.456566  0.433864  \n",
       "...              ...       ...       ...       ...       ...  \n",
       "2022-12-22 -0.813652 -0.796278 -0.833318 -0.861194 -0.837137  \n",
       "2022-12-23 -0.873414 -0.813652 -0.796278 -0.833318 -0.861194  \n",
       "2022-12-27 -0.884678 -0.873414 -0.813652 -0.796278 -0.833318  \n",
       "2022-12-28 -0.940812 -0.884678 -0.873414 -0.813652 -0.796278  \n",
       "2022-12-29 -0.935657 -0.940812 -0.884678 -0.873414 -0.813652  \n",
       "\n",
       "[494 rows x 11 columns]"
      ]
     },
     "execution_count": 10,
     "metadata": {},
     "output_type": "execute_result"
    }
   ],
   "source": [
    "scaled_prices_df"
   ]
  },
  {
   "cell_type": "markdown",
   "metadata": {},
   "source": [
    "## Sentiment"
   ]
  },
  {
   "cell_type": "code",
   "execution_count": 11,
   "metadata": {},
   "outputs": [],
   "source": [
    "news_df = read_company_news_df(\"amazon\")"
   ]
  },
  {
   "cell_type": "code",
   "execution_count": 12,
   "metadata": {},
   "outputs": [],
   "source": [
    "news_df[\"date\"] = pd.to_datetime(news_df[\"date\"]).dt.date"
   ]
  },
  {
   "cell_type": "code",
   "execution_count": null,
   "metadata": {},
   "outputs": [],
   "source": []
  }
 ],
 "metadata": {
  "kernelspec": {
   "display_name": "base",
   "language": "python",
   "name": "python3"
  },
  "language_info": {
   "codemirror_mode": {
    "name": "ipython",
    "version": 3
   },
   "file_extension": ".py",
   "mimetype": "text/x-python",
   "name": "python",
   "nbconvert_exporter": "python",
   "pygments_lexer": "ipython3",
   "version": "3.10.9"
  },
  "orig_nbformat": 4
 },
 "nbformat": 4,
 "nbformat_minor": 2
}

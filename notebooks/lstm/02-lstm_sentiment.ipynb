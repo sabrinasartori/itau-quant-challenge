{
 "cells": [
  {
   "cell_type": "code",
   "execution_count": 1,
   "metadata": {},
   "outputs": [],
   "source": [
    "%load_ext autoreload\n",
    "%autoreload 2\n"
   ]
  },
  {
   "cell_type": "code",
   "execution_count": 769,
   "metadata": {},
   "outputs": [],
   "source": [
    "import torch\n",
    "import torch.nn as nn\n",
    "import pandas as pd\n",
    "import numpy as np\n",
    "import yfinance as yf\n",
    "import matplotlib.pyplot as plt\n",
    "from torch.utils.data import DataLoader, Dataset\n",
    "from typing import Union\n",
    "from tqdm import tqdm\n",
    "from sklearn.preprocessing import MinMaxScaler\n",
    "\n",
    "import os \n",
    "\n",
    "while \"notebooks\" in os.getcwd():\n",
    "    os.chdir(\"..\")\n",
    "\n",
    "from src.preprocessing.lstm.make_dataset import StockReturnsDataset, \\\n",
    "    StockPricesDataset, get_prices_features, normalize_features,\\\n",
    "    generate_sentiment_features\n",
    "\n",
    "from src.preprocessing.finbert.get_news import get_news, \\\n",
    "    filter_news_with_name, save_company_news_df,\\\n",
    "    read_company_news_df\n",
    "\n",
    "from src.backtester import Backtester"
   ]
  },
  {
   "cell_type": "markdown",
   "metadata": {},
   "source": [
    "# LSTM Analysis with Tech stock prices"
   ]
  },
  {
   "cell_type": "markdown",
   "metadata": {},
   "source": [
    "## Prices"
   ]
  },
  {
   "cell_type": "code",
   "execution_count": 3,
   "metadata": {},
   "outputs": [
    {
     "name": "stdout",
     "output_type": "stream",
     "text": [
      "[*********************100%***********************]  1 of 1 completed\n"
     ]
    }
   ],
   "source": [
    "prices_df = yf.download(\n",
    "    tickers= \"AAPL\",\n",
    "    start=\"2020-01-10\",\n",
    "    end=\"2022-12-30\",\n",
    ")"
   ]
  },
  {
   "cell_type": "code",
   "execution_count": 4,
   "metadata": {},
   "outputs": [
    {
     "name": "stdout",
     "output_type": "stream",
     "text": [
      "[*********************100%***********************]  1 of 1 completed\n",
      "[*********************100%***********************]  1 of 1 completed\n",
      "[*********************100%***********************]  1 of 1 completed\n",
      "[*********************100%***********************]  1 of 1 completed\n",
      "[*********************100%***********************]  1 of 1 completed\n",
      "[*********************100%***********************]  1 of 1 completed\n",
      "[*********************100%***********************]  1 of 1 completed\n",
      "[*********************100%***********************]  1 of 1 completed\n",
      "[*********************100%***********************]  1 of 1 completed\n",
      "[*********************100%***********************]  1 of 1 completed\n"
     ]
    }
   ],
   "source": [
    "universe = [\n",
    "    \"AMZN\", \n",
    "    \"AAPL\", \n",
    "    \"MSFT\", \n",
    "    \"TSLA\",\n",
    "    \"META\",\n",
    "    \"NFLX\",\n",
    "    \"GOOGL\",\n",
    "    \"ORCL\",\n",
    "    \"ADBE\",\n",
    "    \"NVDA\"\n",
    "]\n",
    "all_prices = []\n",
    "\n",
    "for ticker in universe:\n",
    "    prices_df = yf.download(\n",
    "        tickers= ticker,\n",
    "        start=\"2019-12-30\",\n",
    "        end=\"2023-08-23\",\n",
    "        # end = \"2022-12-30\"\n",
    "    )\n",
    "\n",
    "    all_prices.append(get_prices_features(\n",
    "        prices_df,\n",
    "        ticker,\n",
    "        lookback=10,\n",
    "        pct_change= False\n",
    "    ))\n",
    "\n",
    "\n",
    "all_prices_df = pd.concat(all_prices)\n",
    "\n",
    "all_prices_df[\"ticker\"] = all_prices_df[\"ticker\"]\\\n",
    "    .replace(\"META\", \"FB\")"
   ]
  },
  {
   "cell_type": "code",
   "execution_count": 5,
   "metadata": {},
   "outputs": [],
   "source": [
    "prices_without_ticker = all_prices_df\\\n",
    "    .loc[:,all_prices_df.columns != 'ticker']"
   ]
  },
  {
   "cell_type": "code",
   "execution_count": 6,
   "metadata": {},
   "outputs": [],
   "source": [
    "scaler, normalized_prices_df = normalize_features(\n",
    "    prices_without_ticker\n",
    ")"
   ]
  },
  {
   "cell_type": "code",
   "execution_count": 7,
   "metadata": {},
   "outputs": [],
   "source": [
    "normalized_prices_df[\"ticker\"] = all_prices_df[\"ticker\"]"
   ]
  },
  {
   "cell_type": "markdown",
   "metadata": {},
   "source": [
    "### Obtaining sentiment"
   ]
  },
  {
   "cell_type": "code",
   "execution_count": 8,
   "metadata": {},
   "outputs": [
    {
     "name": "stderr",
     "output_type": "stream",
     "text": [
      "  0%|          | 0/10 [00:00<?, ?it/s]"
     ]
    },
    {
     "name": "stderr",
     "output_type": "stream",
     "text": [
      "100%|██████████| 10/10 [00:00<00:00, 10.69it/s]\n"
     ]
    }
   ],
   "source": [
    "universe = [\n",
    "    \"AMZN\", \n",
    "    \"AAPL\", \n",
    "    \"MSFT\", \n",
    "    \"TSLA\",\n",
    "    \"FB\",\n",
    "    \"NFLX\",\n",
    "    \"GOOGL\",\n",
    "    \"ORCL\",\n",
    "    \"ADBE\",\n",
    "    \"NVDA\"\n",
    "]\n",
    "\n",
    "sentiment_list = []\n",
    "\n",
    "for ticker in tqdm(universe):\n",
    "    sentiment = generate_sentiment_features(ticker,\n",
    "                                            updated= True)\n",
    "    sentiment[\"ticker\"] = ticker\n",
    "    sentiment_list.append(sentiment)\n",
    "\n",
    "sentiment_df = pd.concat(sentiment_list)\n",
    "sentiment_df.index = pd.to_datetime(sentiment_df.index)"
   ]
  },
  {
   "cell_type": "code",
   "execution_count": 9,
   "metadata": {},
   "outputs": [],
   "source": [
    "sentiment_df.reset_index(inplace=True)\n",
    "normalized_prices_df.reset_index(inplace=True)"
   ]
  },
  {
   "cell_type": "code",
   "execution_count": 10,
   "metadata": {},
   "outputs": [],
   "source": [
    "features_df = pd.merge(\n",
    "    normalized_prices_df,\n",
    "    sentiment_df,\n",
    "    left_on=[\"ticker\", \"Date\"],\n",
    "    right_on=[\"ticker\", \"date\"],\n",
    "    how = \"left\"\n",
    ")\\\n",
    "    .set_index([\"Date\", \"ticker\"])"
   ]
  },
  {
   "cell_type": "code",
   "execution_count": 11,
   "metadata": {},
   "outputs": [],
   "source": [
    "selected_columns = ~((features_df.columns == \"index\") | (features_df.columns == \"date\") )"
   ]
  },
  {
   "cell_type": "code",
   "execution_count": 12,
   "metadata": {},
   "outputs": [],
   "source": [
    "feature_names = [i for i in range(1,10 + 1)]\n",
    "# feature_names.append(\"sentiment_count\")\n"
   ]
  },
  {
   "cell_type": "code",
   "execution_count": 13,
   "metadata": {},
   "outputs": [],
   "source": [
    "train_dates = features_df.index\\\n",
    "    .get_level_values(\"Date\") < '2022-04'\n",
    "\n",
    "test_dates = (features_df.index\\\n",
    "    .get_level_values(\"Date\") > '2022-04') "
   ]
  },
  {
   "cell_type": "code",
   "execution_count": 14,
   "metadata": {},
   "outputs": [
    {
     "data": {
      "text/plain": [
       "Date        ticker\n",
       "2020-04-20  AMZN      0.000000\n",
       "2020-04-21  AMZN      0.000000\n",
       "2020-04-22  AMZN      0.000000\n",
       "2020-04-23  AMZN      0.000000\n",
       "2020-04-24  AMZN      0.000000\n",
       "                        ...   \n",
       "2023-08-15  NVDA      0.538462\n",
       "2023-08-16  NVDA      0.357143\n",
       "2023-08-17  NVDA      0.125000\n",
       "2023-08-18  NVDA      0.235294\n",
       "2023-08-21  NVDA      0.320000\n",
       "Name: sentiment_count, Length: 9004, dtype: float64"
      ]
     },
     "execution_count": 14,
     "metadata": {},
     "output_type": "execute_result"
    }
   ],
   "source": [
    "features_df.sentiment_count.ffill()\\\n",
    "    .dropna()"
   ]
  },
  {
   "cell_type": "code",
   "execution_count": 15,
   "metadata": {},
   "outputs": [],
   "source": [
    "X_train = features_df\\\n",
    "    .loc[train_dates,selected_columns]\\\n",
    "    .fillna(0)\n",
    "\n",
    "X_test = features_df\\\n",
    "    .loc[test_dates ,selected_columns]\\\n",
    "    .fillna(0)"
   ]
  },
  {
   "cell_type": "code",
   "execution_count": 16,
   "metadata": {},
   "outputs": [],
   "source": [
    "y_train = features_df\\\n",
    "    .fillna(0)\\\n",
    "    .loc[train_dates, \"price\"]\n",
    "\n",
    "y_test = features_df\\\n",
    "    .loc[test_dates, \"price\"]"
   ]
  },
  {
   "cell_type": "code",
   "execution_count": 17,
   "metadata": {},
   "outputs": [],
   "source": [
    "X_train_numpy = X_train\\\n",
    "    .loc[:, feature_names]\\\n",
    "    .to_numpy()\\\n",
    "    .reshape((\n",
    "        X_train.shape[0],\n",
    "        X_train.loc[:,feature_names].shape[1],\n",
    "        1\n",
    "    ))\n",
    "\n",
    "X_test_numpy = X_test\\\n",
    "    .loc[:, feature_names]\\\n",
    "    .to_numpy()\\\n",
    "    .reshape((\n",
    "        X_test.shape[0],\n",
    "        X_test.loc[:,feature_names].shape[1],\n",
    "        1\n",
    "    ))"
   ]
  },
  {
   "cell_type": "code",
   "execution_count": 18,
   "metadata": {},
   "outputs": [],
   "source": [
    "y_train_numpy = y_train\\\n",
    "    .to_numpy()\\\n",
    "    .reshape(-1,1)\n",
    "\n",
    "y_test_numpy = y_test\\\n",
    "    .to_numpy()\\\n",
    "    .reshape(-1,1)"
   ]
  },
  {
   "cell_type": "code",
   "execution_count": 19,
   "metadata": {},
   "outputs": [],
   "source": [
    "X_train_tensor = torch\\\n",
    "    .from_numpy(X_train_numpy)\\\n",
    "    .type(torch.Tensor)\n",
    "\n",
    "X_test_tensor = torch\\\n",
    "    .from_numpy(X_test_numpy)\\\n",
    "    .type(torch.Tensor)"
   ]
  },
  {
   "cell_type": "code",
   "execution_count": 20,
   "metadata": {},
   "outputs": [],
   "source": [
    "y_train_tensor = torch\\\n",
    "    .from_numpy(y_train_numpy)\\\n",
    "    .type(torch.Tensor)\n",
    "\n",
    "y_test_tensor = torch\\\n",
    "    .from_numpy(y_test_numpy)\\\n",
    "    .type(torch.Tensor)"
   ]
  },
  {
   "cell_type": "code",
   "execution_count": 21,
   "metadata": {},
   "outputs": [],
   "source": [
    "dataset = StockPricesDataset(X_train_tensor, y_train_tensor)\n",
    "\n",
    "dataloader = DataLoader(\n",
    "    dataset,\n",
    "    batch_size= 10,\n",
    "    shuffle= True,\n",
    ")"
   ]
  },
  {
   "cell_type": "code",
   "execution_count": 22,
   "metadata": {},
   "outputs": [
    {
     "data": {
      "text/plain": [
       "(torch.Size([5590, 10, 1]), torch.Size([5590, 1]))"
      ]
     },
     "execution_count": 22,
     "metadata": {},
     "output_type": "execute_result"
    }
   ],
   "source": [
    "X_train_tensor.size(),\\\n",
    "y_train_tensor.size()"
   ]
  },
  {
   "cell_type": "markdown",
   "metadata": {},
   "source": [
    "## Building LSTM model"
   ]
  },
  {
   "cell_type": "code",
   "execution_count": 23,
   "metadata": {},
   "outputs": [],
   "source": [
    "class LSTM(nn.Module):\n",
    "    def __init__(self, \n",
    "                 input_dim: int, \n",
    "                 hidden_dim : int , \n",
    "                 num_layers : int , \n",
    "                 output_dim : int,\n",
    "                 activation : callable = lambda x : x \n",
    "                ):\n",
    "        super(LSTM, self).__init__()\n",
    "        self.hidden_dim = hidden_dim\n",
    "        self.num_layers = num_layers\n",
    "        \n",
    "        self.lstm = nn.LSTM(\n",
    "            input_dim, \n",
    "            hidden_dim, \n",
    "            num_layers, \n",
    "            batch_first=True,\n",
    "        )\n",
    "\n",
    "        self.activation = activation\n",
    "\n",
    "        self.fc = nn.Linear(hidden_dim, output_dim)\n",
    "\n",
    "    def forward(self, \n",
    "                x: torch.Tensor):\n",
    "        h0 = torch.zeros(self.num_layers, x.size(0), self.hidden_dim).requires_grad_()\n",
    "        c0 = torch.zeros(self.num_layers, x.size(0), self.hidden_dim).requires_grad_()\n",
    "        out, (hn, cn) = self.lstm(x, (h0.detach(), c0.detach()))\n",
    "        out = self.activation(out)\n",
    "        out = self.fc(out[:, -1, :]) \n",
    "        return out"
   ]
  },
  {
   "cell_type": "code",
   "execution_count": 24,
   "metadata": {},
   "outputs": [],
   "source": [
    "class GRU(nn.Module):\n",
    "    def __init__(self, \n",
    "                 input_dim : int, \n",
    "                 hidden_dim : int, \n",
    "                 num_layers : int, \n",
    "                 output_dim : int\n",
    "                ):\n",
    "        super(GRU, self).__init__()\n",
    "        self.hidden_dim = hidden_dim\n",
    "        self.num_layers = num_layers\n",
    "        \n",
    "        self.gru = nn.GRU(\n",
    "            input_dim, \n",
    "            hidden_dim, \n",
    "            num_layers, \n",
    "            batch_first=True,\n",
    "        )\n",
    "        self.fc = nn.Linear(hidden_dim, output_dim)\n",
    "\n",
    "    def forward(self, x):\n",
    "        h0 = torch.zeros(self.num_layers, x.size(0), self.hidden_dim).requires_grad_()\n",
    "        out, (hn) = self.gru(x, (h0.detach()))\n",
    "        out = self.fc(out[:, -1, :]) \n",
    "        return out\n"
   ]
  },
  {
   "cell_type": "markdown",
   "metadata": {},
   "source": [
    "## Neural network training"
   ]
  },
  {
   "cell_type": "code",
   "execution_count": 705,
   "metadata": {},
   "outputs": [],
   "source": [
    "# lookback = 100\n",
    "input_dim = 1\n",
    "hidden_dim = 4\n",
    "num_layers = 3\n",
    "output_dim = 1\n",
    "num_epochs = 10"
   ]
  },
  {
   "cell_type": "code",
   "execution_count": 706,
   "metadata": {},
   "outputs": [],
   "source": [
    "model = GRU(\n",
    "    input_dim,\n",
    "    hidden_dim,\n",
    "    num_layers,\n",
    "    output_dim,\n",
    ")"
   ]
  },
  {
   "cell_type": "code",
   "execution_count": 707,
   "metadata": {},
   "outputs": [],
   "source": [
    "# model.load_state_dict(torch.load(\"data/models/GRU_trained.pt\"))"
   ]
  },
  {
   "cell_type": "code",
   "execution_count": 708,
   "metadata": {},
   "outputs": [
    {
     "data": {
      "text/plain": [
       "329"
      ]
     },
     "execution_count": 708,
     "metadata": {},
     "output_type": "execute_result"
    }
   ],
   "source": [
    "treinable_params = sum(p.numel() for p in model.parameters() if p.requires_grad)\n",
    "treinable_params"
   ]
  },
  {
   "cell_type": "code",
   "execution_count": 709,
   "metadata": {},
   "outputs": [],
   "source": [
    "loss_fn = torch.nn.MSELoss()\n",
    "optimiser = torch.optim.Adam(model.parameters(), lr=0.005)"
   ]
  },
  {
   "cell_type": "code",
   "execution_count": 710,
   "metadata": {},
   "outputs": [],
   "source": [
    "from copy import deepcopy"
   ]
  },
  {
   "cell_type": "code",
   "execution_count": 711,
   "metadata": {},
   "outputs": [
    {
     "name": "stderr",
     "output_type": "stream",
     "text": [
      "  0%|          | 0/10 [00:00<?, ?it/s]"
     ]
    },
    {
     "name": "stderr",
     "output_type": "stream",
     "text": [
      "100%|██████████| 10/10 [00:44<00:00,  4.45s/it]\n"
     ]
    }
   ],
   "source": [
    "# hist = np.zeros(num_epochs)\n",
    "\n",
    "train_error = []\n",
    "val_error = []\n",
    "best_model = deepcopy(model)\n",
    "idx_best = 0\n",
    "for t in tqdm(range(num_epochs)):\n",
    "    epoch_error_train = []\n",
    "    epoch_error_val = []\n",
    "    for X, y in (dataloader):\n",
    "        y_train_pred = model(X)\n",
    "\n",
    "        loss = loss_fn(y_train_pred, y)\n",
    "        \n",
    "        epoch_error_train.append(loss.item())\n",
    "        optimiser.zero_grad()\n",
    "        loss.backward()\n",
    "        optimiser.step()\n",
    "\n",
    "    with torch.no_grad():\n",
    "        y_test_pred = model(X_test_tensor)\n",
    "\n",
    "        loss = loss_fn(y_test_pred, y_test_tensor)\n",
    "\n",
    "        epoch_error_val.append(loss.item())\n",
    "\n",
    "    \n",
    "    train_error.append(np.mean(epoch_error_train))\n",
    "    val_error.append(np.mean(epoch_error_val))\n",
    "\n",
    "    if (epoch_error_val <= np.min(val_error)):\n",
    "        best_model = deepcopy(model)\n",
    "        idx_best = t\n",
    "        # print(f\"Epoch {t+1} error : {np.mean(epoch_accuracy)}\")\n"
   ]
  },
  {
   "cell_type": "code",
   "execution_count": 712,
   "metadata": {},
   "outputs": [
    {
     "data": {
      "text/plain": [
       "6"
      ]
     },
     "execution_count": 712,
     "metadata": {},
     "output_type": "execute_result"
    }
   ],
   "source": [
    "idx_best"
   ]
  },
  {
   "cell_type": "code",
   "execution_count": 713,
   "metadata": {},
   "outputs": [
    {
     "data": {
      "text/plain": [
       "[<matplotlib.lines.Line2D at 0x7f16552526e0>]"
      ]
     },
     "execution_count": 713,
     "metadata": {},
     "output_type": "execute_result"
    },
    {
     "data": {
      "image/png": "[encoded data removed]",
      "text/plain": [
       "<Figure size 640x480 with 1 Axes>"
      ]
     },
     "metadata": {},
     "output_type": "display_data"
    }
   ],
   "source": [
    "plt.plot(train_error)\n",
    "plt.plot(val_error)"
   ]
  },
  {
   "cell_type": "code",
   "execution_count": 714,
   "metadata": {},
   "outputs": [
    {
     "data": {
      "text/plain": [
       "GRU(\n",
       "  (gru): GRU(1, 4, num_layers=3, batch_first=True)\n",
       "  (fc): Linear(in_features=4, out_features=1, bias=True)\n",
       ")"
      ]
     },
     "execution_count": 714,
     "metadata": {},
     "output_type": "execute_result"
    }
   ],
   "source": [
    "best_model"
   ]
  },
  {
   "cell_type": "code",
   "execution_count": 715,
   "metadata": {},
   "outputs": [],
   "source": [
    "# best_model.load_state_dict(torch.load(\"data/models/GRU_early_stopping.pt\"))"
   ]
  },
  {
   "cell_type": "code",
   "execution_count": 716,
   "metadata": {},
   "outputs": [],
   "source": [
    "y_pred_test = best_model(X_test_tensor)\\\n",
    "    .detach()\\\n",
    "    .numpy()\n",
    "\n",
    "y_pred_train = best_model(X_train_tensor)\\\n",
    "    .detach()\\\n",
    "    .numpy()"
   ]
  },
  {
   "cell_type": "code",
   "execution_count": 717,
   "metadata": {},
   "outputs": [
    {
     "data": {
      "text/plain": [
       "torch.Size([5590, 10, 1])"
      ]
     },
     "execution_count": 717,
     "metadata": {},
     "output_type": "execute_result"
    }
   ],
   "source": [
    "X_train_tensor.shape"
   ]
  },
  {
   "cell_type": "code",
   "execution_count": 718,
   "metadata": {},
   "outputs": [
    {
     "data": {
      "text/plain": [
       "(3470,)"
      ]
     },
     "execution_count": 718,
     "metadata": {},
     "output_type": "execute_result"
    }
   ],
   "source": [
    "y_pred_test.reshape(-1).shape"
   ]
  },
  {
   "cell_type": "code",
   "execution_count": 719,
   "metadata": {},
   "outputs": [],
   "source": [
    "y_pred_test = pd.Series(\n",
    "    y_pred_test\\\n",
    "        .reshape(-1),\n",
    "    name = \"price\",\n",
    "    index = y_test.index      \n",
    ")\n",
    "\n",
    "y_pred_train = pd.Series(\n",
    "    y_pred_train\\\n",
    "        .reshape(-1),\n",
    "    name = \"price\",\n",
    "    index = y_train.index      \n",
    ")\n"
   ]
  },
  {
   "cell_type": "code",
   "execution_count": 720,
   "metadata": {},
   "outputs": [],
   "source": [
    "company_train = y_pred_train\\\n",
    "    .index\\\n",
    "    .get_level_values(\"ticker\") == \"AAPL\"\n",
    "\n",
    "\n",
    "company_test = y_pred_test\\\n",
    "    .index\\\n",
    "    .get_level_values(\"ticker\") == \"AAPL\""
   ]
  },
  {
   "cell_type": "code",
   "execution_count": 721,
   "metadata": {},
   "outputs": [
    {
     "data": {
      "text/plain": [
       "<matplotlib.legend.Legend at 0x7f16553f3a00>"
      ]
     },
     "execution_count": 721,
     "metadata": {},
     "output_type": "execute_result"
    },
    {
     "data": {
      "image/png": "[encoded data removed]",
      "text/plain": [
       "<Figure size 640x480 with 1 Axes>"
      ]
     },
     "metadata": {},
     "output_type": "display_data"
    }
   ],
   "source": [
    "y_pred_test[company_test]\\\n",
    "    .reset_index(level=1)\\\n",
    "    [\"price\"]\\\n",
    "    .plot(\n",
    "        label = \"predicted price\"\n",
    "    )\n",
    "\n",
    "y_test[company_test]\\\n",
    "    .reset_index(level=1)\\\n",
    "    [\"price\"]\\\n",
    "    .plot(\n",
    "        label = \"real price\"\n",
    "    )\n",
    "\n",
    "# y_test[(y_pred_test.pct_change() < 0 ) & (y_test.index.get_level_values(\"ticker\") == \"AAPL\")]\\\n",
    "#     .reset_index(level= \"ticker\")\\\n",
    "#     [\"price\"]\\\n",
    "#     .plot(\n",
    "#         label = \"buy\",\n",
    "#         marker = \"^\",\n",
    "#         linestyle = \"None\",\n",
    "#         color = \"green\"\n",
    "#     )\n",
    "\n",
    "# y_test[(y_pred_test.pct_change()>0 ) & (y_test.index.get_level_values(\"ticker\") == \"AAPL\")]\\\n",
    "#     .reset_index(level= \"ticker\")\\\n",
    "#     [\"price\"]\\\n",
    "#     .plot(\n",
    "#         label = \"sell\",\n",
    "#         marker = \"^\",\n",
    "#         linestyle = \"None\",\n",
    "#         color = \"red\"\n",
    "#     )\n",
    "\n",
    "plt.legend()"
   ]
  },
  {
   "cell_type": "code",
   "execution_count": null,
   "metadata": {},
   "outputs": [],
   "source": []
  },
  {
   "cell_type": "code",
   "execution_count": 722,
   "metadata": {},
   "outputs": [
    {
     "data": {
      "text/plain": [
       "<matplotlib.legend.Legend at 0x7f1657fc4820>"
      ]
     },
     "execution_count": 722,
     "metadata": {},
     "output_type": "execute_result"
    },
    {
     "data": {
      "image/png": "[encoded data removed]",
      "text/plain": [
       "<Figure size 640x480 with 1 Axes>"
      ]
     },
     "metadata": {},
     "output_type": "display_data"
    }
   ],
   "source": [
    "# plt.figure(figsize = (16,10))\n",
    "\n",
    "y_pred_train[company_train]\\\n",
    "    .reset_index(level= \"ticker\")\\\n",
    "    [\"price\"]\\\n",
    "    .plot(\n",
    "        label = \"predicted price\",\n",
    "        # color = \"blue\"\n",
    "    )\n",
    "\n",
    "y_train[company_train]\\\n",
    "    .reset_index(level= \"ticker\")\\\n",
    "    [\"price\"]\\\n",
    "    .plot(\n",
    "        label = \"real price\",\n",
    "        # color = \"blue\"\n",
    "    )\n",
    "\n",
    "\n",
    "\n",
    "\n",
    "plt.legend()"
   ]
  },
  {
   "cell_type": "markdown",
   "metadata": {},
   "source": [
    "## Creating signal"
   ]
  },
  {
   "cell_type": "markdown",
   "metadata": {},
   "source": [
    "## PnL"
   ]
  },
  {
   "cell_type": "code",
   "execution_count": 723,
   "metadata": {},
   "outputs": [
    {
     "data": {
      "text/plain": [
       "array([False, False, False, ...,  True,  True,  True])"
      ]
     },
     "execution_count": 723,
     "metadata": {},
     "output_type": "execute_result"
    }
   ],
   "source": [
    "y_pred_test.index.get_level_values(\"Date\") > \"2023\""
   ]
  },
  {
   "cell_type": "code",
   "execution_count": 770,
   "metadata": {},
   "outputs": [],
   "source": [
    "backtester = Backtester(\n",
    "    universe,\n",
    "    y_pred_train,\n",
    "    y_pred_test,\n",
    "    y_train,\n",
    "    y_test\n",
    ")"
   ]
  },
  {
   "cell_type": "code",
   "execution_count": 779,
   "metadata": {},
   "outputs": [
    {
     "name": "stderr",
     "output_type": "stream",
     "text": [
      "  0%|          | 0/10 [00:00<?, ?it/s]"
     ]
    },
    {
     "name": "stderr",
     "output_type": "stream",
     "text": [
      "100%|██████████| 10/10 [00:00<00:00, 107.42it/s]\n",
      "100%|██████████| 10/10 [00:00<00:00, 128.06it/s]\n",
      "100%|██████████| 10/10 [00:00<00:00, 162.21it/s]\n",
      "100%|██████████| 10/10 [00:00<00:00, 121.89it/s]\n"
     ]
    }
   ],
   "source": [
    "backtester.backtest()"
   ]
  },
  {
   "cell_type": "code",
   "execution_count": 780,
   "metadata": {},
   "outputs": [
    {
     "data": {
      "text/plain": [
       "{'sharpes': {'train': 0.8480429965105668,\n",
       "  'test': 2.062709582849556,\n",
       "  'val': 1.7475375169041838,\n",
       "  'full_period': 1.1851323763834598},\n",
       " 'p-values': {'train': 0.10163381213604039,\n",
       "  'test': 0.036815500363043596,\n",
       "  'val': 0.06693258141681968,\n",
       "  'full_period': 0.011627231926740644}}"
      ]
     },
     "execution_count": 780,
     "metadata": {},
     "output_type": "execute_result"
    }
   ],
   "source": [
    "backtester.get_backtest_results()"
   ]
  },
  {
   "cell_type": "code",
   "execution_count": 784,
   "metadata": {},
   "outputs": [],
   "source": [
    "period = 'full_period'\n",
    "pnl_total = backtester.get_backtest_pnl()[period]"
   ]
  },
  {
   "cell_type": "code",
   "execution_count": 785,
   "metadata": {},
   "outputs": [
    {
     "data": {
      "image/png": "[encoded data removed]",
      "text/plain": [
       "<Figure size 640x480 with 1 Axes>"
      ]
     },
     "metadata": {},
     "output_type": "display_data"
    }
   ],
   "source": [
    "plt.title(\"Strategy PNL\")\n",
    "\n",
    "pnl_total\\\n",
    "    .add(1)\\\n",
    "    .cumprod()\\\n",
    "    .plot(\n",
    "        label = \"Strategy PNL\"\n",
    "    )\n",
    "\n",
    "plt.hlines(\n",
    "    y = 1,\n",
    "    xmin= pnl_total.index[0],\n",
    "    xmax = pnl_total.index[-1],\n",
    "    colors= \"black\",\n",
    "    linestyles= \"dashed\"\n",
    ")\n",
    "\n",
    "# plt.vlines(\n",
    "#     x = pd.to_datetime(\"2022-04\"),\n",
    "#     ymin = 0.9,\n",
    "#     ymax = 2.6,\n",
    "#     colors= \"red\",\n",
    "#     linestyles= \"dashed\",\n",
    "#     label = \"train - validation\"\n",
    "# )\n",
    "\n",
    "# plt.vlines(\n",
    "#     x = pd.to_datetime('2023-01'),\n",
    "#     ymin = 0.9,\n",
    "#     ymax = 2.6,\n",
    "#     colors= \"green\",\n",
    "#     linestyles= \"dashed\",\n",
    "#     label = \"validation - test\"\n",
    "# )\n",
    "\n",
    "plt.legend()\n",
    "plt.grid()\n",
    "# plt.savefig(f\"img/strategy_{period}.png\", bbox_inches = \"tight\")\n",
    "\n"
   ]
  },
  {
   "cell_type": "code",
   "execution_count": 786,
   "metadata": {},
   "outputs": [
    {
     "data": {
      "text/plain": [
       "1.1851323763834598"
      ]
     },
     "execution_count": 786,
     "metadata": {},
     "output_type": "execute_result"
    }
   ],
   "source": [
    "(pnl_total.mean())/pnl_total.std() * np.sqrt(252)"
   ]
  },
  {
   "cell_type": "code",
   "execution_count": 744,
   "metadata": {},
   "outputs": [
    {
     "data": {
      "text/plain": [
       "0.2631456304991567"
      ]
     },
     "execution_count": 744,
     "metadata": {},
     "output_type": "execute_result"
    }
   ],
   "source": [
    "pnl_total.std() * np.sqrt(252)"
   ]
  }
 ],
 "metadata": {
  "kernelspec": {
   "display_name": "base",
   "language": "python",
   "name": "python3"
  },
  "language_info": {
   "codemirror_mode": {
    "name": "ipython",
    "version": 3
   },
   "file_extension": ".py",
   "mimetype": "text/x-python",
   "name": "python",
   "nbconvert_exporter": "python",
   "pygments_lexer": "ipython3",
   "version": "3.10.9"
  },
  "orig_nbformat": 4
 },
 "nbformat": 4,
 "nbformat_minor": 2
}

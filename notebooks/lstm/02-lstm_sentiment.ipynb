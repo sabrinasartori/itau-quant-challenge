{
 "cells": [
  {
   "cell_type": "code",
   "execution_count": 1,
   "metadata": {},
   "outputs": [],
   "source": [
    "%load_ext autoreload\n",
    "%autoreload 2\n"
   ]
  },
  {
   "cell_type": "code",
   "execution_count": 2,
   "metadata": {},
   "outputs": [],
   "source": [
    "import torch\n",
    "import torch.nn as nn\n",
    "import pandas as pd\n",
    "import numpy as np\n",
    "import yfinance as yf\n",
    "import matplotlib.pyplot as plt\n",
    "from torch.utils.data import DataLoader, Dataset\n",
    "from typing import Union\n",
    "from tqdm import tqdm\n",
    "from sklearn.preprocessing import MinMaxScaler\n",
    "\n",
    "import os \n",
    "\n",
    "while \"notebooks\" in os.getcwd():\n",
    "    os.chdir(\"..\")\n",
    "\n",
    "from src.preprocessing.lstm.make_dataset import StockReturnsDataset, \\\n",
    "    StockPricesDataset, get_prices_features, normalize_features,\\\n",
    "    generate_sentiment_features\n",
    "\n",
    "from src.preprocessing.finbert.get_news import get_news, \\\n",
    "    filter_news_with_name, save_company_news_df,\\\n",
    "    read_company_news_df"
   ]
  },
  {
   "cell_type": "markdown",
   "metadata": {},
   "source": [
    "# LSTM Analysis with Tech stock prices"
   ]
  },
  {
   "cell_type": "markdown",
   "metadata": {},
   "source": [
    "## Prices"
   ]
  },
  {
   "cell_type": "code",
   "execution_count": 3,
   "metadata": {},
   "outputs": [],
   "source": [
    "all_prices = pd.DataFrame([])"
   ]
  },
  {
   "cell_type": "code",
   "execution_count": 4,
   "metadata": {},
   "outputs": [
    {
     "name": "stdout",
     "output_type": "stream",
     "text": [
      "[*********************100%***********************]  1 of 1 completed\n"
     ]
    }
   ],
   "source": [
    "prices_df = yf.download(\n",
    "    tickers= \"AAPL\",\n",
    "    start=\"2020-01-10\",\n",
    "    end=\"2022-12-30\",\n",
    ")"
   ]
  },
  {
   "cell_type": "code",
   "execution_count": 5,
   "metadata": {},
   "outputs": [
    {
     "name": "stdout",
     "output_type": "stream",
     "text": [
      "[*********************100%***********************]  1 of 1 completed\n",
      "[*********************100%***********************]  1 of 1 completed\n",
      "[*********************100%***********************]  1 of 1 completed\n",
      "[*********************100%***********************]  1 of 1 completed\n",
      "[*********************100%***********************]  1 of 1 completed\n",
      "[*********************100%***********************]  1 of 1 completed\n",
      "[*********************100%***********************]  1 of 1 completed\n",
      "[*********************100%***********************]  1 of 1 completed\n",
      "[*********************100%***********************]  1 of 1 completed\n",
      "[*********************100%***********************]  1 of 1 completed\n"
     ]
    }
   ],
   "source": [
    "universe = [\n",
    "    \"AMZN\", \n",
    "    \"AAPL\", \n",
    "    \"MSFT\", \n",
    "    \"TSLA\",\n",
    "    \"META\",\n",
    "    \"NFLX\",\n",
    "    \"GOOGL\",\n",
    "    \"ORCL\",\n",
    "    \"ADBE\",\n",
    "    \"NVDA\"\n",
    "]\n",
    "all_prices = []\n",
    "\n",
    "for ticker in universe:\n",
    "    prices_df = yf.download(\n",
    "        tickers= ticker,\n",
    "        start=\"2019-12-30\",\n",
    "        end=\"2023-08-23\",\n",
    "        # end = \"2022-12-30\"\n",
    "    )\n",
    "\n",
    "    all_prices.append(get_prices_features(\n",
    "        prices_df,\n",
    "        ticker,\n",
    "        lookback=10,\n",
    "        pct_change= False\n",
    "    ))\n",
    "\n",
    "\n",
    "all_prices_df = pd.concat(all_prices)\n",
    "\n",
    "all_prices_df[\"ticker\"] = all_prices_df[\"ticker\"]\\\n",
    "    .replace(\"META\", \"FB\")"
   ]
  },
  {
   "cell_type": "code",
   "execution_count": null,
   "metadata": {},
   "outputs": [],
   "source": []
  },
  {
   "cell_type": "code",
   "execution_count": 6,
   "metadata": {},
   "outputs": [],
   "source": [
    "prices_without_ticker = all_prices_df\\\n",
    "    .loc[:,all_prices_df.columns != 'ticker']"
   ]
  },
  {
   "cell_type": "code",
   "execution_count": 7,
   "metadata": {},
   "outputs": [],
   "source": [
    "scaler, normalized_prices_df = normalize_features(\n",
    "    prices_without_ticker\n",
    ")"
   ]
  },
  {
   "cell_type": "code",
   "execution_count": 8,
   "metadata": {},
   "outputs": [],
   "source": [
    "normalized_prices_df[\"ticker\"] = all_prices_df[\"ticker\"]"
   ]
  },
  {
   "cell_type": "markdown",
   "metadata": {},
   "source": [
    "### Obtaining sentiment"
   ]
  },
  {
   "cell_type": "code",
   "execution_count": 9,
   "metadata": {},
   "outputs": [
    {
     "name": "stderr",
     "output_type": "stream",
     "text": [
      "  0%|          | 0/10 [00:00<?, ?it/s]"
     ]
    },
    {
     "name": "stderr",
     "output_type": "stream",
     "text": [
      "100%|██████████| 10/10 [00:00<00:00, 16.21it/s]\n"
     ]
    }
   ],
   "source": [
    "universe = [\n",
    "    \"AMZN\", \n",
    "    \"AAPL\", \n",
    "    \"MSFT\", \n",
    "    \"TSLA\",\n",
    "    \"FB\",\n",
    "    \"NFLX\",\n",
    "    \"GOOGL\",\n",
    "    \"ORCL\",\n",
    "    \"ADBE\",\n",
    "    \"NVDA\"\n",
    "]\n",
    "\n",
    "sentiment_list = []\n",
    "\n",
    "for ticker in tqdm(universe):\n",
    "    sentiment = generate_sentiment_features(ticker,\n",
    "                                            updated= True)\n",
    "    sentiment[\"ticker\"] = ticker\n",
    "    sentiment_list.append(sentiment)\n",
    "\n",
    "sentiment_df = pd.concat(sentiment_list)\n",
    "sentiment_df.index = pd.to_datetime(sentiment_df.index)"
   ]
  },
  {
   "cell_type": "code",
   "execution_count": 10,
   "metadata": {},
   "outputs": [],
   "source": [
    "sentiment_df.reset_index(inplace=True)\n",
    "normalized_prices_df.reset_index(inplace=True)"
   ]
  },
  {
   "cell_type": "code",
   "execution_count": 11,
   "metadata": {},
   "outputs": [],
   "source": [
    "features_df = pd.merge(\n",
    "    normalized_prices_df,\n",
    "    sentiment_df,\n",
    "    left_on=[\"ticker\", \"Date\"],\n",
    "    right_on=[\"ticker\", \"date\"],\n",
    "    how = \"left\"\n",
    ")\\\n",
    "    .set_index([\"Date\", \"ticker\"])"
   ]
  },
  {
   "cell_type": "code",
   "execution_count": 12,
   "metadata": {},
   "outputs": [],
   "source": [
    "selected_columns = ~((features_df.columns == \"index\") | (features_df.columns == \"date\") )"
   ]
  },
  {
   "cell_type": "code",
   "execution_count": 13,
   "metadata": {},
   "outputs": [],
   "source": [
    "feature_names = [i for i in range(1,10 + 1)]\n",
    "# feature_names.append(\"sentiment_count\")\n"
   ]
  },
  {
   "cell_type": "code",
   "execution_count": 38,
   "metadata": {},
   "outputs": [],
   "source": [
    "train_dates = features_df.index\\\n",
    "    .get_level_values(\"Date\") < '2022-04'\n",
    "\n",
    "test_dates = (features_df.index\\\n",
    "    .get_level_values(\"Date\") > '2022-04') "
   ]
  },
  {
   "cell_type": "code",
   "execution_count": 39,
   "metadata": {},
   "outputs": [],
   "source": [
    "X_train = features_df\\\n",
    "    .loc[train_dates,selected_columns]\\\n",
    "    .fillna(0)\n",
    "\n",
    "X_test = features_df\\\n",
    "    .loc[test_dates ,selected_columns]\\\n",
    "    .fillna(0)"
   ]
  },
  {
   "cell_type": "code",
   "execution_count": 40,
   "metadata": {},
   "outputs": [],
   "source": [
    "y_train = features_df\\\n",
    "    .fillna(0)\\\n",
    "    .loc[train_dates, \"price\"]\n",
    "\n",
    "y_test = features_df\\\n",
    "    .loc[test_dates, \"price\"]"
   ]
  },
  {
   "cell_type": "code",
   "execution_count": 41,
   "metadata": {},
   "outputs": [],
   "source": [
    "X_train_numpy = X_train\\\n",
    "    .loc[:, feature_names]\\\n",
    "    .to_numpy()\\\n",
    "    .reshape((\n",
    "        X_train.shape[0],\n",
    "        X_train.loc[:,feature_names].shape[1],\n",
    "        1\n",
    "    ))\n",
    "\n",
    "X_test_numpy = X_test\\\n",
    "    .loc[:, feature_names]\\\n",
    "    .to_numpy()\\\n",
    "    .reshape((\n",
    "        X_test.shape[0],\n",
    "        X_test.loc[:,feature_names].shape[1],\n",
    "        1\n",
    "    ))"
   ]
  },
  {
   "cell_type": "code",
   "execution_count": 42,
   "metadata": {},
   "outputs": [],
   "source": [
    "y_train_numpy = y_train\\\n",
    "    .to_numpy()\\\n",
    "    .reshape(-1,1)\n",
    "\n",
    "y_test_numpy = y_test\\\n",
    "    .to_numpy()\\\n",
    "    .reshape(-1,1)"
   ]
  },
  {
   "cell_type": "code",
   "execution_count": 43,
   "metadata": {},
   "outputs": [],
   "source": [
    "X_train_tensor = torch\\\n",
    "    .from_numpy(X_train_numpy)\\\n",
    "    .type(torch.Tensor)\n",
    "\n",
    "X_test_tensor = torch\\\n",
    "    .from_numpy(X_test_numpy)\\\n",
    "    .type(torch.Tensor)"
   ]
  },
  {
   "cell_type": "code",
   "execution_count": 44,
   "metadata": {},
   "outputs": [],
   "source": [
    "y_train_tensor = torch\\\n",
    "    .from_numpy(y_train_numpy)\\\n",
    "    .type(torch.Tensor)\n",
    "\n",
    "y_test_tensor = torch\\\n",
    "    .from_numpy(y_test_numpy)\\\n",
    "    .type(torch.Tensor)"
   ]
  },
  {
   "cell_type": "code",
   "execution_count": 45,
   "metadata": {},
   "outputs": [],
   "source": [
    "dataset = StockPricesDataset(X_train_tensor, y_train_tensor)\n",
    "\n",
    "dataloader = DataLoader(\n",
    "    dataset,\n",
    "    batch_size= 5,\n",
    "    shuffle= True,\n",
    ")"
   ]
  },
  {
   "cell_type": "code",
   "execution_count": 46,
   "metadata": {},
   "outputs": [
    {
     "data": {
      "text/plain": [
       "(torch.Size([5590, 10, 1]), torch.Size([5590, 1]))"
      ]
     },
     "execution_count": 46,
     "metadata": {},
     "output_type": "execute_result"
    }
   ],
   "source": [
    "X_train_tensor.size(),\\\n",
    "y_train_tensor.size()"
   ]
  },
  {
   "cell_type": "markdown",
   "metadata": {},
   "source": [
    "## Building LSTM model"
   ]
  },
  {
   "cell_type": "code",
   "execution_count": 47,
   "metadata": {},
   "outputs": [],
   "source": [
    "class LSTM(nn.Module):\n",
    "    def __init__(self, \n",
    "                 input_dim: int, \n",
    "                 hidden_dim : int , \n",
    "                 num_layers : int , \n",
    "                 output_dim : int,\n",
    "                 activation : callable = lambda x : x \n",
    "                ):\n",
    "        super(LSTM, self).__init__()\n",
    "        self.hidden_dim = hidden_dim\n",
    "        self.num_layers = num_layers\n",
    "        \n",
    "        self.lstm = nn.LSTM(\n",
    "            input_dim, \n",
    "            hidden_dim, \n",
    "            num_layers, \n",
    "            batch_first=True,\n",
    "        )\n",
    "\n",
    "        self.activation = activation\n",
    "\n",
    "        self.fc = nn.Linear(hidden_dim, output_dim)\n",
    "\n",
    "    def forward(self, \n",
    "                x: torch.Tensor):\n",
    "        h0 = torch.zeros(self.num_layers, x.size(0), self.hidden_dim).requires_grad_()\n",
    "        c0 = torch.zeros(self.num_layers, x.size(0), self.hidden_dim).requires_grad_()\n",
    "        out, (hn, cn) = self.lstm(x, (h0.detach(), c0.detach()))\n",
    "        out = self.activation(out)\n",
    "        out = self.fc(out[:, -1, :]) \n",
    "        return out"
   ]
  },
  {
   "cell_type": "code",
   "execution_count": 48,
   "metadata": {},
   "outputs": [],
   "source": [
    "class GRU(nn.Module):\n",
    "    def __init__(self, \n",
    "                 input_dim : int, \n",
    "                 hidden_dim : int, \n",
    "                 num_layers : int, \n",
    "                 output_dim : int\n",
    "                ):\n",
    "        super(GRU, self).__init__()\n",
    "        self.hidden_dim = hidden_dim\n",
    "        self.num_layers = num_layers\n",
    "        \n",
    "        self.gru = nn.GRU(\n",
    "            input_dim, \n",
    "            hidden_dim, \n",
    "            num_layers, \n",
    "            batch_first=True,\n",
    "        )\n",
    "        self.fc = nn.Linear(hidden_dim, output_dim)\n",
    "\n",
    "    def forward(self, x):\n",
    "        h0 = torch.zeros(self.num_layers, x.size(0), self.hidden_dim).requires_grad_()\n",
    "        out, (hn) = self.gru(x, (h0.detach()))\n",
    "        out = self.fc(out[:, -1, :]) \n",
    "        return out\n"
   ]
  },
  {
   "cell_type": "markdown",
   "metadata": {},
   "source": [
    "## Neural network training"
   ]
  },
  {
   "cell_type": "code",
   "execution_count": 49,
   "metadata": {},
   "outputs": [],
   "source": [
    "# lookback = 100\n",
    "input_dim = 1\n",
    "hidden_dim = 3\n",
    "num_layers = 1\n",
    "output_dim = 1\n",
    "num_epochs = 100"
   ]
  },
  {
   "cell_type": "code",
   "execution_count": 50,
   "metadata": {},
   "outputs": [],
   "source": [
    "model = GRU(\n",
    "    input_dim,\n",
    "    hidden_dim,\n",
    "    num_layers,\n",
    "    output_dim,\n",
    ")"
   ]
  },
  {
   "cell_type": "code",
   "execution_count": 51,
   "metadata": {},
   "outputs": [
    {
     "data": {
      "text/plain": [
       "<All keys matched successfully>"
      ]
     },
     "execution_count": 51,
     "metadata": {},
     "output_type": "execute_result"
    }
   ],
   "source": [
    "model.load_state_dict(torch.load(\"data/models/GRU_sentiment_100_epoch.pt\"))"
   ]
  },
  {
   "cell_type": "markdown",
   "metadata": {},
   "source": []
  },
  {
   "cell_type": "code",
   "execution_count": 28,
   "metadata": {},
   "outputs": [
    {
     "data": {
      "text/plain": [
       "58"
      ]
     },
     "execution_count": 28,
     "metadata": {},
     "output_type": "execute_result"
    }
   ],
   "source": [
    "treinable_params = sum(p.numel() for p in model.parameters() if p.requires_grad)\n",
    "treinable_params"
   ]
  },
  {
   "cell_type": "code",
   "execution_count": 29,
   "metadata": {},
   "outputs": [],
   "source": [
    "loss_fn = torch.nn.MSELoss()\n",
    "optimiser = torch.optim.Adam(model.parameters(), lr=0.05)"
   ]
  },
  {
   "cell_type": "code",
   "execution_count": 176,
   "metadata": {},
   "outputs": [
    {
     "name": "stderr",
     "output_type": "stream",
     "text": [
      "  0%|          | 0/100 [00:00<?, ?it/s]"
     ]
    },
    {
     "name": "stderr",
     "output_type": "stream",
     "text": [
      "100%|██████████| 100/100 [00:40<00:00,  2.46it/s]\n"
     ]
    }
   ],
   "source": [
    "# hist = np.zeros(num_epochs)\n",
    "\n",
    "train_error = []\n",
    "val_error = []\n",
    "for t in tqdm(range(num_epochs)):\n",
    "    epoch_error_train = []\n",
    "    epoch_error_val = []\n",
    "    for X, y in (dataloader):\n",
    "        y_train_pred = model(X)\n",
    "\n",
    "        loss = loss_fn(y_train_pred, y)\n",
    "        \n",
    "        epoch_error_train.append(loss.item())\n",
    "        optimiser.zero_grad()\n",
    "        loss.backward()\n",
    "        optimiser.step()\n",
    "\n",
    "    with torch.no_grad():\n",
    "        y_test_pred = model(X_test_tensor)\n",
    "\n",
    "        loss = loss_fn(y_test_pred, y_test_tensor)\n",
    "\n",
    "        epoch_error_val.append(loss.item())\n",
    "\n",
    "    \n",
    "    train_error.append(np.mean(epoch_error_train))\n",
    "    val_error.append(np.mean(epoch_error_val))\n",
    "\n",
    "        # print(f\"Epoch {t+1} error : {np.mean(epoch_accuracy)}\")\n"
   ]
  },
  {
   "cell_type": "code",
   "execution_count": 52,
   "metadata": {},
   "outputs": [],
   "source": [
    "y_pred_test = model(X_test_tensor)\\\n",
    "    .detach()\\\n",
    "    .numpy()\n",
    "\n",
    "y_pred_train = model(X_train_tensor)\\\n",
    "    .detach()\\\n",
    "    .numpy()"
   ]
  },
  {
   "cell_type": "code",
   "execution_count": 53,
   "metadata": {},
   "outputs": [
    {
     "data": {
      "text/plain": [
       "(3470,)"
      ]
     },
     "execution_count": 53,
     "metadata": {},
     "output_type": "execute_result"
    }
   ],
   "source": [
    "y_pred_test.reshape(-1).shape"
   ]
  },
  {
   "cell_type": "code",
   "execution_count": 54,
   "metadata": {},
   "outputs": [],
   "source": [
    "y_pred_test = pd.Series(\n",
    "    y_pred_test\\\n",
    "        .reshape(-1),\n",
    "    name = \"price\",\n",
    "    index = y_test.index      \n",
    ")\n",
    "\n",
    "y_pred_train = pd.Series(\n",
    "    y_pred_train\\\n",
    "        .reshape(-1),\n",
    "    name = \"price\",\n",
    "    index = y_train.index      \n",
    ")\n"
   ]
  },
  {
   "cell_type": "code",
   "execution_count": 55,
   "metadata": {},
   "outputs": [],
   "source": [
    "company_train = y_pred_train\\\n",
    "    .index\\\n",
    "    .get_level_values(\"ticker\") == \"AAPL\"\n",
    "\n",
    "\n",
    "company_test = y_pred_test\\\n",
    "    .index\\\n",
    "    .get_level_values(\"ticker\") == \"AAPL\""
   ]
  },
  {
   "cell_type": "code",
   "execution_count": 56,
   "metadata": {},
   "outputs": [
    {
     "data": {
      "text/plain": [
       "<matplotlib.legend.Legend at 0x7f980e2147c0>"
      ]
     },
     "execution_count": 56,
     "metadata": {},
     "output_type": "execute_result"
    },
    {
     "data": {
      "image/png": "[encoded data removed]",
      "text/plain": [
       "<Figure size 640x480 with 1 Axes>"
      ]
     },
     "metadata": {},
     "output_type": "display_data"
    }
   ],
   "source": [
    "y_pred_test[company_test]\\\n",
    "    .reset_index(level=1)\\\n",
    "    [\"price\"]\\\n",
    "    .plot(\n",
    "        label = \"predicted price\"\n",
    "    )\n",
    "\n",
    "y_test[company_test]\\\n",
    "    .reset_index(level=1)\\\n",
    "    [\"price\"]\\\n",
    "    .plot(\n",
    "        label = \"real price\"\n",
    "    )\n",
    "\n",
    "# y_test[(y_pred_test.pct_change() < 0 ) & (y_test.index.get_level_values(\"ticker\") == \"AAPL\")]\\\n",
    "#     .reset_index(level= \"ticker\")\\\n",
    "#     [\"price\"]\\\n",
    "#     .plot(\n",
    "#         label = \"buy\",\n",
    "#         marker = \"^\",\n",
    "#         linestyle = \"None\",\n",
    "#         color = \"green\"\n",
    "#     )\n",
    "\n",
    "# y_test[(y_pred_test.pct_change()>0 ) & (y_test.index.get_level_values(\"ticker\") == \"AAPL\")]\\\n",
    "#     .reset_index(level= \"ticker\")\\\n",
    "#     [\"price\"]\\\n",
    "#     .plot(\n",
    "#         label = \"sell\",\n",
    "#         marker = \"^\",\n",
    "#         linestyle = \"None\",\n",
    "#         color = \"red\"\n",
    "#     )\n",
    "\n",
    "plt.legend()"
   ]
  },
  {
   "cell_type": "code",
   "execution_count": null,
   "metadata": {},
   "outputs": [],
   "source": []
  },
  {
   "cell_type": "code",
   "execution_count": 57,
   "metadata": {},
   "outputs": [
    {
     "data": {
      "text/plain": [
       "<matplotlib.legend.Legend at 0x7f980df8c5e0>"
      ]
     },
     "execution_count": 57,
     "metadata": {},
     "output_type": "execute_result"
    },
    {
     "data": {
      "image/png": "[encoded data removed]",
      "text/plain": [
       "<Figure size 640x480 with 1 Axes>"
      ]
     },
     "metadata": {},
     "output_type": "display_data"
    }
   ],
   "source": [
    "# plt.figure(figsize = (16,10))\n",
    "\n",
    "y_pred_train[company_train]\\\n",
    "    .reset_index(level= \"ticker\")\\\n",
    "    [\"price\"]\\\n",
    "    .plot(\n",
    "        label = \"predicted price\",\n",
    "        # color = \"blue\"\n",
    "    )\n",
    "\n",
    "y_train[company_train]\\\n",
    "    .reset_index(level= \"ticker\")\\\n",
    "    [\"price\"]\\\n",
    "    .plot(\n",
    "        label = \"real price\",\n",
    "        # color = \"blue\"\n",
    "    )\n",
    "\n",
    "\n",
    "\n",
    "\n",
    "plt.legend()"
   ]
  },
  {
   "cell_type": "markdown",
   "metadata": {},
   "source": [
    "## Creating signal"
   ]
  },
  {
   "cell_type": "markdown",
   "metadata": {},
   "source": [
    "## PnL"
   ]
  },
  {
   "cell_type": "code",
   "execution_count": 58,
   "metadata": {},
   "outputs": [
    {
     "data": {
      "text/plain": [
       "array([False, False, False, ...,  True,  True,  True])"
      ]
     },
     "execution_count": 58,
     "metadata": {},
     "output_type": "execute_result"
    }
   ],
   "source": [
    "y_pred_test.index.get_level_values(\"Date\") > \"2023\""
   ]
  },
  {
   "cell_type": "code",
   "execution_count": 71,
   "metadata": {},
   "outputs": [],
   "source": [
    "mask = positions.rolling(2)\\\n",
    "    .sum() == 0"
   ]
  },
  {
   "cell_type": "code",
   "execution_count": 72,
   "metadata": {},
   "outputs": [],
   "source": [
    "trades = positions[mask]"
   ]
  },
  {
   "cell_type": "code",
   "execution_count": 73,
   "metadata": {},
   "outputs": [
    {
     "data": {
      "text/plain": [
       "Date        ticker\n",
       "2020-01-28  NVDA      1.0\n",
       "2020-01-29  NVDA     -1.0\n",
       "2020-01-30  NVDA      1.0\n",
       "2020-02-05  NVDA     -1.0\n",
       "2020-02-24  NVDA      1.0\n",
       "                     ... \n",
       "2022-03-11  NVDA      1.0\n",
       "2022-03-16  NVDA     -1.0\n",
       "2022-03-24  NVDA      1.0\n",
       "2022-03-25  NVDA     -1.0\n",
       "2022-03-31  NVDA      1.0\n",
       "Name: position, Length: 181, dtype: float64"
      ]
     },
     "execution_count": 73,
     "metadata": {},
     "output_type": "execute_result"
    }
   ],
   "source": [
    "trades"
   ]
  },
  {
   "cell_type": "code",
   "execution_count": 270,
   "metadata": {},
   "outputs": [
    {
     "name": "stderr",
     "output_type": "stream",
     "text": [
      "  0%|          | 0/10 [00:00<?, ?it/s]"
     ]
    },
    {
     "name": "stderr",
     "output_type": "stream",
     "text": [
      "100%|██████████| 10/10 [00:00<00:00, 167.09it/s]\n"
     ]
    }
   ],
   "source": [
    "num_trades = {}\n",
    "\n",
    "period = \"train\"\n",
    "fees = 5e-4\n",
    "\n",
    "pnls = {}\n",
    "\n",
    "for ticker in tqdm(universe):\n",
    "    if ticker not in [\"AMZN\", \"GOOGL\", \"AAPL\", \"MSFT\", \"FB\"]:\n",
    "        continue\n",
    "    company_train = y_pred_train\\\n",
    "        .index\\\n",
    "        .get_level_values(\"ticker\") == ticker\n",
    "\n",
    "\n",
    "    company_test = y_pred_test\\\n",
    "        .index\\\n",
    "        .get_level_values(\"ticker\") == ticker\n",
    "\n",
    "    assert period in [\"train\", \"val\", \"test\", \"full_period\"], \"period must be one of train, val, test, full_period\"\n",
    "    \n",
    "    if period == \"train\":\n",
    "        y_company = y_train[company_train]\\\n",
    "            .sort_index(level = \"Date\")\n",
    "        y_pred_company = y_pred_train[company_train]\\\n",
    "            .sort_index(level = \"Date\")\n",
    "\n",
    "    elif period == \"full_period\":\n",
    "        y_company = pd.concat([\n",
    "            y_train[company_train], \n",
    "            y_test[company_test]\n",
    "        ])\n",
    "        y_pred_company = pd.concat([\n",
    "            y_pred_train[company_train],\n",
    "            y_pred_test[company_test]\n",
    "        ])\n",
    "        \n",
    "    else: \n",
    "        y_company = y_test[company_test]\n",
    "        y_pred_company = y_pred_test[company_test]\n",
    "\n",
    "        if period == \"val\":\n",
    "            idx = y_company\\\n",
    "            .index\\\n",
    "            .get_level_values(\"Date\") < \"2023\"\n",
    "        \n",
    "            y_company = y_company[idx]\n",
    "            y_pred_company = y_pred_company[idx]\n",
    "\n",
    "        else: # period == \"test\"\n",
    "            idx = y_company\\\n",
    "            .index\\\n",
    "            .get_level_values(\"Date\") > \"2023\"\n",
    "        \n",
    "            y_company = y_company[idx]\n",
    "            y_pred_company = y_pred_company[idx]\n",
    "        \n",
    "\n",
    "    avg_price = y_pred_company\\\n",
    "        .pct_change()\\\n",
    "        .rolling(20)\\\n",
    "        .mean()\n",
    "\n",
    "    std_price = y_pred_company\\\n",
    "        .pct_change()\\\n",
    "        .rolling(20)\\\n",
    "        .std()\n",
    "    \n",
    "    zscore = (y_pred_company.pct_change() - avg_price)/std_price\n",
    "\n",
    "    positions = pd.Series(\n",
    "        np.nan,\n",
    "        index = y_pred_company.index,\n",
    "        name = \"position\"\n",
    "    )\n",
    "    \n",
    "    positions.loc[y_pred_company.pct_change() < 0]  = 1\n",
    "    positions.loc[y_pred_company.pct_change() > 0] = -1 \n",
    "\n",
    "\n",
    "    positions = positions\\\n",
    "        .fillna(0)\n",
    "    \n",
    "    num_long = (positions == 1).sum()/positions.shape[0]\n",
    "    num_short = (positions == -1).sum()/positions.shape[0]\n",
    "    mask = positions.rolling(2)\\\n",
    "        .sum() == 0\n",
    "    trades = positions[mask]\n",
    "\n",
    "\n",
    "    num_trades[ticker] = {\n",
    "        \"num_long\" : num_long,\n",
    "        \"num_short\" : num_short,\n",
    "        \"n_trades\": trades.shape[0],\n",
    "        \"n_days\" : positions.shape[0]\n",
    "    }\n",
    "    \n",
    "    positions_df = pd.concat([y_company, positions], axis = 1)\n",
    "\n",
    "    positions_df = positions_df\\\n",
    "        .reset_index(level = \"ticker\")\n",
    "\n",
    "    pnl = pd.Series(\n",
    "        0,\n",
    "        index = positions_df.index,\n",
    "        name = \"pnl\"\n",
    "    )\n",
    "\n",
    "    last_buy_price = np.nan\n",
    "    cash = 0\n",
    "    position = 0 \n",
    "\n",
    "    returns = positions_df[\"price\"]\\\n",
    "        .pct_change() * positions_df[\"position\"].shift(1)\n",
    "    # for date, row in positions_df.iterrows():\n",
    "    #     first_trade = np.isnan(last_buy_price) and row[\"position\"] != 0 \n",
    "    #     has_position = not np.isnan(last_buy_price) and position != 0\n",
    "    #     changing_position = has_position and row[\"position\"] != position\n",
    "    #     holding_position = has_position and row[\"position\"] == position\n",
    "\n",
    "    #     if (first_trade):\n",
    "    #         last_buy_price = row[\"price\"] * (1 + fees * position)\n",
    "    #         position = row[\"position\"]\n",
    "\n",
    "    #     if (changing_position):\n",
    "    #         cash += (row[\"price\"] / last_buy_price - 1 )*position\n",
    "    #         # last_buy_price = np.nan\n",
    "    #         position = row[\"position\"]\n",
    "            \n",
    "    #         if (position == 0):\n",
    "    #             last_buy_price = np.nan\n",
    "    #         else:\n",
    "    #             last_buy_price = row[\"price\"] * (1 + fees * position)\n",
    "\n",
    "    #     if holding_position:\n",
    "    #         pnl.loc[date] = (row[\"price\"]- last_buy_price)/last_buy_price * position + cash\n",
    "\n",
    "    #     else:\n",
    "    #         pnl.loc[date] = cash\n",
    "\n",
    "    # if row[\"position\"] != 0:\n",
    "    #     cash += (row[\"price\"]- last_buy_price)/last_buy_price * position\n",
    "\n",
    "    #     pnl.loc[date] = cash\n",
    "\n",
    "    # returns = pnl.diff()\n",
    "\n",
    "    pnls[ticker] = returns\n",
    "        "
   ]
  },
  {
   "cell_type": "code",
   "execution_count": 271,
   "metadata": {},
   "outputs": [],
   "source": [
    "info = pd.DataFrame(num_trades).T"
   ]
  },
  {
   "cell_type": "code",
   "execution_count": 272,
   "metadata": {},
   "outputs": [
    {
     "data": {
      "text/plain": [
       "AMZN     7.656172\n",
       "AAPL     7.656172\n",
       "MSFT     7.656172\n",
       "FB       7.656172\n",
       "GOOGL    7.656172\n",
       "Name: n_days, dtype: float64"
      ]
     },
     "execution_count": 272,
     "metadata": {},
     "output_type": "execute_result"
    }
   ],
   "source": [
    "info.n_trades.mean()/info.n_days * 21"
   ]
  },
  {
   "cell_type": "code",
   "execution_count": 273,
   "metadata": {},
   "outputs": [
    {
     "data": {
      "text/html": [
       "<div>\n",
       "<style scoped>\n",
       "    .dataframe tbody tr th:only-of-type {\n",
       "        vertical-align: middle;\n",
       "    }\n",
       "\n",
       "    .dataframe tbody tr th {\n",
       "        vertical-align: top;\n",
       "    }\n",
       "\n",
       "    .dataframe thead th {\n",
       "        text-align: right;\n",
       "    }\n",
       "</style>\n",
       "<table border=\"1\" class=\"dataframe\">\n",
       "  <thead>\n",
       "    <tr style=\"text-align: right;\">\n",
       "      <th></th>\n",
       "      <th>num_long</th>\n",
       "      <th>num_short</th>\n",
       "      <th>n_trades</th>\n",
       "      <th>n_days</th>\n",
       "    </tr>\n",
       "  </thead>\n",
       "  <tbody>\n",
       "    <tr>\n",
       "      <th>AMZN</th>\n",
       "      <td>0.450805</td>\n",
       "      <td>0.547406</td>\n",
       "      <td>194.0</td>\n",
       "      <td>559.0</td>\n",
       "    </tr>\n",
       "    <tr>\n",
       "      <th>AAPL</th>\n",
       "      <td>0.370304</td>\n",
       "      <td>0.627907</td>\n",
       "      <td>174.0</td>\n",
       "      <td>559.0</td>\n",
       "    </tr>\n",
       "    <tr>\n",
       "      <th>MSFT</th>\n",
       "      <td>0.398927</td>\n",
       "      <td>0.599284</td>\n",
       "      <td>232.0</td>\n",
       "      <td>559.0</td>\n",
       "    </tr>\n",
       "    <tr>\n",
       "      <th>FB</th>\n",
       "      <td>0.447227</td>\n",
       "      <td>0.550984</td>\n",
       "      <td>237.0</td>\n",
       "      <td>559.0</td>\n",
       "    </tr>\n",
       "    <tr>\n",
       "      <th>GOOGL</th>\n",
       "      <td>0.379249</td>\n",
       "      <td>0.618962</td>\n",
       "      <td>182.0</td>\n",
       "      <td>559.0</td>\n",
       "    </tr>\n",
       "  </tbody>\n",
       "</table>\n",
       "</div>"
      ],
      "text/plain": [
       "       num_long  num_short  n_trades  n_days\n",
       "AMZN   0.450805   0.547406     194.0   559.0\n",
       "AAPL   0.370304   0.627907     174.0   559.0\n",
       "MSFT   0.398927   0.599284     232.0   559.0\n",
       "FB     0.447227   0.550984     237.0   559.0\n",
       "GOOGL  0.379249   0.618962     182.0   559.0"
      ]
     },
     "execution_count": 273,
     "metadata": {},
     "output_type": "execute_result"
    }
   ],
   "source": [
    "info"
   ]
  },
  {
   "cell_type": "code",
   "execution_count": 274,
   "metadata": {},
   "outputs": [
    {
     "data": {
      "text/plain": [
       "0.37924865831842575"
      ]
     },
     "execution_count": 274,
     "metadata": {},
     "output_type": "execute_result"
    }
   ],
   "source": [
    "(positions == 1).sum()/positions.shape[0]"
   ]
  },
  {
   "cell_type": "code",
   "execution_count": 275,
   "metadata": {},
   "outputs": [],
   "source": [
    "# torch.save(model.state_dict(), \"data/models/GRU_sentiment_100_epoch.pt\")"
   ]
  },
  {
   "cell_type": "code",
   "execution_count": 276,
   "metadata": {},
   "outputs": [
    {
     "data": {
      "image/png": "[encoded data removed]",
      "text/plain": [
       "<Figure size 640x480 with 1 Axes>"
      ]
     },
     "metadata": {},
     "output_type": "display_data"
    }
   ],
   "source": [
    "pnl_total = pd.Series(\n",
    "    0,\n",
    "    index = pnls[\"AAPL\"].index\n",
    ")\n",
    "for k, pnl in pnls.items():\n",
    "    # if k == \"ADBE\" or k == \"ORCL\":\n",
    "    #     continue\n",
    "\n",
    "    if k not in [\"AAPL\", \"GOOGL\", \"FB\", \"AMZN\", \"MSFT\"]:\n",
    "        continue\n",
    "\n",
    "    # if k != \"NVDA\":\n",
    "        # continue\n",
    "\n",
    "    pnl.add(1).cumprod().plot(\n",
    "        label = k\n",
    "    )\n",
    "\n",
    "\n",
    "    pnl_total += pnl\n",
    "\n",
    "# (pnl_total).add(1).cumprod().plot(\n",
    "#     label = \"total\",\n",
    "# )\n",
    "\n",
    "plt.hlines(\n",
    "    y = 1,\n",
    "    xmin= pnl_total.index[0],\n",
    "    xmax = pnl_total.index[-1],\n",
    "    colors= \"black\",\n",
    "    linestyles= \"dashed\"\n",
    ")\n",
    "\n",
    "plt.title(\"PnL for big tech companies\")\n",
    "plt.legend()\n",
    "\n",
    "plt.savefig(f\"img/strategy_total_{period}.png\", bbox_inches = \"tight\" )\n",
    "\n"
   ]
  },
  {
   "cell_type": "code",
   "execution_count": 277,
   "metadata": {},
   "outputs": [
    {
     "data": {
      "image/png": "[encoded data removed]",
      "text/plain": [
       "<Figure size 640x480 with 1 Axes>"
      ]
     },
     "metadata": {},
     "output_type": "display_data"
    }
   ],
   "source": [
    "plt.title(\"Strategy PNL\")\n",
    "\n",
    "pnl_total\\\n",
    "    .add(1)\\\n",
    "    .cumprod()\\\n",
    "    .plot(\n",
    "        label = \"Strategy PNL\"\n",
    "    )\n",
    "\n",
    "plt.hlines(\n",
    "    y = 1,\n",
    "    xmin= pnl_total.index[0],\n",
    "    xmax = pnl_total.index[-1],\n",
    "    colors= \"black\",\n",
    "    linestyles= \"dashed\"\n",
    ")\n",
    "\n",
    "plt.vlines(\n",
    "    x = pd.to_datetime(\"2022-04\"),\n",
    "    ymin = 0.9,\n",
    "    ymax = 2.6,\n",
    "    colors= \"red\",\n",
    "    linestyles= \"dashed\",\n",
    "    label = \"train - validation\"\n",
    ")\n",
    "\n",
    "plt.vlines(\n",
    "    x = pd.to_datetime('2023-01'),\n",
    "    ymin = 0.9,\n",
    "    ymax = 2.6,\n",
    "    colors= \"green\",\n",
    "    linestyles= \"dashed\",\n",
    "    label = \"validation - test\"\n",
    ")\n",
    "\n",
    "plt.legend()\n",
    "plt.savefig(f\"img/strategy_{period}.png\", bbox_inches = \"tight\")\n",
    "\n"
   ]
  },
  {
   "cell_type": "code",
   "execution_count": 278,
   "metadata": {},
   "outputs": [
    {
     "data": {
      "text/plain": [
       "1.118060550974645"
      ]
     },
     "execution_count": 278,
     "metadata": {},
     "output_type": "execute_result"
    }
   ],
   "source": [
    "(pnl_total.mean())/pnl_total.std() * np.sqrt(252)"
   ]
  },
  {
   "cell_type": "markdown",
   "metadata": {},
   "source": [
    "## Correlation with tech index"
   ]
  },
  {
   "cell_type": "code",
   "execution_count": 279,
   "metadata": {},
   "outputs": [
    {
     "name": "stdout",
     "output_type": "stream",
     "text": [
      "[*********************100%***********************]  1 of 1 completed\n"
     ]
    }
   ],
   "source": [
    "prices_df = yf.download(\n",
    "    tickers= \"SPG\",\n",
    "    start=\"2019-12-30\",\n",
    "    end=\"2023-12-30\",\n",
    ")"
   ]
  },
  {
   "cell_type": "code",
   "execution_count": 280,
   "metadata": {},
   "outputs": [],
   "source": [
    "returns_etf = prices_df[\"Close\"]\\\n",
    "    .pct_change()\\\n",
    "    .reindex(index= pnl_total.index)"
   ]
  },
  {
   "cell_type": "code",
   "execution_count": 281,
   "metadata": {},
   "outputs": [
    {
     "data": {
      "text/plain": [
       "0.0006962585800040753"
      ]
     },
     "execution_count": 281,
     "metadata": {},
     "output_type": "execute_result"
    }
   ],
   "source": [
    "returns_etf.mean()"
   ]
  },
  {
   "cell_type": "code",
   "execution_count": 282,
   "metadata": {},
   "outputs": [
    {
     "data": {
      "text/plain": [
       "-1.0334732713370163e-05"
      ]
     },
     "execution_count": 282,
     "metadata": {},
     "output_type": "execute_result"
    }
   ],
   "source": [
    "pnl_total.diff().mean()"
   ]
  },
  {
   "cell_type": "code",
   "execution_count": 283,
   "metadata": {},
   "outputs": [
    {
     "data": {
      "text/plain": [
       "0.4719591380610366"
      ]
     },
     "execution_count": 283,
     "metadata": {},
     "output_type": "execute_result"
    }
   ],
   "source": [
    "(pnl_total - returns_etf).mean() / pnl_total.std() * np.sqrt(252)"
   ]
  },
  {
   "cell_type": "code",
   "execution_count": null,
   "metadata": {},
   "outputs": [],
   "source": []
  },
  {
   "cell_type": "code",
   "execution_count": 284,
   "metadata": {},
   "outputs": [],
   "source": [
    "scaler = MinMaxScaler((0,1))\n",
    "prices_close = scaler.fit_transform(prices_df[[\"Close\"]])\n",
    "# normalized_pnl = scaler.fit_transform(pd.DataFrame(pnl_total))"
   ]
  },
  {
   "cell_type": "code",
   "execution_count": 285,
   "metadata": {},
   "outputs": [
    {
     "data": {
      "text/plain": [
       "<Axes: xlabel='Date'>"
      ]
     },
     "execution_count": 285,
     "metadata": {},
     "output_type": "execute_result"
    },
    {
     "data": {
      "image/png": "[encoded data removed]",
      "text/plain": [
       "<Figure size 640x480 with 1 Axes>"
      ]
     },
     "metadata": {},
     "output_type": "display_data"
    }
   ],
   "source": [
    "pd.Series(\n",
    "    prices_close.reshape(-1),\n",
    "    index = prices_df.index\n",
    ").plot()\n",
    "pnl_total.plot()"
   ]
  },
  {
   "cell_type": "markdown",
   "metadata": {},
   "source": [
    "## Hypothesis test"
   ]
  },
  {
   "cell_type": "code",
   "execution_count": 300,
   "metadata": {},
   "outputs": [],
   "source": [
    "from scipy.stats import norm"
   ]
  },
  {
   "cell_type": "code",
   "execution_count": 363,
   "metadata": {},
   "outputs": [
    {
     "name": "stderr",
     "output_type": "stream",
     "text": [
      "100%|██████████| 10/10 [00:00<00:00, 102.98it/s]\n"
     ]
    }
   ],
   "source": [
    "num_trades = {}\n",
    "\n",
    "period = \"full_period\"\n",
    "fees = 0\n",
    "\n",
    "pnls = {}\n",
    "\n",
    "for ticker in tqdm(universe):\n",
    "    if ticker not in [\"AMZN\", \"GOOGL\", \"AAPL\", \"MSFT\", \"FB\"]:\n",
    "        continue\n",
    "    company_train = y_pred_train\\\n",
    "        .index\\\n",
    "        .get_level_values(\"ticker\") == ticker\n",
    "\n",
    "\n",
    "    company_test = y_pred_test\\\n",
    "        .index\\\n",
    "        .get_level_values(\"ticker\") == ticker\n",
    "\n",
    "    assert period in [\"train\", \"val\", \"test\", \"full_period\"], \"period must be one of train, val, test, full_period\"\n",
    "    \n",
    "    if period == \"train\":\n",
    "        y_company = y_train[company_train]\\\n",
    "            .sort_index(level = \"Date\")\n",
    "        y_pred_company = y_pred_train[company_train]\\\n",
    "            .sort_index(level = \"Date\")\n",
    "\n",
    "    elif period == \"full_period\":\n",
    "        y_company = pd.concat([\n",
    "            y_train[company_train], \n",
    "            y_test[company_test]\n",
    "        ])\n",
    "        y_pred_company = pd.concat([\n",
    "            y_pred_train[company_train],\n",
    "            y_pred_test[company_test]\n",
    "        ])\n",
    "        \n",
    "    else: \n",
    "        y_company = y_test[company_test]\n",
    "        y_pred_company = y_pred_test[company_test]\n",
    "\n",
    "        if period == \"val\":\n",
    "            idx = y_company\\\n",
    "            .index\\\n",
    "            .get_level_values(\"Date\") < \"2023\"\n",
    "        \n",
    "            y_company = y_company[idx]\n",
    "            y_pred_company = y_pred_company[idx]\n",
    "\n",
    "        else: # period == \"test\"\n",
    "            idx = y_company\\\n",
    "            .index\\\n",
    "            .get_level_values(\"Date\") > \"2023\"\n",
    "        \n",
    "            y_company = y_company[idx]\n",
    "            y_pred_company = y_pred_company[idx]\n",
    "        \n",
    "\n",
    "    avg_price = y_pred_company\\\n",
    "        .pct_change()\\\n",
    "        .rolling(20)\\\n",
    "        .mean()\n",
    "\n",
    "    std_price = y_pred_company\\\n",
    "        .pct_change()\\\n",
    "        .rolling(20)\\\n",
    "        .std()\n",
    "    \n",
    "    zscore = (y_pred_company.pct_change() - avg_price)/std_price\n",
    "\n",
    "    positions = pd.Series(\n",
    "        np.nan,\n",
    "        index = y_pred_company.index,\n",
    "        name = \"position\"\n",
    "    )\n",
    "    \n",
    "    positions.loc[y_pred_company.pct_change() < 0]  = 1\n",
    "    positions.loc[y_pred_company.pct_change() > 0] = -1 \n",
    "\n",
    "\n",
    "    positions = positions\\\n",
    "        .fillna(0)\n",
    "    \n",
    "    num_long = (positions == 1).sum()/positions.shape[0]\n",
    "    num_short = (positions == -1).sum()/positions.shape[0]\n",
    "    mask = positions.rolling(2)\\\n",
    "        .sum() == 0\n",
    "    trades = positions[mask]\n",
    "\n",
    "\n",
    "    num_trades[ticker] = {\n",
    "        \"num_long\" : num_long,\n",
    "        \"num_short\" : num_short,\n",
    "        \"n_trades\": trades.shape[0],\n",
    "        \"n_days\" : positions.shape[0]\n",
    "    }\n",
    "    \n",
    "    positions_df = pd.concat([y_company, positions], axis = 1)\n",
    "\n",
    "    positions_df = positions_df\\\n",
    "        .reset_index(level = \"ticker\")\n",
    "\n",
    "    pnl = pd.Series(\n",
    "        0,\n",
    "        index = positions_df.index,\n",
    "        name = \"pnl\"\n",
    "    )\n",
    "\n",
    "    last_buy_price = np.nan\n",
    "    cash = 0\n",
    "    position = 0 \n",
    "\n",
    "    returns = positions_df[\"price\"]\\\n",
    "        .pct_change() * positions_df[\"position\"].shift(1)\n",
    "    # for date, row in positions_df.iterrows():\n",
    "    #     first_trade = np.isnan(last_buy_price) and row[\"position\"] != 0 \n",
    "    #     has_position = not np.isnan(last_buy_price) and position != 0\n",
    "    #     changing_position = has_position and row[\"position\"] != position\n",
    "    #     holding_position = has_position and row[\"position\"] == position\n",
    "\n",
    "    #     if (first_trade):\n",
    "    #         last_buy_price = row[\"price\"] * (1 + fees * position)\n",
    "    #         position = row[\"position\"]\n",
    "\n",
    "    #     if (changing_position):\n",
    "    #         cash += (row[\"price\"] / last_buy_price - 1 )*position\n",
    "    #         # last_buy_price = np.nan\n",
    "    #         position = row[\"position\"]\n",
    "            \n",
    "    #         if (position == 0):\n",
    "    #             last_buy_price = np.nan\n",
    "    #         else:\n",
    "    #             last_buy_price = row[\"price\"] * (1 + fees * position)\n",
    "\n",
    "    #     if holding_position:\n",
    "    #         pnl.loc[date] = (row[\"price\"]- last_buy_price)/last_buy_price * position + cash\n",
    "\n",
    "    #     else:\n",
    "    #         pnl.loc[date] = cash\n",
    "\n",
    "    # if row[\"position\"] != 0:\n",
    "    #     cash += (row[\"price\"]- last_buy_price)/last_buy_price * position\n",
    "\n",
    "    #     pnl.loc[date] = cash\n",
    "\n",
    "    # returns = pnl.diff()\n",
    "\n",
    "    pnls[ticker] = returns"
   ]
  },
  {
   "cell_type": "code",
   "execution_count": 364,
   "metadata": {},
   "outputs": [],
   "source": [
    "pnl_total = pd.Series(\n",
    "    0,\n",
    "    index = pnls[\"AAPL\"].index\n",
    ")\n",
    "for k, pnl in pnls.items():\n",
    "\n",
    "    if k not in [\"AAPL\", \"GOOGL\", \"FB\", \"AMZN\", \"MSFT\"]:\n",
    "        continue\n",
    "\n",
    "\n",
    "\n",
    "    pnl_total += pnl"
   ]
  },
  {
   "cell_type": "code",
   "execution_count": 365,
   "metadata": {},
   "outputs": [],
   "source": [
    "sr = pnl_total.mean() / pnl_total.std()"
   ]
  },
  {
   "cell_type": "code",
   "execution_count": 366,
   "metadata": {},
   "outputs": [
    {
     "data": {
      "text/plain": [
       "0.0733944699515983"
      ]
     },
     "execution_count": 366,
     "metadata": {},
     "output_type": "execute_result"
    }
   ],
   "source": [
    "sr"
   ]
  },
  {
   "cell_type": "code",
   "execution_count": 367,
   "metadata": {},
   "outputs": [],
   "source": [
    "T = len(pnl_total)\n",
    "\n",
    "gamma_3 = pnl_total.skew()\n",
    "gamma_4 = pnl_total.kurtosis()\n",
    "\n",
    "denominator =  1 - gamma_3 * sr + (gamma_4 - 1)/4 * sr**2\n",
    "denominator = np.sqrt(denominator)"
   ]
  },
  {
   "cell_type": "code",
   "execution_count": 372,
   "metadata": {},
   "outputs": [],
   "source": [
    "expected_sr = 0\n",
    "psr = (sr - expected_sr) * np.sqrt(T - 1) / denominator\n",
    "psr = norm.cdf(psr)"
   ]
  },
  {
   "cell_type": "code",
   "execution_count": 371,
   "metadata": {},
   "outputs": [
    {
     "data": {
      "text/plain": [
       "29.22436792928274"
      ]
     },
     "execution_count": 371,
     "metadata": {},
     "output_type": "execute_result"
    }
   ],
   "source": [
    "1- psr"
   ]
  },
  {
   "cell_type": "code",
   "execution_count": null,
   "metadata": {},
   "outputs": [],
   "source": []
  }
 ],
 "metadata": {
  "kernelspec": {
   "display_name": "base",
   "language": "python",
   "name": "python3"
  },
  "language_info": {
   "codemirror_mode": {
    "name": "ipython",
    "version": 3
   },
   "file_extension": ".py",
   "mimetype": "text/x-python",
   "name": "python",
   "nbconvert_exporter": "python",
   "pygments_lexer": "ipython3",
   "version": "3.10.9"
  },
  "orig_nbformat": 4
 },
 "nbformat": 4,
 "nbformat_minor": 2
}

{
 "cells": [
  {
   "cell_type": "code",
   "execution_count": 1,
   "metadata": {},
   "outputs": [],
   "source": [
    "import torch\n",
    "import torch.nn as nn\n",
    "import pandas as pd\n",
    "import numpy as np\n",
    "import yfinance as yf\n",
    "import matplotlib.pyplot as plt\n",
    "from torch.utils.data import DataLoader, Dataset\n",
    "from typing import Union\n",
    "from tqdm import tqdm"
   ]
  },
  {
   "cell_type": "code",
   "execution_count": 2,
   "metadata": {},
   "outputs": [
    {
     "name": "stdout",
     "output_type": "stream",
     "text": [
      "[*********************100%***********************]  1 of 1 completed\n"
     ]
    }
   ],
   "source": [
    "data = yf.download(\n",
    "    tickers= \"AAPL\",\n",
    "    start=\"2009-12-30\",\n",
    "    end=\"2016-12-30\"\n",
    ")"
   ]
  },
  {
   "cell_type": "code",
   "execution_count": 3,
   "metadata": {},
   "outputs": [
    {
     "data": {
      "text/html": [
       "<div>\n",
       "<style scoped>\n",
       "    .dataframe tbody tr th:only-of-type {\n",
       "        vertical-align: middle;\n",
       "    }\n",
       "\n",
       "    .dataframe tbody tr th {\n",
       "        vertical-align: top;\n",
       "    }\n",
       "\n",
       "    .dataframe thead th {\n",
       "        text-align: right;\n",
       "    }\n",
       "</style>\n",
       "<table border=\"1\" class=\"dataframe\">\n",
       "  <thead>\n",
       "    <tr style=\"text-align: right;\">\n",
       "      <th></th>\n",
       "      <th>Open</th>\n",
       "      <th>High</th>\n",
       "      <th>Low</th>\n",
       "      <th>Close</th>\n",
       "      <th>Adj Close</th>\n",
       "      <th>Volume</th>\n",
       "    </tr>\n",
       "    <tr>\n",
       "      <th>Date</th>\n",
       "      <th></th>\n",
       "      <th></th>\n",
       "      <th></th>\n",
       "      <th></th>\n",
       "      <th></th>\n",
       "      <th></th>\n",
       "    </tr>\n",
       "  </thead>\n",
       "  <tbody>\n",
       "    <tr>\n",
       "      <th>2009-12-30 00:00:00-05:00</th>\n",
       "      <td>7.458214</td>\n",
       "      <td>7.571429</td>\n",
       "      <td>7.439643</td>\n",
       "      <td>7.558571</td>\n",
       "      <td>6.415688</td>\n",
       "      <td>412084400</td>\n",
       "    </tr>\n",
       "    <tr>\n",
       "      <th>2009-12-31 00:00:00-05:00</th>\n",
       "      <td>7.611786</td>\n",
       "      <td>7.619643</td>\n",
       "      <td>7.520000</td>\n",
       "      <td>7.526071</td>\n",
       "      <td>6.388103</td>\n",
       "      <td>352410800</td>\n",
       "    </tr>\n",
       "    <tr>\n",
       "      <th>2010-01-04 00:00:00-05:00</th>\n",
       "      <td>7.622500</td>\n",
       "      <td>7.660714</td>\n",
       "      <td>7.585000</td>\n",
       "      <td>7.643214</td>\n",
       "      <td>6.487534</td>\n",
       "      <td>493729600</td>\n",
       "    </tr>\n",
       "    <tr>\n",
       "      <th>2010-01-05 00:00:00-05:00</th>\n",
       "      <td>7.664286</td>\n",
       "      <td>7.699643</td>\n",
       "      <td>7.616071</td>\n",
       "      <td>7.656429</td>\n",
       "      <td>6.498750</td>\n",
       "      <td>601904800</td>\n",
       "    </tr>\n",
       "    <tr>\n",
       "      <th>2010-01-06 00:00:00-05:00</th>\n",
       "      <td>7.656429</td>\n",
       "      <td>7.686786</td>\n",
       "      <td>7.526786</td>\n",
       "      <td>7.534643</td>\n",
       "      <td>6.395380</td>\n",
       "      <td>552160000</td>\n",
       "    </tr>\n",
       "    <tr>\n",
       "      <th>...</th>\n",
       "      <td>...</td>\n",
       "      <td>...</td>\n",
       "      <td>...</td>\n",
       "      <td>...</td>\n",
       "      <td>...</td>\n",
       "      <td>...</td>\n",
       "    </tr>\n",
       "    <tr>\n",
       "      <th>2016-12-22 00:00:00-05:00</th>\n",
       "      <td>29.087500</td>\n",
       "      <td>29.127501</td>\n",
       "      <td>28.910000</td>\n",
       "      <td>29.072500</td>\n",
       "      <td>27.091923</td>\n",
       "      <td>104343600</td>\n",
       "    </tr>\n",
       "    <tr>\n",
       "      <th>2016-12-23 00:00:00-05:00</th>\n",
       "      <td>28.897499</td>\n",
       "      <td>29.129999</td>\n",
       "      <td>28.897499</td>\n",
       "      <td>29.129999</td>\n",
       "      <td>27.145504</td>\n",
       "      <td>56998000</td>\n",
       "    </tr>\n",
       "    <tr>\n",
       "      <th>2016-12-27 00:00:00-05:00</th>\n",
       "      <td>29.129999</td>\n",
       "      <td>29.450001</td>\n",
       "      <td>29.122499</td>\n",
       "      <td>29.315001</td>\n",
       "      <td>27.317904</td>\n",
       "      <td>73187600</td>\n",
       "    </tr>\n",
       "    <tr>\n",
       "      <th>2016-12-28 00:00:00-05:00</th>\n",
       "      <td>29.379999</td>\n",
       "      <td>29.504999</td>\n",
       "      <td>29.049999</td>\n",
       "      <td>29.190001</td>\n",
       "      <td>27.201420</td>\n",
       "      <td>83623600</td>\n",
       "    </tr>\n",
       "    <tr>\n",
       "      <th>2016-12-29 00:00:00-05:00</th>\n",
       "      <td>29.112499</td>\n",
       "      <td>29.277500</td>\n",
       "      <td>29.100000</td>\n",
       "      <td>29.182501</td>\n",
       "      <td>27.194431</td>\n",
       "      <td>60158000</td>\n",
       "    </tr>\n",
       "  </tbody>\n",
       "</table>\n",
       "<p>1763 rows × 6 columns</p>\n",
       "</div>"
      ],
      "text/plain": [
       "                                Open       High        Low      Close  \\\n",
       "Date                                                                    \n",
       "2009-12-30 00:00:00-05:00   7.458214   7.571429   7.439643   7.558571   \n",
       "2009-12-31 00:00:00-05:00   7.611786   7.619643   7.520000   7.526071   \n",
       "2010-01-04 00:00:00-05:00   7.622500   7.660714   7.585000   7.643214   \n",
       "2010-01-05 00:00:00-05:00   7.664286   7.699643   7.616071   7.656429   \n",
       "2010-01-06 00:00:00-05:00   7.656429   7.686786   7.526786   7.534643   \n",
       "...                              ...        ...        ...        ...   \n",
       "2016-12-22 00:00:00-05:00  29.087500  29.127501  28.910000  29.072500   \n",
       "2016-12-23 00:00:00-05:00  28.897499  29.129999  28.897499  29.129999   \n",
       "2016-12-27 00:00:00-05:00  29.129999  29.450001  29.122499  29.315001   \n",
       "2016-12-28 00:00:00-05:00  29.379999  29.504999  29.049999  29.190001   \n",
       "2016-12-29 00:00:00-05:00  29.112499  29.277500  29.100000  29.182501   \n",
       "\n",
       "                           Adj Close     Volume  \n",
       "Date                                             \n",
       "2009-12-30 00:00:00-05:00   6.415688  412084400  \n",
       "2009-12-31 00:00:00-05:00   6.388103  352410800  \n",
       "2010-01-04 00:00:00-05:00   6.487534  493729600  \n",
       "2010-01-05 00:00:00-05:00   6.498750  601904800  \n",
       "2010-01-06 00:00:00-05:00   6.395380  552160000  \n",
       "...                              ...        ...  \n",
       "2016-12-22 00:00:00-05:00  27.091923  104343600  \n",
       "2016-12-23 00:00:00-05:00  27.145504   56998000  \n",
       "2016-12-27 00:00:00-05:00  27.317904   73187600  \n",
       "2016-12-28 00:00:00-05:00  27.201420   83623600  \n",
       "2016-12-29 00:00:00-05:00  27.194431   60158000  \n",
       "\n",
       "[1763 rows x 6 columns]"
      ]
     },
     "execution_count": 3,
     "metadata": {},
     "output_type": "execute_result"
    }
   ],
   "source": [
    "data"
   ]
  },
  {
   "cell_type": "code",
   "execution_count": 4,
   "metadata": {},
   "outputs": [
    {
     "ename": "",
     "evalue": "",
     "output_type": "error",
     "traceback": [
      "\u001b[1;31mCannot execute code, session has been disposed. Please try restarting the Kernel."
     ]
    },
    {
     "ename": "",
     "evalue": "",
     "output_type": "error",
     "traceback": [
      "\u001b[1;31mThe Kernel crashed while executing code in the the current cell or a previous cell. Please review the code in the cell(s) to identify a possible cause of the failure. Click <a href='https://aka.ms/vscodeJupyterKernelCrash'>here</a> for more info. View Jupyter <a href='command:jupyter.viewOutput'>log</a> for further details."
     ]
    }
   ],
   "source": [
    "data[\"Close\"].plot(\n",
    "    title= \"AAPL close prices\"\n",
    ")"
   ]
  },
  {
   "cell_type": "code",
   "execution_count": 3,
   "metadata": {},
   "outputs": [
    {
     "data": {
      "text/plain": [
       "1763"
      ]
     },
     "execution_count": 3,
     "metadata": {},
     "output_type": "execute_result"
    }
   ],
   "source": [
    "len(data)"
   ]
  },
  {
   "cell_type": "code",
   "execution_count": 4,
   "metadata": {},
   "outputs": [
    {
     "data": {
      "text/plain": [
       "Open         7.622500e+00\n",
       "High         7.660714e+00\n",
       "Low          7.585000e+00\n",
       "Close        7.643214e+00\n",
       "Adj Close    6.487533e+00\n",
       "Volume       4.937296e+08\n",
       "Name: 2010-01-04 00:00:00-05:00, dtype: float64"
      ]
     },
     "execution_count": 4,
     "metadata": {},
     "output_type": "execute_result"
    }
   ],
   "source": [
    "data.iloc[2]"
   ]
  },
  {
   "cell_type": "code",
   "execution_count": 5,
   "metadata": {},
   "outputs": [],
   "source": [
    "class StockDataset(Dataset):\n",
    "    def __init__(self,\n",
    "                 data : Union[pd.Series, pd.DataFrame],\n",
    "                 lookback : int) -> None:\n",
    "        super().__init__()\n",
    "        self.data = data\n",
    "        self.lookback = lookback\n",
    "\n",
    "    def __len__(self):\n",
    "        return len(self.data)\n",
    "    \n",
    "    def __getitem__(self, index : int):\n",
    "        if index < self.lookback:\n",
    "            X =self.data\\\n",
    "                .iloc[:index]\\\n",
    "                .dropna()\\\n",
    "                .values\n",
    "            \n",
    "            X = torch.tensor(X)\n",
    "            X = torch.cat([X, torch.zeros(self.lookback - X.size(0) )])\n",
    "\n",
    "            y = self.data.iloc[index]\n",
    "            if np.isnan(y):\n",
    "                y = 0\n",
    "            return X, y\n",
    "\n",
    "        X = self.data\\\n",
    "            .iloc[index - self.lookback : index]\\\n",
    "            .values\n",
    "\n",
    "        X = torch.tensor(X)\n",
    "\n",
    "        y = self.data.iloc[index]    \n",
    "        return X, y\n",
    "              "
   ]
  },
  {
   "cell_type": "code",
   "execution_count": 58,
   "metadata": {},
   "outputs": [],
   "source": [
    "def load_data(stock, lookback):\n",
    "    data_raw = stock.values # convert to numpy array\n",
    "    data = []\n",
    "    \n",
    "    # create all possible sequences of length look_back\n",
    "    for index in range(len(data_raw) - lookback): \n",
    "        data.append(data_raw[index: index + lookback])\n",
    "    \n",
    "    data = np.array(data)\n",
    "    test_set_size = int(np.round(0.2*data.shape[0]))\n",
    "    train_set_size = data.shape[0] - (test_set_size)\n",
    "    \n",
    "    x_train = data[:train_set_size,:-1,:]\n",
    "    y_train = data[:train_set_size,-1,:]\n",
    "    \n",
    "    x_test = data[train_set_size:,:-1]\n",
    "    y_test = data[train_set_size:,-1,:]\n",
    "\n",
    "    x_train = torch.from_numpy(x_train).type(torch.Tensor)\n",
    "    x_test = torch.from_numpy(x_test).type(torch.Tensor)\n",
    "\n",
    "    y_train = torch.from_numpy(y_train).type(torch.Tensor)\n",
    "    y_test = torch.from_numpy(y_test).type(torch.Tensor)\n",
    "\n",
    "    \n",
    "    return [x_train, y_train, x_test, y_test]"
   ]
  },
  {
   "cell_type": "code",
   "execution_count": 59,
   "metadata": {},
   "outputs": [
    {
     "data": {
      "text/html": [
       "<div>\n",
       "<style scoped>\n",
       "    .dataframe tbody tr th:only-of-type {\n",
       "        vertical-align: middle;\n",
       "    }\n",
       "\n",
       "    .dataframe tbody tr th {\n",
       "        vertical-align: top;\n",
       "    }\n",
       "\n",
       "    .dataframe thead th {\n",
       "        text-align: right;\n",
       "    }\n",
       "</style>\n",
       "<table border=\"1\" class=\"dataframe\">\n",
       "  <thead>\n",
       "    <tr style=\"text-align: right;\">\n",
       "      <th></th>\n",
       "      <th>Open</th>\n",
       "      <th>High</th>\n",
       "      <th>Low</th>\n",
       "      <th>Close</th>\n",
       "      <th>Adj Close</th>\n",
       "      <th>Volume</th>\n",
       "    </tr>\n",
       "    <tr>\n",
       "      <th>Date</th>\n",
       "      <th></th>\n",
       "      <th></th>\n",
       "      <th></th>\n",
       "      <th></th>\n",
       "      <th></th>\n",
       "      <th></th>\n",
       "    </tr>\n",
       "  </thead>\n",
       "  <tbody>\n",
       "    <tr>\n",
       "      <th>2009-12-30 00:00:00-05:00</th>\n",
       "      <td>7.458214</td>\n",
       "      <td>7.571429</td>\n",
       "      <td>7.439643</td>\n",
       "      <td>7.558571</td>\n",
       "      <td>6.415688</td>\n",
       "      <td>412084400</td>\n",
       "    </tr>\n",
       "    <tr>\n",
       "      <th>2009-12-31 00:00:00-05:00</th>\n",
       "      <td>7.611786</td>\n",
       "      <td>7.619643</td>\n",
       "      <td>7.520000</td>\n",
       "      <td>7.526071</td>\n",
       "      <td>6.388103</td>\n",
       "      <td>352410800</td>\n",
       "    </tr>\n",
       "    <tr>\n",
       "      <th>2010-01-04 00:00:00-05:00</th>\n",
       "      <td>7.622500</td>\n",
       "      <td>7.660714</td>\n",
       "      <td>7.585000</td>\n",
       "      <td>7.643214</td>\n",
       "      <td>6.487533</td>\n",
       "      <td>493729600</td>\n",
       "    </tr>\n",
       "    <tr>\n",
       "      <th>2010-01-05 00:00:00-05:00</th>\n",
       "      <td>7.664286</td>\n",
       "      <td>7.699643</td>\n",
       "      <td>7.616071</td>\n",
       "      <td>7.656429</td>\n",
       "      <td>6.498749</td>\n",
       "      <td>601904800</td>\n",
       "    </tr>\n",
       "    <tr>\n",
       "      <th>2010-01-06 00:00:00-05:00</th>\n",
       "      <td>7.656429</td>\n",
       "      <td>7.686786</td>\n",
       "      <td>7.526786</td>\n",
       "      <td>7.534643</td>\n",
       "      <td>6.395379</td>\n",
       "      <td>552160000</td>\n",
       "    </tr>\n",
       "    <tr>\n",
       "      <th>...</th>\n",
       "      <td>...</td>\n",
       "      <td>...</td>\n",
       "      <td>...</td>\n",
       "      <td>...</td>\n",
       "      <td>...</td>\n",
       "      <td>...</td>\n",
       "    </tr>\n",
       "    <tr>\n",
       "      <th>2016-12-22 00:00:00-05:00</th>\n",
       "      <td>29.087500</td>\n",
       "      <td>29.127501</td>\n",
       "      <td>28.910000</td>\n",
       "      <td>29.072500</td>\n",
       "      <td>27.091921</td>\n",
       "      <td>104343600</td>\n",
       "    </tr>\n",
       "    <tr>\n",
       "      <th>2016-12-23 00:00:00-05:00</th>\n",
       "      <td>28.897499</td>\n",
       "      <td>29.129999</td>\n",
       "      <td>28.897499</td>\n",
       "      <td>29.129999</td>\n",
       "      <td>27.145510</td>\n",
       "      <td>56998000</td>\n",
       "    </tr>\n",
       "    <tr>\n",
       "      <th>2016-12-27 00:00:00-05:00</th>\n",
       "      <td>29.129999</td>\n",
       "      <td>29.450001</td>\n",
       "      <td>29.122499</td>\n",
       "      <td>29.315001</td>\n",
       "      <td>27.317902</td>\n",
       "      <td>73187600</td>\n",
       "    </tr>\n",
       "    <tr>\n",
       "      <th>2016-12-28 00:00:00-05:00</th>\n",
       "      <td>29.379999</td>\n",
       "      <td>29.504999</td>\n",
       "      <td>29.049999</td>\n",
       "      <td>29.190001</td>\n",
       "      <td>27.201416</td>\n",
       "      <td>83623600</td>\n",
       "    </tr>\n",
       "    <tr>\n",
       "      <th>2016-12-29 00:00:00-05:00</th>\n",
       "      <td>29.112499</td>\n",
       "      <td>29.277500</td>\n",
       "      <td>29.100000</td>\n",
       "      <td>29.182501</td>\n",
       "      <td>27.194433</td>\n",
       "      <td>60158000</td>\n",
       "    </tr>\n",
       "  </tbody>\n",
       "</table>\n",
       "<p>1763 rows × 6 columns</p>\n",
       "</div>"
      ],
      "text/plain": [
       "                                Open       High        Low      Close  \\\n",
       "Date                                                                    \n",
       "2009-12-30 00:00:00-05:00   7.458214   7.571429   7.439643   7.558571   \n",
       "2009-12-31 00:00:00-05:00   7.611786   7.619643   7.520000   7.526071   \n",
       "2010-01-04 00:00:00-05:00   7.622500   7.660714   7.585000   7.643214   \n",
       "2010-01-05 00:00:00-05:00   7.664286   7.699643   7.616071   7.656429   \n",
       "2010-01-06 00:00:00-05:00   7.656429   7.686786   7.526786   7.534643   \n",
       "...                              ...        ...        ...        ...   \n",
       "2016-12-22 00:00:00-05:00  29.087500  29.127501  28.910000  29.072500   \n",
       "2016-12-23 00:00:00-05:00  28.897499  29.129999  28.897499  29.129999   \n",
       "2016-12-27 00:00:00-05:00  29.129999  29.450001  29.122499  29.315001   \n",
       "2016-12-28 00:00:00-05:00  29.379999  29.504999  29.049999  29.190001   \n",
       "2016-12-29 00:00:00-05:00  29.112499  29.277500  29.100000  29.182501   \n",
       "\n",
       "                           Adj Close     Volume  \n",
       "Date                                             \n",
       "2009-12-30 00:00:00-05:00   6.415688  412084400  \n",
       "2009-12-31 00:00:00-05:00   6.388103  352410800  \n",
       "2010-01-04 00:00:00-05:00   6.487533  493729600  \n",
       "2010-01-05 00:00:00-05:00   6.498749  601904800  \n",
       "2010-01-06 00:00:00-05:00   6.395379  552160000  \n",
       "...                              ...        ...  \n",
       "2016-12-22 00:00:00-05:00  27.091921  104343600  \n",
       "2016-12-23 00:00:00-05:00  27.145510   56998000  \n",
       "2016-12-27 00:00:00-05:00  27.317902   73187600  \n",
       "2016-12-28 00:00:00-05:00  27.201416   83623600  \n",
       "2016-12-29 00:00:00-05:00  27.194433   60158000  \n",
       "\n",
       "[1763 rows x 6 columns]"
      ]
     },
     "execution_count": 59,
     "metadata": {},
     "output_type": "execute_result"
    }
   ],
   "source": [
    "data"
   ]
  },
  {
   "cell_type": "code",
   "execution_count": 60,
   "metadata": {},
   "outputs": [],
   "source": [
    "x_train, y_train, x_test, y_test = load_data(data[[\"Close\"]].pct_change(10).dropna(), lookback = 10)"
   ]
  },
  {
   "cell_type": "code",
   "execution_count": 61,
   "metadata": {},
   "outputs": [
    {
     "data": {
      "text/plain": [
       "tensor([[[-0.0104],\n",
       "         [-0.0228],\n",
       "         [ 0.0048],\n",
       "         ...,\n",
       "         [-0.0420],\n",
       "         [-0.0198],\n",
       "         [ 0.0008]],\n",
       "\n",
       "        [[-0.0228],\n",
       "         [ 0.0048],\n",
       "         [-0.0124],\n",
       "         ...,\n",
       "         [-0.0198],\n",
       "         [ 0.0008],\n",
       "         [-0.0539]],\n",
       "\n",
       "        [[ 0.0048],\n",
       "         [-0.0124],\n",
       "         [-0.0137],\n",
       "         ...,\n",
       "         [ 0.0008],\n",
       "         [-0.0539],\n",
       "         [-0.0829]],\n",
       "\n",
       "        ...,\n",
       "\n",
       "        [[-0.0230],\n",
       "         [-0.0178],\n",
       "         [-0.0302],\n",
       "         ...,\n",
       "         [-0.1232],\n",
       "         [-0.0784],\n",
       "         [-0.0801]],\n",
       "\n",
       "        [[-0.0178],\n",
       "         [-0.0302],\n",
       "         [-0.0478],\n",
       "         ...,\n",
       "         [-0.0784],\n",
       "         [-0.0801],\n",
       "         [-0.0721]],\n",
       "\n",
       "        [[-0.0302],\n",
       "         [-0.0478],\n",
       "         [-0.0642],\n",
       "         ...,\n",
       "         [-0.0801],\n",
       "         [-0.0721],\n",
       "         [-0.0248]]])"
      ]
     },
     "execution_count": 61,
     "metadata": {},
     "output_type": "execute_result"
    }
   ],
   "source": [
    "x_train"
   ]
  },
  {
   "cell_type": "markdown",
   "metadata": {},
   "source": [
    "## Building LSTM model\n"
   ]
  },
  {
   "cell_type": "code",
   "execution_count": 62,
   "metadata": {},
   "outputs": [],
   "source": [
    "lookback = 10\n",
    "input_dim = 1\n",
    "hidden_dim = 32\n",
    "num_layers = 2\n",
    "output_dim = 1\n",
    "num_epochs = 20\n"
   ]
  },
  {
   "cell_type": "code",
   "execution_count": 63,
   "metadata": {},
   "outputs": [],
   "source": [
    "aapl_dataset = StockDataset(\n",
    "    data[\"Close\"].pct_change(),\n",
    "    lookback=lookback\n",
    ")\n",
    "\n",
    "aapl_dataloader = DataLoader(\n",
    "    aapl_dataset,\n",
    "    batch_size= 1,\n",
    "    shuffle= False\n",
    ")"
   ]
  },
  {
   "cell_type": "code",
   "execution_count": 64,
   "metadata": {},
   "outputs": [],
   "source": [
    "class GRU(nn.Module):\n",
    "    def __init__(self, \n",
    "                 input_dim, \n",
    "                 hidden_dim, \n",
    "                 num_layers, \n",
    "                 output_dim\n",
    "                ):\n",
    "        \n",
    "        super(GRU, self).__init__()\n",
    "        self.hidden_dim = hidden_dim\n",
    "        self.num_layers = num_layers\n",
    "        \n",
    "        self.gru = nn.GRU(input_dim, hidden_dim, num_layers, batch_first=True)\n",
    "        self.fc = nn.Linear(hidden_dim, output_dim)\n",
    "\n",
    "    def forward(self, x):\n",
    "        \n",
    "        h0 = torch.zeros(self.num_layers, x.size(0), self.hidden_dim).requires_grad_()\n",
    "        out, (hn, cn) = self.gru(x, (h0.detach()))\n",
    "        out = self.fc(out[:, -1, :]) \n",
    "        return out"
   ]
  },
  {
   "cell_type": "code",
   "execution_count": 65,
   "metadata": {},
   "outputs": [],
   "source": [
    "gru = GRU(\n",
    "    input_dim,\n",
    "    hidden_dim,\n",
    "    num_layers,\n",
    "    output_dim\n",
    ")"
   ]
  },
  {
   "cell_type": "code",
   "execution_count": 66,
   "metadata": {},
   "outputs": [
    {
     "data": {
      "text/plain": [
       "tensor([[-0.1163],\n",
       "        [-0.1162],\n",
       "        [-0.1161],\n",
       "        ...,\n",
       "        [-0.1151],\n",
       "        [-0.1149],\n",
       "        [-0.1150]], grad_fn=<AddmmBackward0>)"
      ]
     },
     "execution_count": 66,
     "metadata": {},
     "output_type": "execute_result"
    }
   ],
   "source": [
    "gru(x_train)"
   ]
  },
  {
   "cell_type": "code",
   "execution_count": 68,
   "metadata": {},
   "outputs": [],
   "source": [
    "treinable_params = sum(p.numel() for p in gru.parameters() if p.requires_grad)"
   ]
  },
  {
   "cell_type": "code",
   "execution_count": 69,
   "metadata": {},
   "outputs": [
    {
     "data": {
      "text/plain": [
       "9729"
      ]
     },
     "execution_count": 69,
     "metadata": {},
     "output_type": "execute_result"
    }
   ],
   "source": [
    "treinable_params"
   ]
  },
  {
   "cell_type": "code",
   "execution_count": 70,
   "metadata": {},
   "outputs": [],
   "source": [
    "loss_fn = torch.nn.BCELoss(reduction='mean')\n",
    "optimiser = torch.optim.Adam(gru.parameters(), lr=0.01)"
   ]
  },
  {
   "cell_type": "code",
   "execution_count": 76,
   "metadata": {},
   "outputs": [
    {
     "data": {
      "text/plain": [
       "torch.Size([349, 9, 1])"
      ]
     },
     "execution_count": 76,
     "metadata": {},
     "output_type": "execute_result"
    }
   ],
   "source": [
    "y_train.size()"
   ]
  },
  {
   "cell_type": "code",
   "execution_count": 73,
   "metadata": {},
   "outputs": [
    {
     "ename": "ValueError",
     "evalue": "Using a target size (torch.Size([349, 9, 1])) that is different to the input size (torch.Size([1394, 1])) is deprecated. Please ensure they have the same size.",
     "output_type": "error",
     "traceback": [
      "\u001b[1;31m---------------------------------------------------------------------------\u001b[0m",
      "\u001b[1;31mValueError\u001b[0m                                Traceback (most recent call last)",
      "\u001b[1;32mc:\\Users\\User\\Desktop\\code\\itau-quant-challenge\\notebooks\\lstm\\01-lstm_data_analyser.ipynb Cell 21\u001b[0m in \u001b[0;36m<cell line: 3>\u001b[1;34m()\u001b[0m\n\u001b[0;32m      <a href='vscode-notebook-cell:/c%3A/Users/User/Desktop/code/itau-quant-challenge/notebooks/lstm/01-lstm_data_analyser.ipynb#X23sZmlsZQ%3D%3D?line=2'>3</a>\u001b[0m \u001b[39mfor\u001b[39;00m t \u001b[39min\u001b[39;00m \u001b[39mrange\u001b[39m(num_epochs):\n\u001b[0;32m      <a href='vscode-notebook-cell:/c%3A/Users/User/Desktop/code/itau-quant-challenge/notebooks/lstm/01-lstm_data_analyser.ipynb#X23sZmlsZQ%3D%3D?line=3'>4</a>\u001b[0m     y_train_pred \u001b[39m=\u001b[39m gru(x_train)\n\u001b[1;32m----> <a href='vscode-notebook-cell:/c%3A/Users/User/Desktop/code/itau-quant-challenge/notebooks/lstm/01-lstm_data_analyser.ipynb#X23sZmlsZQ%3D%3D?line=5'>6</a>\u001b[0m     loss \u001b[39m=\u001b[39m loss_fn(y_train_pred, y_train)\n\u001b[0;32m      <a href='vscode-notebook-cell:/c%3A/Users/User/Desktop/code/itau-quant-challenge/notebooks/lstm/01-lstm_data_analyser.ipynb#X23sZmlsZQ%3D%3D?line=6'>7</a>\u001b[0m     \u001b[39mprint\u001b[39m(\u001b[39m\"\u001b[39m\u001b[39mEpoch \u001b[39m\u001b[39m\"\u001b[39m, t, \u001b[39m\"\u001b[39m\u001b[39mMSE: \u001b[39m\u001b[39m\"\u001b[39m, loss\u001b[39m.\u001b[39mitem())\n\u001b[0;32m      <a href='vscode-notebook-cell:/c%3A/Users/User/Desktop/code/itau-quant-challenge/notebooks/lstm/01-lstm_data_analyser.ipynb#X23sZmlsZQ%3D%3D?line=7'>8</a>\u001b[0m     hist[t] \u001b[39m=\u001b[39m loss\u001b[39m.\u001b[39mitem()\n",
      "File \u001b[1;32mc:\\Users\\User\\anaconda3\\lib\\site-packages\\torch\\nn\\modules\\module.py:1501\u001b[0m, in \u001b[0;36mModule._call_impl\u001b[1;34m(self, *args, **kwargs)\u001b[0m\n\u001b[0;32m   1496\u001b[0m \u001b[39m# If we don't have any hooks, we want to skip the rest of the logic in\u001b[39;00m\n\u001b[0;32m   1497\u001b[0m \u001b[39m# this function, and just call forward.\u001b[39;00m\n\u001b[0;32m   1498\u001b[0m \u001b[39mif\u001b[39;00m \u001b[39mnot\u001b[39;00m (\u001b[39mself\u001b[39m\u001b[39m.\u001b[39m_backward_hooks \u001b[39mor\u001b[39;00m \u001b[39mself\u001b[39m\u001b[39m.\u001b[39m_backward_pre_hooks \u001b[39mor\u001b[39;00m \u001b[39mself\u001b[39m\u001b[39m.\u001b[39m_forward_hooks \u001b[39mor\u001b[39;00m \u001b[39mself\u001b[39m\u001b[39m.\u001b[39m_forward_pre_hooks\n\u001b[0;32m   1499\u001b[0m         \u001b[39mor\u001b[39;00m _global_backward_pre_hooks \u001b[39mor\u001b[39;00m _global_backward_hooks\n\u001b[0;32m   1500\u001b[0m         \u001b[39mor\u001b[39;00m _global_forward_hooks \u001b[39mor\u001b[39;00m _global_forward_pre_hooks):\n\u001b[1;32m-> 1501\u001b[0m     \u001b[39mreturn\u001b[39;00m forward_call(\u001b[39m*\u001b[39margs, \u001b[39m*\u001b[39m\u001b[39m*\u001b[39mkwargs)\n\u001b[0;32m   1502\u001b[0m \u001b[39m# Do not call functions when jit is used\u001b[39;00m\n\u001b[0;32m   1503\u001b[0m full_backward_hooks, non_full_backward_hooks \u001b[39m=\u001b[39m [], []\n",
      "File \u001b[1;32mc:\\Users\\User\\anaconda3\\lib\\site-packages\\torch\\nn\\modules\\loss.py:619\u001b[0m, in \u001b[0;36mBCELoss.forward\u001b[1;34m(self, input, target)\u001b[0m\n\u001b[0;32m    618\u001b[0m \u001b[39mdef\u001b[39;00m \u001b[39mforward\u001b[39m(\u001b[39mself\u001b[39m, \u001b[39minput\u001b[39m: Tensor, target: Tensor) \u001b[39m-\u001b[39m\u001b[39m>\u001b[39m Tensor:\n\u001b[1;32m--> 619\u001b[0m     \u001b[39mreturn\u001b[39;00m F\u001b[39m.\u001b[39;49mbinary_cross_entropy(\u001b[39minput\u001b[39;49m, target, weight\u001b[39m=\u001b[39;49m\u001b[39mself\u001b[39;49m\u001b[39m.\u001b[39;49mweight, reduction\u001b[39m=\u001b[39;49m\u001b[39mself\u001b[39;49m\u001b[39m.\u001b[39;49mreduction)\n",
      "File \u001b[1;32mc:\\Users\\User\\anaconda3\\lib\\site-packages\\torch\\nn\\functional.py:3089\u001b[0m, in \u001b[0;36mbinary_cross_entropy\u001b[1;34m(input, target, weight, size_average, reduce, reduction)\u001b[0m\n\u001b[0;32m   3087\u001b[0m     reduction_enum \u001b[39m=\u001b[39m _Reduction\u001b[39m.\u001b[39mget_enum(reduction)\n\u001b[0;32m   3088\u001b[0m \u001b[39mif\u001b[39;00m target\u001b[39m.\u001b[39msize() \u001b[39m!=\u001b[39m \u001b[39minput\u001b[39m\u001b[39m.\u001b[39msize():\n\u001b[1;32m-> 3089\u001b[0m     \u001b[39mraise\u001b[39;00m \u001b[39mValueError\u001b[39;00m(\n\u001b[0;32m   3090\u001b[0m         \u001b[39m\"\u001b[39m\u001b[39mUsing a target size (\u001b[39m\u001b[39m{}\u001b[39;00m\u001b[39m) that is different to the input size (\u001b[39m\u001b[39m{}\u001b[39;00m\u001b[39m) is deprecated. \u001b[39m\u001b[39m\"\u001b[39m\n\u001b[0;32m   3091\u001b[0m         \u001b[39m\"\u001b[39m\u001b[39mPlease ensure they have the same size.\u001b[39m\u001b[39m\"\u001b[39m\u001b[39m.\u001b[39mformat(target\u001b[39m.\u001b[39msize(), \u001b[39minput\u001b[39m\u001b[39m.\u001b[39msize())\n\u001b[0;32m   3092\u001b[0m     )\n\u001b[0;32m   3094\u001b[0m \u001b[39mif\u001b[39;00m weight \u001b[39mis\u001b[39;00m \u001b[39mnot\u001b[39;00m \u001b[39mNone\u001b[39;00m:\n\u001b[0;32m   3095\u001b[0m     new_size \u001b[39m=\u001b[39m _infer_size(target\u001b[39m.\u001b[39msize(), weight\u001b[39m.\u001b[39msize())\n",
      "\u001b[1;31mValueError\u001b[0m: Using a target size (torch.Size([349, 9, 1])) that is different to the input size (torch.Size([1394, 1])) is deprecated. Please ensure they have the same size."
     ]
    }
   ],
   "source": [
    "hist = np.zeros(num_epochs)\n",
    "\n",
    "for t in range(num_epochs):\n",
    "    y_train_pred = gru(x_train)\n",
    "\n",
    "    loss = loss_fn(y_train_pred, y_train)\n",
    "    print(\"Epoch \", t, \"MSE: \", loss.item())\n",
    "    hist[t] = loss.item()\n",
    "    optimiser.zero_grad()\n",
    "    loss.backward()\n",
    "    optimiser.step()"
   ]
  },
  {
   "cell_type": "code",
   "execution_count": 91,
   "metadata": {},
   "outputs": [
    {
     "ename": "RuntimeError",
     "evalue": "shape '[1, 10, 32]' is invalid for input of size 10",
     "output_type": "error",
     "traceback": [
      "\u001b[0;31m---------------------------------------------------------------------------\u001b[0m",
      "\u001b[0;31mRuntimeError\u001b[0m                              Traceback (most recent call last)",
      "Cell \u001b[0;32mIn[91], line 1\u001b[0m\n\u001b[0;32m----> 1\u001b[0m gru(X_batch\u001b[39m.\u001b[39;49mreshape([\u001b[39m1\u001b[39;49m,\u001b[39m10\u001b[39;49m,\u001b[39m32\u001b[39;49m]))\n",
      "\u001b[0;31mRuntimeError\u001b[0m: shape '[1, 10, 32]' is invalid for input of size 10"
     ]
    }
   ],
   "source": [
    "gru(X_batch)"
   ]
  },
  {
   "cell_type": "code",
   "execution_count": 14,
   "metadata": {},
   "outputs": [
    {
     "name": "stdout",
     "output_type": "stream",
     "text": [
      "tensor([[0., 0., 0., 0., 0., 0., 0., 0., 0., 0.]], dtype=torch.float64)\n",
      "torch.Size([2, 1, 32]) torch.Size([1, 10])\n"
     ]
    },
    {
     "ename": "RuntimeError",
     "evalue": "For unbatched 2-D input, hx should also be 2-D but got 3-D tensor",
     "output_type": "error",
     "traceback": [
      "\u001b[1;31m---------------------------------------------------------------------------\u001b[0m",
      "\u001b[1;31mRuntimeError\u001b[0m                              Traceback (most recent call last)",
      "\u001b[1;32mc:\\Users\\User\\Desktop\\code\\itau-quant-challenge\\notebooks\\lstm\\01-lstm_data_analyser.ipynb Cell 20\u001b[0m in \u001b[0;36m<cell line: 5>\u001b[1;34m()\u001b[0m\n\u001b[0;32m      <a href='vscode-notebook-cell:/c%3A/Users/User/Desktop/code/itau-quant-challenge/notebooks/lstm/01-lstm_data_analyser.ipynb#X25sZmlsZQ%3D%3D?line=6'>7</a>\u001b[0m \u001b[39mfor\u001b[39;00m X_batch, y_batch \u001b[39min\u001b[39;00m aapl_dataloader:\n\u001b[0;32m      <a href='vscode-notebook-cell:/c%3A/Users/User/Desktop/code/itau-quant-challenge/notebooks/lstm/01-lstm_data_analyser.ipynb#X25sZmlsZQ%3D%3D?line=7'>8</a>\u001b[0m     \u001b[39mprint\u001b[39m(X_batch)\n\u001b[1;32m----> <a href='vscode-notebook-cell:/c%3A/Users/User/Desktop/code/itau-quant-challenge/notebooks/lstm/01-lstm_data_analyser.ipynb#X25sZmlsZQ%3D%3D?line=8'>9</a>\u001b[0m     y_train_pred \u001b[39m=\u001b[39m gru(X_batch)\n\u001b[0;32m     <a href='vscode-notebook-cell:/c%3A/Users/User/Desktop/code/itau-quant-challenge/notebooks/lstm/01-lstm_data_analyser.ipynb#X25sZmlsZQ%3D%3D?line=9'>10</a>\u001b[0m     loss \u001b[39m=\u001b[39m loss_fn(y_train_pred, y_batch)\n\u001b[0;32m     <a href='vscode-notebook-cell:/c%3A/Users/User/Desktop/code/itau-quant-challenge/notebooks/lstm/01-lstm_data_analyser.ipynb#X25sZmlsZQ%3D%3D?line=11'>12</a>\u001b[0m     batch_error \u001b[39m=\u001b[39m torch\u001b[39m.\u001b[39mcat([batch_error, torch\u001b[39m.\u001b[39mtensor([loss\u001b[39m.\u001b[39mitem()])])\n",
      "File \u001b[1;32mc:\\Users\\User\\anaconda3\\lib\\site-packages\\torch\\nn\\modules\\module.py:1501\u001b[0m, in \u001b[0;36mModule._call_impl\u001b[1;34m(self, *args, **kwargs)\u001b[0m\n\u001b[0;32m   1496\u001b[0m \u001b[39m# If we don't have any hooks, we want to skip the rest of the logic in\u001b[39;00m\n\u001b[0;32m   1497\u001b[0m \u001b[39m# this function, and just call forward.\u001b[39;00m\n\u001b[0;32m   1498\u001b[0m \u001b[39mif\u001b[39;00m \u001b[39mnot\u001b[39;00m (\u001b[39mself\u001b[39m\u001b[39m.\u001b[39m_backward_hooks \u001b[39mor\u001b[39;00m \u001b[39mself\u001b[39m\u001b[39m.\u001b[39m_backward_pre_hooks \u001b[39mor\u001b[39;00m \u001b[39mself\u001b[39m\u001b[39m.\u001b[39m_forward_hooks \u001b[39mor\u001b[39;00m \u001b[39mself\u001b[39m\u001b[39m.\u001b[39m_forward_pre_hooks\n\u001b[0;32m   1499\u001b[0m         \u001b[39mor\u001b[39;00m _global_backward_pre_hooks \u001b[39mor\u001b[39;00m _global_backward_hooks\n\u001b[0;32m   1500\u001b[0m         \u001b[39mor\u001b[39;00m _global_forward_hooks \u001b[39mor\u001b[39;00m _global_forward_pre_hooks):\n\u001b[1;32m-> 1501\u001b[0m     \u001b[39mreturn\u001b[39;00m forward_call(\u001b[39m*\u001b[39margs, \u001b[39m*\u001b[39m\u001b[39m*\u001b[39mkwargs)\n\u001b[0;32m   1502\u001b[0m \u001b[39m# Do not call functions when jit is used\u001b[39;00m\n\u001b[0;32m   1503\u001b[0m full_backward_hooks, non_full_backward_hooks \u001b[39m=\u001b[39m [], []\n",
      "\u001b[1;32mc:\\Users\\User\\Desktop\\code\\itau-quant-challenge\\notebooks\\lstm\\01-lstm_data_analyser.ipynb Cell 20\u001b[0m in \u001b[0;36mGRU.forward\u001b[1;34m(self, x)\u001b[0m\n\u001b[0;32m     <a href='vscode-notebook-cell:/c%3A/Users/User/Desktop/code/itau-quant-challenge/notebooks/lstm/01-lstm_data_analyser.ipynb#X25sZmlsZQ%3D%3D?line=16'>17</a>\u001b[0m h0 \u001b[39m=\u001b[39m torch\u001b[39m.\u001b[39mzeros(\u001b[39mself\u001b[39m\u001b[39m.\u001b[39mnum_layers, x\u001b[39m.\u001b[39msize(\u001b[39m0\u001b[39m), \u001b[39mself\u001b[39m\u001b[39m.\u001b[39mhidden_dim)\u001b[39m.\u001b[39mrequires_grad_()\n\u001b[0;32m     <a href='vscode-notebook-cell:/c%3A/Users/User/Desktop/code/itau-quant-challenge/notebooks/lstm/01-lstm_data_analyser.ipynb#X25sZmlsZQ%3D%3D?line=17'>18</a>\u001b[0m \u001b[39mprint\u001b[39m(h0\u001b[39m.\u001b[39mshape, x\u001b[39m.\u001b[39mshape)\n\u001b[1;32m---> <a href='vscode-notebook-cell:/c%3A/Users/User/Desktop/code/itau-quant-challenge/notebooks/lstm/01-lstm_data_analyser.ipynb#X25sZmlsZQ%3D%3D?line=18'>19</a>\u001b[0m out, (hn) \u001b[39m=\u001b[39m \u001b[39mself\u001b[39;49m\u001b[39m.\u001b[39;49mgru(x, (h0\u001b[39m.\u001b[39;49mdetach()))\n\u001b[0;32m     <a href='vscode-notebook-cell:/c%3A/Users/User/Desktop/code/itau-quant-challenge/notebooks/lstm/01-lstm_data_analyser.ipynb#X25sZmlsZQ%3D%3D?line=19'>20</a>\u001b[0m out \u001b[39m=\u001b[39m \u001b[39mself\u001b[39m\u001b[39m.\u001b[39mfc(out[:, \u001b[39m-\u001b[39m\u001b[39m1\u001b[39m, :]) \n\u001b[0;32m     <a href='vscode-notebook-cell:/c%3A/Users/User/Desktop/code/itau-quant-challenge/notebooks/lstm/01-lstm_data_analyser.ipynb#X25sZmlsZQ%3D%3D?line=20'>21</a>\u001b[0m \u001b[39mreturn\u001b[39;00m out\n",
      "File \u001b[1;32mc:\\Users\\User\\anaconda3\\lib\\site-packages\\torch\\nn\\modules\\module.py:1501\u001b[0m, in \u001b[0;36mModule._call_impl\u001b[1;34m(self, *args, **kwargs)\u001b[0m\n\u001b[0;32m   1496\u001b[0m \u001b[39m# If we don't have any hooks, we want to skip the rest of the logic in\u001b[39;00m\n\u001b[0;32m   1497\u001b[0m \u001b[39m# this function, and just call forward.\u001b[39;00m\n\u001b[0;32m   1498\u001b[0m \u001b[39mif\u001b[39;00m \u001b[39mnot\u001b[39;00m (\u001b[39mself\u001b[39m\u001b[39m.\u001b[39m_backward_hooks \u001b[39mor\u001b[39;00m \u001b[39mself\u001b[39m\u001b[39m.\u001b[39m_backward_pre_hooks \u001b[39mor\u001b[39;00m \u001b[39mself\u001b[39m\u001b[39m.\u001b[39m_forward_hooks \u001b[39mor\u001b[39;00m \u001b[39mself\u001b[39m\u001b[39m.\u001b[39m_forward_pre_hooks\n\u001b[0;32m   1499\u001b[0m         \u001b[39mor\u001b[39;00m _global_backward_pre_hooks \u001b[39mor\u001b[39;00m _global_backward_hooks\n\u001b[0;32m   1500\u001b[0m         \u001b[39mor\u001b[39;00m _global_forward_hooks \u001b[39mor\u001b[39;00m _global_forward_pre_hooks):\n\u001b[1;32m-> 1501\u001b[0m     \u001b[39mreturn\u001b[39;00m forward_call(\u001b[39m*\u001b[39margs, \u001b[39m*\u001b[39m\u001b[39m*\u001b[39mkwargs)\n\u001b[0;32m   1502\u001b[0m \u001b[39m# Do not call functions when jit is used\u001b[39;00m\n\u001b[0;32m   1503\u001b[0m full_backward_hooks, non_full_backward_hooks \u001b[39m=\u001b[39m [], []\n",
      "File \u001b[1;32mc:\\Users\\User\\anaconda3\\lib\\site-packages\\torch\\nn\\modules\\rnn.py:975\u001b[0m, in \u001b[0;36mGRU.forward\u001b[1;34m(self, input, hx)\u001b[0m\n\u001b[0;32m    973\u001b[0m     \u001b[39mif\u001b[39;00m hx \u001b[39mis\u001b[39;00m \u001b[39mnot\u001b[39;00m \u001b[39mNone\u001b[39;00m:\n\u001b[0;32m    974\u001b[0m         \u001b[39mif\u001b[39;00m hx\u001b[39m.\u001b[39mdim() \u001b[39m!=\u001b[39m \u001b[39m2\u001b[39m:\n\u001b[1;32m--> 975\u001b[0m             \u001b[39mraise\u001b[39;00m \u001b[39mRuntimeError\u001b[39;00m(\n\u001b[0;32m    976\u001b[0m                 \u001b[39mf\u001b[39m\u001b[39m\"\u001b[39m\u001b[39mFor unbatched 2-D input, hx should also be 2-D but got \u001b[39m\u001b[39m{\u001b[39;00mhx\u001b[39m.\u001b[39mdim()\u001b[39m}\u001b[39;00m\u001b[39m-D tensor\u001b[39m\u001b[39m\"\u001b[39m)\n\u001b[0;32m    977\u001b[0m         hx \u001b[39m=\u001b[39m hx\u001b[39m.\u001b[39munsqueeze(\u001b[39m1\u001b[39m)\n\u001b[0;32m    978\u001b[0m \u001b[39melse\u001b[39;00m:\n",
      "\u001b[1;31mRuntimeError\u001b[0m: For unbatched 2-D input, hx should also be 2-D but got 3-D tensor"
     ]
    }
   ],
   "source": [
    "import time\n",
    "history = np.zeros(num_epochs)\n",
    "errors = []\n",
    "\n",
    "for epoch in range(num_epochs):\n",
    "    batch_error = torch.tensor([])\n",
    "    for X_batch, y_batch in aapl_dataloader:\n",
    "        print(X_batch)\n",
    "        y_train_pred = gru(X_batch)\n",
    "        loss = loss_fn(y_train_pred, y_batch)\n",
    "\n",
    "        batch_error = torch.cat([batch_error, torch.tensor([loss.item()])])\n",
    "\n",
    "        history[epoch] = loss.item()\n",
    "\n",
    "        optimiser.zero_grad()\n",
    "        loss.backward()\n",
    "        \n",
    "        optimiser.step()\n",
    "\n",
    "    errors = torch.cat([errors, torch.tensor([batch_error.mean()])])\n",
    "\n",
    "    print(f\"Epoch: {epoch}, mean error: {errors[-1]}\")\n"
   ]
  },
  {
   "cell_type": "code",
   "execution_count": null,
   "metadata": {},
   "outputs": [],
   "source": []
  }
 ],
 "metadata": {
  "kernelspec": {
   "display_name": "base",
   "language": "python",
   "name": "python3"
  },
  "language_info": {
   "codemirror_mode": {
    "name": "ipython",
    "version": 3
   },
   "file_extension": ".py",
   "mimetype": "text/x-python",
   "name": "python",
   "nbconvert_exporter": "python",
   "pygments_lexer": "ipython3",
   "version": "3.9.12"
  },
  "orig_nbformat": 4
 },
 "nbformat": 4,
 "nbformat_minor": 2
}

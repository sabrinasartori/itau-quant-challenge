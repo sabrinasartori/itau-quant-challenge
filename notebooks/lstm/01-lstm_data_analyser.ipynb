{
 "cells": [
  {
   "cell_type": "code",
   "execution_count": 1,
   "metadata": {},
   "outputs": [],
   "source": [
    "%load_ext autoreload\n",
    "%autoreload 2\n"
   ]
  },
  {
   "cell_type": "code",
   "execution_count": 2,
   "metadata": {},
   "outputs": [],
   "source": [
    "import torch\n",
    "import torch.nn as nn\n",
    "import pandas as pd\n",
    "import numpy as np\n",
    "import yfinance as yf\n",
    "import matplotlib.pyplot as plt\n",
    "from torch.utils.data import DataLoader, Dataset\n",
    "from typing import Union\n",
    "from tqdm import tqdm\n",
    "\n",
    "import os \n",
    "\n",
    "while \"notebooks\" in os.getcwd():\n",
    "    os.chdir(\"..\")\n",
    "\n",
    "from src.preprocessing.lstm.make_dataset import StockReturnsDataset"
   ]
  },
  {
   "cell_type": "code",
   "execution_count": 36,
   "metadata": {},
   "outputs": [
    {
     "name": "stdout",
     "output_type": "stream",
     "text": [
      "[*********************100%***********************]  1 of 1 completed\n"
     ]
    }
   ],
   "source": [
    "aapl_prices = yf.download(\n",
    "    tickers= \"AAPL\",\n",
    "    start=\"2000-12-30\",\n",
    "    end=\"2016-12-30\"\n",
    ")"
   ]
  },
  {
   "cell_type": "code",
   "execution_count": 37,
   "metadata": {},
   "outputs": [],
   "source": [
    "prices_df = aapl_prices[[\"Close\"]]"
   ]
  },
  {
   "cell_type": "code",
   "execution_count": 38,
   "metadata": {},
   "outputs": [],
   "source": [
    "returns = prices_df\\\n",
    "    .pct_change(-1)\\\n",
    "    .dropna()"
   ]
  },
  {
   "cell_type": "code",
   "execution_count": 47,
   "metadata": {},
   "outputs": [
    {
     "data": {
      "text/html": [
       "<div>\n",
       "<style scoped>\n",
       "    .dataframe tbody tr th:only-of-type {\n",
       "        vertical-align: middle;\n",
       "    }\n",
       "\n",
       "    .dataframe tbody tr th {\n",
       "        vertical-align: top;\n",
       "    }\n",
       "\n",
       "    .dataframe thead th {\n",
       "        text-align: right;\n",
       "    }\n",
       "</style>\n",
       "<table border=\"1\" class=\"dataframe\">\n",
       "  <thead>\n",
       "    <tr style=\"text-align: right;\">\n",
       "      <th></th>\n",
       "      <th>Close</th>\n",
       "    </tr>\n",
       "    <tr>\n",
       "      <th>Date</th>\n",
       "      <th></th>\n",
       "    </tr>\n",
       "  </thead>\n",
       "  <tbody>\n",
       "    <tr>\n",
       "      <th>2001-01-02</th>\n",
       "      <td>NaN</td>\n",
       "    </tr>\n",
       "    <tr>\n",
       "      <th>2001-01-03</th>\n",
       "      <td>0.100841</td>\n",
       "    </tr>\n",
       "    <tr>\n",
       "      <th>2001-01-04</th>\n",
       "      <td>0.041985</td>\n",
       "    </tr>\n",
       "    <tr>\n",
       "      <th>2001-01-05</th>\n",
       "      <td>-0.040294</td>\n",
       "    </tr>\n",
       "    <tr>\n",
       "      <th>2001-01-08</th>\n",
       "      <td>0.011450</td>\n",
       "    </tr>\n",
       "    <tr>\n",
       "      <th>2001-01-09</th>\n",
       "      <td>0.037737</td>\n",
       "    </tr>\n",
       "    <tr>\n",
       "      <th>2001-01-10</th>\n",
       "      <td>-0.036365</td>\n",
       "    </tr>\n",
       "    <tr>\n",
       "      <th>2001-01-11</th>\n",
       "      <td>0.086794</td>\n",
       "    </tr>\n",
       "    <tr>\n",
       "      <th>2001-01-12</th>\n",
       "      <td>-0.045139</td>\n",
       "    </tr>\n",
       "    <tr>\n",
       "      <th>2001-01-16</th>\n",
       "      <td>-0.003636</td>\n",
       "    </tr>\n",
       "    <tr>\n",
       "      <th>2001-01-17</th>\n",
       "      <td>-0.018250</td>\n",
       "    </tr>\n",
       "    <tr>\n",
       "      <th>2001-01-18</th>\n",
       "      <td>0.111524</td>\n",
       "    </tr>\n",
       "    <tr>\n",
       "      <th>2001-01-19</th>\n",
       "      <td>0.043478</td>\n",
       "    </tr>\n",
       "    <tr>\n",
       "      <th>2001-01-22</th>\n",
       "      <td>-0.012820</td>\n",
       "    </tr>\n",
       "    <tr>\n",
       "      <th>2001-01-23</th>\n",
       "      <td>0.064934</td>\n",
       "    </tr>\n",
       "    <tr>\n",
       "      <th>2001-01-24</th>\n",
       "      <td>0.000000</td>\n",
       "    </tr>\n",
       "    <tr>\n",
       "      <th>2001-01-25</th>\n",
       "      <td>-0.027437</td>\n",
       "    </tr>\n",
       "    <tr>\n",
       "      <th>2001-01-26</th>\n",
       "      <td>-0.018810</td>\n",
       "    </tr>\n",
       "    <tr>\n",
       "      <th>2001-01-29</th>\n",
       "      <td>0.108628</td>\n",
       "    </tr>\n",
       "    <tr>\n",
       "      <th>2001-01-30</th>\n",
       "      <td>0.002882</td>\n",
       "    </tr>\n",
       "    <tr>\n",
       "      <th>2001-01-31</th>\n",
       "      <td>-0.005747</td>\n",
       "    </tr>\n",
       "    <tr>\n",
       "      <th>2001-02-01</th>\n",
       "      <td>-0.023123</td>\n",
       "    </tr>\n",
       "    <tr>\n",
       "      <th>2001-02-02</th>\n",
       "      <td>-0.023667</td>\n",
       "    </tr>\n",
       "    <tr>\n",
       "      <th>2001-02-05</th>\n",
       "      <td>-0.021213</td>\n",
       "    </tr>\n",
       "    <tr>\n",
       "      <th>2001-02-06</th>\n",
       "      <td>0.046439</td>\n",
       "    </tr>\n",
       "    <tr>\n",
       "      <th>2001-02-07</th>\n",
       "      <td>-0.017750</td>\n",
       "    </tr>\n",
       "    <tr>\n",
       "      <th>2001-02-08</th>\n",
       "      <td>0.000000</td>\n",
       "    </tr>\n",
       "    <tr>\n",
       "      <th>2001-02-09</th>\n",
       "      <td>-0.078314</td>\n",
       "    </tr>\n",
       "    <tr>\n",
       "      <th>2001-02-12</th>\n",
       "      <td>0.029413</td>\n",
       "    </tr>\n",
       "    <tr>\n",
       "      <th>2001-02-13</th>\n",
       "      <td>-0.028572</td>\n",
       "    </tr>\n",
       "  </tbody>\n",
       "</table>\n",
       "</div>"
      ],
      "text/plain": [
       "               Close\n",
       "Date                \n",
       "2001-01-02       NaN\n",
       "2001-01-03  0.100841\n",
       "2001-01-04  0.041985\n",
       "2001-01-05 -0.040294\n",
       "2001-01-08  0.011450\n",
       "2001-01-09  0.037737\n",
       "2001-01-10 -0.036365\n",
       "2001-01-11  0.086794\n",
       "2001-01-12 -0.045139\n",
       "2001-01-16 -0.003636\n",
       "2001-01-17 -0.018250\n",
       "2001-01-18  0.111524\n",
       "2001-01-19  0.043478\n",
       "2001-01-22 -0.012820\n",
       "2001-01-23  0.064934\n",
       "2001-01-24  0.000000\n",
       "2001-01-25 -0.027437\n",
       "2001-01-26 -0.018810\n",
       "2001-01-29  0.108628\n",
       "2001-01-30  0.002882\n",
       "2001-01-31 -0.005747\n",
       "2001-02-01 -0.023123\n",
       "2001-02-02 -0.023667\n",
       "2001-02-05 -0.021213\n",
       "2001-02-06  0.046439\n",
       "2001-02-07 -0.017750\n",
       "2001-02-08  0.000000\n",
       "2001-02-09 -0.078314\n",
       "2001-02-12  0.029413\n",
       "2001-02-13 -0.028572"
      ]
     },
     "execution_count": 47,
     "metadata": {},
     "output_type": "execute_result"
    }
   ],
   "source": [
    "prices_df\\\n",
    "    .pct_change()\\\n",
    "    .head(30)"
   ]
  },
  {
   "cell_type": "code",
   "execution_count": 52,
   "metadata": {},
   "outputs": [],
   "source": [
    "past_returns = prices_df\\\n",
    "            .pct_change()\\\n",
    "            .dropna()\n",
    "        \n",
    "future_returns = prices_df\\\n",
    "    .pct_change(-1)\\\n",
    "    .dropna()\\\n",
    "    .Close\n",
    "\n",
    "for i in range(10, 0, -1):\n",
    "    past_returns[f\"d-{i}\"] = past_returns\\\n",
    "        [\"Close\"]\\\n",
    "        .shift(i)\n",
    "\n",
    "    past_returns = past_returns.dropna()\n",
    "\n",
    "idx = future_returns.index\\\n",
    "    .intersection(past_returns.index)\n",
    "\n",
    "past_returns = past_returns\\\n",
    "    .reindex(idx)\n",
    "\n",
    "future_returns = future_returns\\\n",
    "            .reindex(idx)"
   ]
  },
  {
   "cell_type": "code",
   "execution_count": 53,
   "metadata": {},
   "outputs": [
    {
     "data": {
      "text/html": [
       "<div>\n",
       "<style scoped>\n",
       "    .dataframe tbody tr th:only-of-type {\n",
       "        vertical-align: middle;\n",
       "    }\n",
       "\n",
       "    .dataframe tbody tr th {\n",
       "        vertical-align: top;\n",
       "    }\n",
       "\n",
       "    .dataframe thead th {\n",
       "        text-align: right;\n",
       "    }\n",
       "</style>\n",
       "<table border=\"1\" class=\"dataframe\">\n",
       "  <thead>\n",
       "    <tr style=\"text-align: right;\">\n",
       "      <th></th>\n",
       "      <th>Close</th>\n",
       "      <th>d-10</th>\n",
       "      <th>d-9</th>\n",
       "      <th>d-8</th>\n",
       "      <th>d-7</th>\n",
       "      <th>d-6</th>\n",
       "      <th>d-5</th>\n",
       "      <th>d-4</th>\n",
       "      <th>d-3</th>\n",
       "      <th>d-2</th>\n",
       "      <th>d-1</th>\n",
       "    </tr>\n",
       "    <tr>\n",
       "      <th>Date</th>\n",
       "      <th></th>\n",
       "      <th></th>\n",
       "      <th></th>\n",
       "      <th></th>\n",
       "      <th></th>\n",
       "      <th></th>\n",
       "      <th></th>\n",
       "      <th></th>\n",
       "      <th></th>\n",
       "      <th></th>\n",
       "      <th></th>\n",
       "    </tr>\n",
       "  </thead>\n",
       "  <tbody>\n",
       "    <tr>\n",
       "      <th>2001-03-23</th>\n",
       "      <td>0.063582</td>\n",
       "      <td>-0.027028</td>\n",
       "      <td>-0.080247</td>\n",
       "      <td>0.050335</td>\n",
       "      <td>0.044728</td>\n",
       "      <td>-0.036695</td>\n",
       "      <td>-0.003177</td>\n",
       "      <td>0.047773</td>\n",
       "      <td>-0.042553</td>\n",
       "      <td>0.022221</td>\n",
       "      <td>0.074535</td>\n",
       "    </tr>\n",
       "    <tr>\n",
       "      <th>2001-03-26</th>\n",
       "      <td>-0.053042</td>\n",
       "      <td>-0.080247</td>\n",
       "      <td>0.050335</td>\n",
       "      <td>0.044728</td>\n",
       "      <td>-0.036695</td>\n",
       "      <td>-0.003177</td>\n",
       "      <td>0.047773</td>\n",
       "      <td>-0.042553</td>\n",
       "      <td>0.022221</td>\n",
       "      <td>0.074535</td>\n",
       "      <td>0.063582</td>\n",
       "    </tr>\n",
       "    <tr>\n",
       "      <th>2001-03-27</th>\n",
       "      <td>0.050045</td>\n",
       "      <td>0.050335</td>\n",
       "      <td>0.044728</td>\n",
       "      <td>-0.036695</td>\n",
       "      <td>-0.003177</td>\n",
       "      <td>0.047773</td>\n",
       "      <td>-0.042553</td>\n",
       "      <td>0.022221</td>\n",
       "      <td>0.074535</td>\n",
       "      <td>0.063582</td>\n",
       "      <td>-0.053042</td>\n",
       "    </tr>\n",
       "    <tr>\n",
       "      <th>2001-03-28</th>\n",
       "      <td>-0.030608</td>\n",
       "      <td>0.044728</td>\n",
       "      <td>-0.036695</td>\n",
       "      <td>-0.003177</td>\n",
       "      <td>0.047773</td>\n",
       "      <td>-0.042553</td>\n",
       "      <td>0.022221</td>\n",
       "      <td>0.074535</td>\n",
       "      <td>0.063582</td>\n",
       "      <td>-0.053042</td>\n",
       "      <td>0.050045</td>\n",
       "    </tr>\n",
       "    <tr>\n",
       "      <th>2001-03-29</th>\n",
       "      <td>0.016237</td>\n",
       "      <td>-0.036695</td>\n",
       "      <td>-0.003177</td>\n",
       "      <td>0.047773</td>\n",
       "      <td>-0.042553</td>\n",
       "      <td>0.022221</td>\n",
       "      <td>0.074535</td>\n",
       "      <td>0.063582</td>\n",
       "      <td>-0.053042</td>\n",
       "      <td>0.050045</td>\n",
       "      <td>-0.030608</td>\n",
       "    </tr>\n",
       "    <tr>\n",
       "      <th>...</th>\n",
       "      <td>...</td>\n",
       "      <td>...</td>\n",
       "      <td>...</td>\n",
       "      <td>...</td>\n",
       "      <td>...</td>\n",
       "      <td>...</td>\n",
       "      <td>...</td>\n",
       "      <td>...</td>\n",
       "      <td>...</td>\n",
       "      <td>...</td>\n",
       "      <td>...</td>\n",
       "    </tr>\n",
       "    <tr>\n",
       "      <th>2016-12-21</th>\n",
       "      <td>0.000941</td>\n",
       "      <td>0.009823</td>\n",
       "      <td>0.009817</td>\n",
       "      <td>0.016322</td>\n",
       "      <td>-0.005704</td>\n",
       "      <td>0.016681</td>\n",
       "      <td>0.000000</td>\n",
       "      <td>0.005469</td>\n",
       "      <td>0.001295</td>\n",
       "      <td>0.005777</td>\n",
       "      <td>0.002658</td>\n",
       "    </tr>\n",
       "    <tr>\n",
       "      <th>2016-12-22</th>\n",
       "      <td>-0.006578</td>\n",
       "      <td>0.009817</td>\n",
       "      <td>0.016322</td>\n",
       "      <td>-0.005704</td>\n",
       "      <td>0.016681</td>\n",
       "      <td>0.000000</td>\n",
       "      <td>0.005469</td>\n",
       "      <td>0.001295</td>\n",
       "      <td>0.005777</td>\n",
       "      <td>0.002658</td>\n",
       "      <td>0.000941</td>\n",
       "    </tr>\n",
       "    <tr>\n",
       "      <th>2016-12-23</th>\n",
       "      <td>0.001978</td>\n",
       "      <td>0.016322</td>\n",
       "      <td>-0.005704</td>\n",
       "      <td>0.016681</td>\n",
       "      <td>0.000000</td>\n",
       "      <td>0.005469</td>\n",
       "      <td>0.001295</td>\n",
       "      <td>0.005777</td>\n",
       "      <td>0.002658</td>\n",
       "      <td>0.000941</td>\n",
       "      <td>-0.006578</td>\n",
       "    </tr>\n",
       "    <tr>\n",
       "      <th>2016-12-27</th>\n",
       "      <td>0.006351</td>\n",
       "      <td>-0.005704</td>\n",
       "      <td>0.016681</td>\n",
       "      <td>0.000000</td>\n",
       "      <td>0.005469</td>\n",
       "      <td>0.001295</td>\n",
       "      <td>0.005777</td>\n",
       "      <td>0.002658</td>\n",
       "      <td>0.000941</td>\n",
       "      <td>-0.006578</td>\n",
       "      <td>0.001978</td>\n",
       "    </tr>\n",
       "    <tr>\n",
       "      <th>2016-12-28</th>\n",
       "      <td>-0.004264</td>\n",
       "      <td>0.016681</td>\n",
       "      <td>0.000000</td>\n",
       "      <td>0.005469</td>\n",
       "      <td>0.001295</td>\n",
       "      <td>0.005777</td>\n",
       "      <td>0.002658</td>\n",
       "      <td>0.000941</td>\n",
       "      <td>-0.006578</td>\n",
       "      <td>0.001978</td>\n",
       "      <td>0.006351</td>\n",
       "    </tr>\n",
       "  </tbody>\n",
       "</table>\n",
       "<p>3967 rows × 11 columns</p>\n",
       "</div>"
      ],
      "text/plain": [
       "               Close      d-10       d-9       d-8       d-7       d-6  \\\n",
       "Date                                                                     \n",
       "2001-03-23  0.063582 -0.027028 -0.080247  0.050335  0.044728 -0.036695   \n",
       "2001-03-26 -0.053042 -0.080247  0.050335  0.044728 -0.036695 -0.003177   \n",
       "2001-03-27  0.050045  0.050335  0.044728 -0.036695 -0.003177  0.047773   \n",
       "2001-03-28 -0.030608  0.044728 -0.036695 -0.003177  0.047773 -0.042553   \n",
       "2001-03-29  0.016237 -0.036695 -0.003177  0.047773 -0.042553  0.022221   \n",
       "...              ...       ...       ...       ...       ...       ...   \n",
       "2016-12-21  0.000941  0.009823  0.009817  0.016322 -0.005704  0.016681   \n",
       "2016-12-22 -0.006578  0.009817  0.016322 -0.005704  0.016681  0.000000   \n",
       "2016-12-23  0.001978  0.016322 -0.005704  0.016681  0.000000  0.005469   \n",
       "2016-12-27  0.006351 -0.005704  0.016681  0.000000  0.005469  0.001295   \n",
       "2016-12-28 -0.004264  0.016681  0.000000  0.005469  0.001295  0.005777   \n",
       "\n",
       "                 d-5       d-4       d-3       d-2       d-1  \n",
       "Date                                                          \n",
       "2001-03-23 -0.003177  0.047773 -0.042553  0.022221  0.074535  \n",
       "2001-03-26  0.047773 -0.042553  0.022221  0.074535  0.063582  \n",
       "2001-03-27 -0.042553  0.022221  0.074535  0.063582 -0.053042  \n",
       "2001-03-28  0.022221  0.074535  0.063582 -0.053042  0.050045  \n",
       "2001-03-29  0.074535  0.063582 -0.053042  0.050045 -0.030608  \n",
       "...              ...       ...       ...       ...       ...  \n",
       "2016-12-21  0.000000  0.005469  0.001295  0.005777  0.002658  \n",
       "2016-12-22  0.005469  0.001295  0.005777  0.002658  0.000941  \n",
       "2016-12-23  0.001295  0.005777  0.002658  0.000941 -0.006578  \n",
       "2016-12-27  0.005777  0.002658  0.000941 -0.006578  0.001978  \n",
       "2016-12-28  0.002658  0.000941 -0.006578  0.001978  0.006351  \n",
       "\n",
       "[3967 rows x 11 columns]"
      ]
     },
     "execution_count": 53,
     "metadata": {},
     "output_type": "execute_result"
    }
   ],
   "source": [
    "past_returns"
   ]
  },
  {
   "cell_type": "code",
   "execution_count": 54,
   "metadata": {},
   "outputs": [
    {
     "data": {
      "text/plain": [
       "Date\n",
       "2001-03-23    0.056013\n",
       "2001-03-26   -0.047660\n",
       "2001-03-27    0.031574\n",
       "2001-03-28   -0.015977\n",
       "2001-03-29    0.020842\n",
       "                ...   \n",
       "2016-12-21    0.006621\n",
       "2016-12-22   -0.001974\n",
       "2016-12-23   -0.006311\n",
       "2016-12-27    0.004282\n",
       "2016-12-28    0.000257\n",
       "Name: Close, Length: 3967, dtype: float64"
      ]
     },
     "execution_count": 54,
     "metadata": {},
     "output_type": "execute_result"
    }
   ],
   "source": [
    "future_returns"
   ]
  },
  {
   "cell_type": "code",
   "execution_count": 63,
   "metadata": {},
   "outputs": [
    {
     "data": {
      "text/plain": [
       "0.05978125897826723"
      ]
     },
     "execution_count": 63,
     "metadata": {},
     "output_type": "execute_result"
    }
   ],
   "source": [
    "(0.410714 - 0.386161)/0.410714 "
   ]
  },
  {
   "cell_type": "code",
   "execution_count": null,
   "metadata": {},
   "outputs": [],
   "source": []
  },
  {
   "cell_type": "code",
   "execution_count": 132,
   "metadata": {},
   "outputs": [
    {
     "name": "stderr",
     "output_type": "stream",
     "text": [
      "/home/pedro/Desktop/projects/itau-quant-challenge/src/preprocessing/lstm/make_dataset.py:50: PerformanceWarning: DataFrame is highly fragmented.  This is usually the result of calling `frame.insert` many times, which has poor performance.  Consider joining all columns at once using pd.concat(axis=1) instead. To get a de-fragmented frame, use `newframe = frame.copy()`\n",
      "  .Close\n"
     ]
    }
   ],
   "source": [
    "returns_dataset = StockReturnsDataset(prices_df, lookback = 100)"
   ]
  },
  {
   "cell_type": "code",
   "execution_count": 133,
   "metadata": {},
   "outputs": [
    {
     "data": {
      "text/plain": [
       "Date\n",
       "2001-05-29   -0.078716\n",
       "2001-05-30    0.008595\n",
       "2001-05-31    0.047119\n",
       "2001-06-01   -0.011010\n",
       "2001-06-04    0.013553\n",
       "                ...   \n",
       "2016-12-21   -0.006578\n",
       "2016-12-22    0.001978\n",
       "2016-12-23    0.006351\n",
       "2016-12-27   -0.004264\n",
       "2016-12-28   -0.000257\n",
       "Name: Close, Length: 3922, dtype: float64"
      ]
     },
     "execution_count": 133,
     "metadata": {},
     "output_type": "execute_result"
    }
   ],
   "source": [
    "returns_dataset.future_returns"
   ]
  },
  {
   "cell_type": "code",
   "execution_count": 134,
   "metadata": {},
   "outputs": [],
   "source": [
    "returns_dataloader = DataLoader(\n",
    "    returns_dataset,\n",
    "    batch_size= 1,\n",
    "    shuffle=True\n",
    ")"
   ]
  },
  {
   "cell_type": "markdown",
   "metadata": {},
   "source": [
    "## Building LSTM model\n"
   ]
  },
  {
   "cell_type": "code",
   "execution_count": 124,
   "metadata": {},
   "outputs": [],
   "source": [
    "lookback = 100\n",
    "input_dim = 1\n",
    "hidden_dim = 5\n",
    "num_layers = 2\n",
    "output_dim = 1\n",
    "num_epochs = 20"
   ]
  },
  {
   "cell_type": "code",
   "execution_count": 125,
   "metadata": {},
   "outputs": [],
   "source": [
    "class LSTM(nn.Module):\n",
    "    def __init__(self, \n",
    "                 input_dim, \n",
    "                 hidden_dim, \n",
    "                 num_layers, \n",
    "                 output_dim\n",
    "                ):\n",
    "        \n",
    "        super(LSTM, self).__init__()\n",
    "        self.hidden_dim = hidden_dim\n",
    "        self.num_layers = num_layers\n",
    "        \n",
    "        self.lstm = nn.LSTM(input_dim, hidden_dim, num_layers, batch_first=True)\n",
    "        self.fc = nn.Linear(hidden_dim, output_dim)\n",
    "\n",
    "    def forward(self, x):\n",
    "        \n",
    "        h0 = torch.zeros(self.num_layers, x.size(0), self.hidden_dim).requires_grad_()\n",
    "        c0 = torch.zeros(self.num_layers, x.size(0), self.hidden_dim).requires_grad_()\n",
    "        # print(h0.shape, x.shape)\n",
    "        out, (h, c) = self.lstm(x, (h0, c0))\n",
    "        out = self.fc(out[:, -1, :]) \n",
    "        return out"
   ]
  },
  {
   "cell_type": "code",
   "execution_count": 126,
   "metadata": {},
   "outputs": [],
   "source": [
    "model = LSTM(\n",
    "    input_dim,\n",
    "    hidden_dim,\n",
    "    num_layers,\n",
    "    output_dim\n",
    ")"
   ]
  },
  {
   "cell_type": "code",
   "execution_count": 127,
   "metadata": {},
   "outputs": [],
   "source": [
    "treinable_params = sum(p.numel() for p in model.parameters() if p.requires_grad)"
   ]
  },
  {
   "cell_type": "code",
   "execution_count": 128,
   "metadata": {},
   "outputs": [
    {
     "data": {
      "text/plain": [
       "406"
      ]
     },
     "execution_count": 128,
     "metadata": {},
     "output_type": "execute_result"
    }
   ],
   "source": [
    "treinable_params"
   ]
  },
  {
   "cell_type": "code",
   "execution_count": 129,
   "metadata": {},
   "outputs": [],
   "source": [
    "loss_fn = torch.nn.MSELoss()\n",
    "optimiser = torch.optim.Adam(model.parameters(), lr=0.001)"
   ]
  },
  {
   "cell_type": "code",
   "execution_count": 130,
   "metadata": {},
   "outputs": [
    {
     "data": {
      "text/plain": [
       "(tensor([[[-0.0560],\n",
       "          [-0.0589],\n",
       "          [ 0.0402],\n",
       "          [-0.0441],\n",
       "          [ 0.0107],\n",
       "          [-0.0706],\n",
       "          [ 0.0588],\n",
       "          [ 0.0140],\n",
       "          [-0.0188],\n",
       "          [-0.0445]],\n",
       " \n",
       "         [[ 0.0060],\n",
       "          [ 0.0340],\n",
       "          [ 0.0370],\n",
       "          [ 0.0291],\n",
       "          [ 0.0212],\n",
       "          [-0.0291],\n",
       "          [ 0.0115],\n",
       "          [ 0.0279],\n",
       "          [ 0.0054],\n",
       "          [-0.0159]],\n",
       " \n",
       "         [[ 0.0134],\n",
       "          [-0.0184],\n",
       "          [-0.0171],\n",
       "          [ 0.0023],\n",
       "          [-0.0049],\n",
       "          [ 0.0320],\n",
       "          [ 0.0565],\n",
       "          [-0.0376],\n",
       "          [-0.0263],\n",
       "          [ 0.0237]],\n",
       " \n",
       "         [[-0.0012],\n",
       "          [-0.0169],\n",
       "          [ 0.0105],\n",
       "          [ 0.0021],\n",
       "          [ 0.0103],\n",
       "          [ 0.0158],\n",
       "          [-0.0132],\n",
       "          [ 0.0023],\n",
       "          [-0.0090],\n",
       "          [ 0.0301]],\n",
       " \n",
       "         [[ 0.0199],\n",
       "          [-0.0013],\n",
       "          [-0.0141],\n",
       "          [ 0.0198],\n",
       "          [-0.0154],\n",
       "          [ 0.0014],\n",
       "          [-0.0149],\n",
       "          [ 0.0007],\n",
       "          [-0.0234],\n",
       "          [ 0.0092]],\n",
       " \n",
       "         [[ 0.0121],\n",
       "          [-0.0084],\n",
       "          [ 0.0405],\n",
       "          [-0.0155],\n",
       "          [ 0.0064],\n",
       "          [ 0.0165],\n",
       "          [-0.0039],\n",
       "          [ 0.0037],\n",
       "          [ 0.0029],\n",
       "          [ 0.0626]],\n",
       " \n",
       "         [[ 0.0181],\n",
       "          [-0.0049],\n",
       "          [ 0.0179],\n",
       "          [-0.0202],\n",
       "          [ 0.0189],\n",
       "          [ 0.0668],\n",
       "          [ 0.0021],\n",
       "          [ 0.0030],\n",
       "          [-0.0176],\n",
       "          [ 0.0207]],\n",
       " \n",
       "         [[ 0.0091],\n",
       "          [ 0.0280],\n",
       "          [ 0.0344],\n",
       "          [ 0.0487],\n",
       "          [-0.0089],\n",
       "          [-0.0067],\n",
       "          [ 0.0108],\n",
       "          [ 0.0397],\n",
       "          [-0.0056],\n",
       "          [-0.0121]],\n",
       " \n",
       "         [[-0.0109],\n",
       "          [ 0.0323],\n",
       "          [-0.0225],\n",
       "          [-0.0411],\n",
       "          [ 0.0572],\n",
       "          [ 0.0162],\n",
       "          [ 0.0164],\n",
       "          [ 0.0410],\n",
       "          [-0.0513],\n",
       "          [-0.0128]],\n",
       " \n",
       "         [[-0.0129],\n",
       "          [ 0.0011],\n",
       "          [-0.0092],\n",
       "          [-0.0165],\n",
       "          [ 0.0153],\n",
       "          [ 0.0045],\n",
       "          [-0.0230],\n",
       "          [-0.0446],\n",
       "          [ 0.0140],\n",
       "          [-0.0119]]]),\n",
       " tensor([[ 0.0464],\n",
       "         [ 0.0324],\n",
       "         [-0.0286],\n",
       "         [-0.0581],\n",
       "         [-0.0185],\n",
       "         [-0.0014],\n",
       "         [-0.0154],\n",
       "         [ 0.0165],\n",
       "         [ 0.0375],\n",
       "         [ 0.0056]]))"
      ]
     },
     "execution_count": 130,
     "metadata": {},
     "output_type": "execute_result"
    }
   ],
   "source": [
    "X, y"
   ]
  },
  {
   "cell_type": "code",
   "execution_count": 131,
   "metadata": {},
   "outputs": [
    {
     "name": "stderr",
     "output_type": "stream",
     "text": [
      "  0%|          | 0/4012 [00:00<?, ?it/s]"
     ]
    },
    {
     "name": "stderr",
     "output_type": "stream",
     "text": [
      "100%|██████████| 4012/4012 [00:10<00:00, 385.01it/s]\n"
     ]
    },
    {
     "name": "stdout",
     "output_type": "stream",
     "text": [
      "Epoch 1 accuracy : 0.517198383808136\n"
     ]
    },
    {
     "name": "stderr",
     "output_type": "stream",
     "text": [
      "100%|██████████| 4012/4012 [00:10<00:00, 380.95it/s]\n"
     ]
    },
    {
     "name": "stdout",
     "output_type": "stream",
     "text": [
      "Epoch 2 accuracy : 0.47756728529930115\n"
     ]
    },
    {
     "name": "stderr",
     "output_type": "stream",
     "text": [
      "100%|██████████| 4012/4012 [00:11<00:00, 363.07it/s]\n"
     ]
    },
    {
     "name": "stdout",
     "output_type": "stream",
     "text": [
      "Epoch 3 accuracy : 0.517198383808136\n"
     ]
    },
    {
     "name": "stderr",
     "output_type": "stream",
     "text": [
      "100%|██████████| 4012/4012 [00:11<00:00, 357.94it/s]\n"
     ]
    },
    {
     "name": "stdout",
     "output_type": "stream",
     "text": [
      "Epoch 4 accuracy : 0.517198383808136\n"
     ]
    },
    {
     "name": "stderr",
     "output_type": "stream",
     "text": [
      "100%|██████████| 4012/4012 [00:10<00:00, 370.19it/s]\n"
     ]
    },
    {
     "name": "stdout",
     "output_type": "stream",
     "text": [
      "Epoch 5 accuracy : 0.517198383808136\n"
     ]
    },
    {
     "name": "stderr",
     "output_type": "stream",
     "text": [
      "100%|██████████| 4012/4012 [00:10<00:00, 382.62it/s]\n"
     ]
    },
    {
     "name": "stdout",
     "output_type": "stream",
     "text": [
      "Epoch 6 accuracy : 0.47756728529930115\n"
     ]
    },
    {
     "name": "stderr",
     "output_type": "stream",
     "text": [
      "100%|██████████| 4012/4012 [00:11<00:00, 364.26it/s]\n"
     ]
    },
    {
     "name": "stdout",
     "output_type": "stream",
     "text": [
      "Epoch 7 accuracy : 0.47756728529930115\n"
     ]
    },
    {
     "name": "stderr",
     "output_type": "stream",
     "text": [
      "100%|██████████| 4012/4012 [00:13<00:00, 289.26it/s]\n"
     ]
    },
    {
     "name": "stdout",
     "output_type": "stream",
     "text": [
      "Epoch 8 accuracy : 0.5196909308433533\n"
     ]
    },
    {
     "name": "stderr",
     "output_type": "stream",
     "text": [
      "100%|██████████| 4012/4012 [00:10<00:00, 395.20it/s]\n"
     ]
    },
    {
     "name": "stdout",
     "output_type": "stream",
     "text": [
      "Epoch 9 accuracy : 0.517198383808136\n"
     ]
    },
    {
     "name": "stderr",
     "output_type": "stream",
     "text": [
      "100%|██████████| 4012/4012 [00:13<00:00, 301.15it/s]\n"
     ]
    },
    {
     "name": "stdout",
     "output_type": "stream",
     "text": [
      "Epoch 10 accuracy : 0.5216849446296692\n"
     ]
    },
    {
     "name": "stderr",
     "output_type": "stream",
     "text": [
      "100%|██████████| 4012/4012 [00:10<00:00, 397.02it/s]\n"
     ]
    },
    {
     "name": "stdout",
     "output_type": "stream",
     "text": [
      "Epoch 11 accuracy : 0.5176969170570374\n"
     ]
    },
    {
     "name": "stderr",
     "output_type": "stream",
     "text": [
      "100%|██████████| 4012/4012 [00:12<00:00, 321.09it/s]\n"
     ]
    },
    {
     "name": "stdout",
     "output_type": "stream",
     "text": [
      "Epoch 12 accuracy : 0.5174476504325867\n"
     ]
    },
    {
     "name": "stderr",
     "output_type": "stream",
     "text": [
      "100%|██████████| 4012/4012 [00:13<00:00, 287.90it/s]\n"
     ]
    },
    {
     "name": "stdout",
     "output_type": "stream",
     "text": [
      "Epoch 13 accuracy : 0.518195390701294\n"
     ]
    },
    {
     "name": "stderr",
     "output_type": "stream",
     "text": [
      "100%|██████████| 4012/4012 [00:13<00:00, 306.48it/s]\n"
     ]
    },
    {
     "name": "stdout",
     "output_type": "stream",
     "text": [
      "Epoch 14 accuracy : 0.4975074827671051\n"
     ]
    },
    {
     "name": "stderr",
     "output_type": "stream",
     "text": [
      "100%|██████████| 4012/4012 [00:12<00:00, 327.83it/s]\n"
     ]
    },
    {
     "name": "stdout",
     "output_type": "stream",
     "text": [
      "Epoch 15 accuracy : 0.519940197467804\n"
     ]
    },
    {
     "name": "stderr",
     "output_type": "stream",
     "text": [
      "100%|██████████| 4012/4012 [00:10<00:00, 371.77it/s]\n"
     ]
    },
    {
     "name": "stdout",
     "output_type": "stream",
     "text": [
      "Epoch 16 accuracy : 0.5062313079833984\n"
     ]
    },
    {
     "name": "stderr",
     "output_type": "stream",
     "text": [
      "100%|██████████| 4012/4012 [00:12<00:00, 316.93it/s]\n"
     ]
    },
    {
     "name": "stdout",
     "output_type": "stream",
     "text": [
      "Epoch 17 accuracy : 0.5176969170570374\n"
     ]
    },
    {
     "name": "stderr",
     "output_type": "stream",
     "text": [
      "100%|██████████| 4012/4012 [00:11<00:00, 342.39it/s]\n"
     ]
    },
    {
     "name": "stdout",
     "output_type": "stream",
     "text": [
      "Epoch 18 accuracy : 0.517198383808136\n"
     ]
    },
    {
     "name": "stderr",
     "output_type": "stream",
     "text": [
      "100%|██████████| 4012/4012 [00:11<00:00, 340.73it/s]\n"
     ]
    },
    {
     "name": "stdout",
     "output_type": "stream",
     "text": [
      "Epoch 19 accuracy : 0.518943190574646\n"
     ]
    },
    {
     "name": "stderr",
     "output_type": "stream",
     "text": [
      "100%|██████████| 4012/4012 [00:10<00:00, 367.88it/s]\n"
     ]
    },
    {
     "name": "stdout",
     "output_type": "stream",
     "text": [
      "Epoch 20 accuracy : 0.48953139781951904\n"
     ]
    }
   ],
   "source": [
    "hist = np.zeros(num_epochs)\n",
    "\n",
    "for t in (range(num_epochs)):\n",
    "    for X, y in tqdm(returns_dataloader):\n",
    "        y_train_pred = model(X)\n",
    "\n",
    "        loss = loss_fn(y_train_pred, y)\n",
    "        \n",
    "        hist[t] = loss.item()\n",
    "        optimiser.zero_grad()\n",
    "        loss.backward()\n",
    "        optimiser.step()\n",
    "\n",
    "    with torch.no_grad():\n",
    "        y_pred = model(returns_dataset[:][0])\n",
    "        y = returns_dataset[:][1]\n",
    "        epoch_accuracy = (y_pred.sign() == y.sign()).sum()/y.size(0)\n",
    "\n",
    "        print(f\"Epoch {t+1} accuracy : {epoch_accuracy}\")"
   ]
  },
  {
   "cell_type": "code",
   "execution_count": 113,
   "metadata": {},
   "outputs": [
    {
     "data": {
      "text/plain": [
       "array([6.20609440e-04, 1.21760252e-03, 3.61778715e-04, 1.43581280e-03,\n",
       "       4.49815823e-04, 2.63162469e-03, 2.29830021e-05, 1.37747370e-03,\n",
       "       1.28702712e-04, 1.52274035e-04, 1.19904277e-03, 1.67016638e-04,\n",
       "       1.53039291e-05, 4.10288747e-04, 4.14957380e-04, 4.32084635e-05,\n",
       "       2.35700369e-04, 1.12152286e-03, 3.36647063e-04, 2.39328248e-04])"
      ]
     },
     "execution_count": 113,
     "metadata": {},
     "output_type": "execute_result"
    }
   ],
   "source": [
    "hist"
   ]
  },
  {
   "cell_type": "code",
   "execution_count": 40,
   "metadata": {},
   "outputs": [],
   "source": [
    "y_pred = gru(returns_dataset[:][0])"
   ]
  },
  {
   "cell_type": "code",
   "execution_count": 45,
   "metadata": {},
   "outputs": [],
   "source": [
    "y = returns_dataset[:][1]"
   ]
  },
  {
   "cell_type": "code",
   "execution_count": 49,
   "metadata": {},
   "outputs": [
    {
     "data": {
      "text/plain": [
       "tensor(0.5223)"
      ]
     },
     "execution_count": 49,
     "metadata": {},
     "output_type": "execute_result"
    }
   ],
   "source": [
    "(y_pred.sign() == y.sign()).sum()/y.size(0)"
   ]
  },
  {
   "cell_type": "code",
   "execution_count": 51,
   "metadata": {},
   "outputs": [
    {
     "name": "stdout",
     "output_type": "stream",
     "text": [
      "[*********************100%***********************]  1 of 1 completed\n"
     ]
    }
   ],
   "source": [
    "aapl_validation = yf.download(\n",
    "    tickers= \"AAPL\",\n",
    "    start=\"2016-12-30\",\n",
    "    end=\"2018-12-30\"\n",
    ")"
   ]
  },
  {
   "cell_type": "code",
   "execution_count": 54,
   "metadata": {},
   "outputs": [],
   "source": [
    "returns_val = aapl_validation\\\n",
    "    .pct_change()\\\n",
    "    .dropna()"
   ]
  }
 ],
 "metadata": {
  "kernelspec": {
   "display_name": "base",
   "language": "python",
   "name": "python3"
  },
  "language_info": {
   "codemirror_mode": {
    "name": "ipython",
    "version": 3
   },
   "file_extension": ".py",
   "mimetype": "text/x-python",
   "name": "python",
   "nbconvert_exporter": "python",
   "pygments_lexer": "ipython3",
   "version": "3.10.9"
  },
  "orig_nbformat": 4
 },
 "nbformat": 4,
 "nbformat_minor": 2
}
